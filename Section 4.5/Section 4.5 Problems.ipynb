{
 "cells": [
  {
   "cell_type": "markdown",
   "source": [
    "## P4.5.1\r\n",
    "----"
   ],
   "metadata": {}
  },
  {
   "cell_type": "code",
   "execution_count": 12,
   "source": [
    "import random\r\n",
    "import math\r\n",
    "\r\n",
    "N = 100000\r\n",
    "\r\n",
    "def func(t):\r\n",
    "    return math.exp(-t**2)\r\n",
    "\r\n",
    "\r\n",
    "x = 0.5\r\n",
    "i = 0\r\n",
    "I = 0.0\r\n",
    "y_min = func(x)\r\n",
    "\r\n",
    "while i < N:\r\n",
    "    i += 1\r\n",
    "    x_i = x * random.random()\r\n",
    "    y_i = y_min + (1.0 - y_min) * random.random()\r\n",
    "    if y_i <= func(x_i):\r\n",
    "        I += 1.0\r\n",
    "\r\n",
    "I /= N\r\n",
    "I *= x * (1.0 - y_min)\r\n",
    "I += x * y_min\r\n",
    "I *= 2.0 / math.sqrt(math.pi)\r\n",
    "\r\n",
    "print('Built-in erf(0.5) = {}'.format(math.erf(x)))\r\n",
    "print('Monte Carlo (N = {}) estimate for erf(0.5) = {}'.format(N, I))"
   ],
   "outputs": [
    {
     "output_type": "stream",
     "name": "stdout",
     "text": [
      "Built-in erf(0.5) = 0.5204998778130465\n",
      "Monte Carlo (N = 100000) estimate for erf(0.5) = 0.5204115899674212\n"
     ]
    }
   ],
   "metadata": {}
  }
 ],
 "metadata": {
  "orig_nbformat": 4,
  "language_info": {
   "name": "python",
   "version": "3.8.5",
   "mimetype": "text/x-python",
   "codemirror_mode": {
    "name": "ipython",
    "version": 3
   },
   "pygments_lexer": "ipython3",
   "nbconvert_exporter": "python",
   "file_extension": ".py"
  },
  "kernelspec": {
   "name": "python3",
   "display_name": "Python 3.8.5 64-bit ('base': conda)"
  },
  "interpreter": {
   "hash": "d2bc6b4c9da03010ac150b121b41a6774448383ed127203916f2efbc81d8799e"
  }
 },
 "nbformat": 4,
 "nbformat_minor": 2
}