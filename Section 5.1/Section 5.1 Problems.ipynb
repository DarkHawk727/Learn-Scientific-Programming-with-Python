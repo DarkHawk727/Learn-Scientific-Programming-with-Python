{
 "cells": [
  {
   "cell_type": "markdown",
   "source": [
    "## P5.1.1\r\n",
    "----"
   ],
   "metadata": {}
  },
  {
   "cell_type": "code",
   "execution_count": 27,
   "source": [
    "%%timeit\r\n",
    "\r\n",
    "n = 150\r\n",
    "factors = set()\r\n",
    "\r\n",
    "for i in range(1, n+1):\r\n",
    "    if not n % i:\r\n",
    "        factors.add(i)\r\n"
   ],
   "outputs": [
    {
     "output_type": "stream",
     "name": "stdout",
     "text": [
      "6.19 µs ± 59.4 ns per loop (mean ± std. dev. of 7 runs, 100000 loops each)\n"
     ]
    }
   ],
   "metadata": {}
  },
  {
   "cell_type": "code",
   "execution_count": 41,
   "source": [
    "%%timeit\r\n",
    "# a)\r\n",
    "import math\r\n",
    "\r\n",
    "n = 150\r\n",
    "factors = set()\r\n",
    "\r\n",
    "for i in range(1, int(math.sqrt(n)) + 1):\r\n",
    "    if not n % i:\r\n",
    "        factors.add(i)\r\n",
    "        factors.add(n // i)\r\n",
    "\r\n",
    "# Bruh"
   ],
   "outputs": [
    {
     "output_type": "stream",
     "name": "stdout",
     "text": [
      "3.31 µs ± 6.64 ns per loop (mean ± std. dev. of 7 runs, 100000 loops each)\n"
     ]
    }
   ],
   "metadata": {}
  },
  {
   "cell_type": "code",
   "execution_count": 35,
   "source": [
    "%%timeit\r\n",
    "# b)\r\n",
    "import math\r\n",
    "\r\n",
    "def generate_factors(n):\r\n",
    "    yield 1\r\n",
    "    for i in range(2, int(math.sqrt(n)) + 1):\r\n",
    "        if not n % i:\r\n",
    "            yield i\r\n",
    "            yield n // i\r\n",
    "    yield n\r\n",
    "\r\n",
    "def get_factors(n):\r\n",
    "    return set(generate_factors(n))\r\n",
    "\r\n",
    "get_factors(150)\r\n"
   ],
   "outputs": [
    {
     "output_type": "stream",
     "name": "stdout",
     "text": [
      "1.95 µs ± 2.24 ns per loop (mean ± std. dev. of 7 runs, 1000000 loops each)\n"
     ]
    }
   ],
   "metadata": {}
  },
  {
   "cell_type": "markdown",
   "source": [
    "## P5.1.2\r\n",
    "-----"
   ],
   "metadata": {}
  },
  {
   "cell_type": "code",
   "execution_count": 44,
   "source": [
    "%%timeit\r\n",
    "\r\n",
    "import math\r\n",
    "\r\n",
    "def generate_factors(n):\r\n",
    "    yield 1\r\n",
    "    for i in range(2, int(math.sqrt(n)) + 1):\r\n",
    "        if not n % i:\r\n",
    "            yield i\r\n",
    "            yield n // i\r\n",
    "    yield n\r\n",
    "\r\n",
    "def get_factors(n):\r\n",
    "    return set(generate_factors(n))\r\n",
    "\r\n",
    "n_max = 100000\r\n",
    "n_f_max = 0\r\n",
    "highly_composite_numbers = []\r\n",
    "\r\n",
    "for i in range(1, n_max + 1):\r\n",
    "    num_factors = len(get_factors(i))\r\n",
    "    if num_factors > n_f_max:\r\n",
    "        highly_composite_numbers.append((i, num_factors))\r\n",
    "        n_f_max = num_factors\r\n"
   ],
   "outputs": [
    {
     "output_type": "stream",
     "name": "stdout",
     "text": [
      "924 ms ± 3.58 ms per loop (mean ± std. dev. of 7 runs, 1 loop each)\n"
     ]
    }
   ],
   "metadata": {}
  }
 ],
 "metadata": {
  "orig_nbformat": 4,
  "language_info": {
   "name": "python",
   "version": "3.8.5",
   "mimetype": "text/x-python",
   "codemirror_mode": {
    "name": "ipython",
    "version": 3
   },
   "pygments_lexer": "ipython3",
   "nbconvert_exporter": "python",
   "file_extension": ".py"
  },
  "kernelspec": {
   "name": "python3",
   "display_name": "Python 3.8.5 64-bit ('base': conda)"
  },
  "interpreter": {
   "hash": "d2bc6b4c9da03010ac150b121b41a6774448383ed127203916f2efbc81d8799e"
  }
 },
 "nbformat": 4,
 "nbformat_minor": 2
}