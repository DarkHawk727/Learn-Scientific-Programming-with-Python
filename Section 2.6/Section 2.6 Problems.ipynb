{
 "cells": [
  {
   "cell_type": "markdown",
   "source": [
    "## P2.6.1\n",
    "----"
   ],
   "metadata": {}
  },
  {
   "cell_type": "code",
   "execution_count": 2,
   "source": [
    "redwoodData = open('C:/Users/arjun/redwood-data.txt', 'r')\r\n",
    "\r\n",
    "names, locations, diameters, heights = [], [], [], []\r\n",
    "sortedDiameters, sortedHeights = [], []\r\n",
    "\r\n",
    "for lines in redwoodData.readlines()[3:38]:\r\n",
    "    fields =  lines.split('\t')\r\n",
    "    names.append(fields[0])\r\n",
    "    locations.append(fields[1])\r\n",
    "    diameters.append(float(fields[2]))\r\n",
    "    heights.append(float(fields[3]))\r\n",
    "redwoodData.close()\r\n",
    "\r\n",
    "indexDiameters = diameters.index(max(diameters))\r\n",
    "print('The tree with the largest diameter is: {} in {} with diameter: {} and height: {}'.format(names[indexDiameters], locations[indexDiameters], diameters[indexDiameters], heights[indexDiameters]))\r\n",
    "\r\n",
    "indexHeights = heights.index(max(heights))\r\n",
    "print('The tallest tree is: {} in {} with diameter: {} and height: {}'.format(names[indexHeights], locations[indexHeights], diameters[indexHeights], heights[indexHeights]))"
   ],
   "outputs": [
    {
     "output_type": "stream",
     "name": "stdout",
     "text": [
      "The tree with the largest diameter is: Stratosphere Giant in Humboldt Redwoods State Park with diameter: 5.18 and height: 113.05\n",
      "The tallest tree is: Hyperion in Redwood National Park with diameter: 4.84 and height: 115.61\n"
     ]
    }
   ],
   "metadata": {}
  },
  {
   "cell_type": "markdown",
   "source": [
    "## P2.6.2\n",
    "----"
   ],
   "metadata": {}
  },
  {
   "cell_type": "code",
   "execution_count": 122,
   "source": [
    "# His thought process was on so many levels that he gave himself a phobia of heights.\r\n",
    "file = open('C:/Users/arjun/sample.txt', 'r')\r\n",
    "bannedWords = ['levels', 'process', 'phobia']\r\n",
    "\r\n",
    "for line in file.readlines():\r\n",
    "    fields = line\r\n",
    "fields = fields.split(' ')\r\n",
    "\r\n",
    "for word in fields:\r\n",
    "    if word in bannedWords:\r\n",
    "        print('*' * len(word), end=' ')\r\n",
    "    else:\r\n",
    "        print(word, end=' ')"
   ],
   "outputs": [
    {
     "output_type": "stream",
     "name": "stdout",
     "text": [
      "His thought ******* was on so many ****** that he gave himself a ****** of heights. "
     ]
    }
   ],
   "metadata": {}
  },
  {
   "cell_type": "markdown",
   "source": [
    "## P2.6.3\n",
    "----"
   ],
   "metadata": {}
  },
  {
   "cell_type": "code",
   "execution_count": 22,
   "source": [
    "# I added hypens between some of the names of the planets for ease of use\r\n",
    "data = open('C:/Users/arjun/ex2-6-g-esi.txt', 'r')\r\n",
    "\r\n",
    "names = []\r\n",
    "radius, density, v_esc, T_surf = [], [], [], []\r\n",
    "ESI = []\r\n",
    "for line in data.readlines()[3:15]:\r\n",
    "    planetData = line.split()\r\n",
    "    names.append(planetData[0])\r\n",
    "    radius.append(float(planetData[2]))\r\n",
    "    density.append(float(planetData[3]))\r\n",
    "    v_esc.append(float(planetData[5 ]))\r\n",
    "    T_surf.append(float(planetData[7]))\r\n",
    "data.close()\r\n",
    "\r\n",
    "for i in range(0, 12):\r\n",
    "    radius_similarity = (1.0 - abs((radius[i] - 1.0) / (radius[i] + 1.0))) ** (0.57 / 4.0)\r\n",
    "    density_similarity = (1.0 - abs((density[i] - 1.0) / (density[i] + 1.0))) ** (1.07 / 4.0)\r\n",
    "    v_esc_similarity = (1.0 - abs((v_esc[i] - 1.0) / (v_esc[i] + 1.0))) ** (0.7 / 4.0)\r\n",
    "    T_surf_similarity = (1.0 - abs((T_surf[i] - 288.0) / (T_surf[i] + 288.0))) ** (5.58 / 4.0)\r\n",
    "    ESI.append(radius_similarity * density_similarity * v_esc_similarity * T_surf_similarity)\r\n",
    "    radius_similarity, density_similarity, v_esc_similarity, T_surf_similarity = 0.0, 0.0, 0.0, 0.0\r\n",
    "\r\n",
    "for score in ESI:\r\n",
    "    print('{}\\'s ESI score is: {:.3f}'.format(names[ESI.index(score)], score))"
   ],
   "outputs": [
    {
     "output_type": "stream",
     "name": "stdout",
     "text": [
      "Earth's ESI score is: 1.000\n",
      "Mars's ESI score is: 0.697\n",
      "Mercury's ESI score is: 0.595\n",
      "Moon's ESI score is: 0.557\n",
      "Venus's ESI score is: 0.444\n",
      "Io's ESI score is: 0.363\n",
      "Jupiter's ESI score is: 0.293\n",
      "Titan's ESI score is: 0.243\n",
      "GJ-581-g's ESI score is: 0.890\n",
      "GJ-581-b's ESI score is: 0.483\n",
      "HD-96167-b's ESI score is: 0.465\n",
      "WASP-26-b's ESI score is: 0.094\n"
     ]
    }
   ],
   "metadata": {}
  },
  {
   "cell_type": "markdown",
   "source": [
    "## P2.6.4\n",
    "----"
   ],
   "metadata": {}
  },
  {
   "cell_type": "code",
   "execution_count": 23,
   "source": [
    "array = open('C:/Users/arjun/letterArray.txt', 'r')\r\n",
    "list_of_lists = []\r\n",
    "\r\n",
    "for line in array:\r\n",
    "  stripped_line = line.strip()\r\n",
    "  line_list = stripped_line.split()\r\n",
    "  list_of_lists.append(line_list)\r\n",
    "\r\n",
    "   \r\n",
    "array.close()\r\n",
    "\r\n",
    "print(list_of_lists)\r\n",
    "print(list(zip(*list_of_lists)))"
   ],
   "outputs": [
    {
     "output_type": "stream",
     "name": "stdout",
     "text": [
      "[['A', 'B', 'C', 'D'], ['E', 'F', 'G', 'H'], ['I', 'J', 'K', 'L']]\n",
      "[('A', 'E', 'I'), ('B', 'F', 'J'), ('C', 'G', 'K'), ('D', 'H', 'L')]\n"
     ]
    }
   ],
   "metadata": {}
  },
  {
   "cell_type": "code",
   "execution_count": 2,
   "source": [
    "cols = (1, 2, 4, 6)\r\n",
    "for i, col in enumerate(cols):\r\n",
    "    print(i, col)   "
   ],
   "outputs": [
    {
     "output_type": "stream",
     "name": "stdout",
     "text": [
      "0 1\n",
      "1 2\n",
      "2 4\n",
      "3 6\n"
     ]
    }
   ],
   "metadata": {}
  }
 ],
 "metadata": {
  "kernelspec": {
   "name": "python3",
   "display_name": "Python 3.8.5 64-bit ('base': conda)"
  },
  "language_info": {
   "codemirror_mode": {
    "name": "ipython",
    "version": 3
   },
   "file_extension": ".py",
   "mimetype": "text/x-python",
   "name": "python",
   "nbconvert_exporter": "python",
   "pygments_lexer": "ipython3",
   "version": "3.8.5"
  },
  "interpreter": {
   "hash": "d2bc6b4c9da03010ac150b121b41a6774448383ed127203916f2efbc81d8799e"
  }
 },
 "nbformat": 4,
 "nbformat_minor": 4
}