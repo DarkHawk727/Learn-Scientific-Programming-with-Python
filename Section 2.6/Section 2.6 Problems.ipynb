{
 "cells": [
  {
   "cell_type": "markdown",
   "metadata": {},
   "source": [
    "## P2.6.1\n",
    "----"
   ]
  },
  {
   "cell_type": "code",
   "execution_count": 18,
   "metadata": {},
   "outputs": [
    {
     "name": "stdout",
     "output_type": "stream",
     "text": [
      "The tree with the largest diameter is: Stratosphere Giant in Humboldt Redwoods State Park with diameter:5.18 and height:113.05\n",
      "The tallest tree is: Hyperion in Redwood National Park with diameter:4.84 and height:115.61\n"
     ]
    }
   ],
   "source": [
    "redwoodData = open('C:/Users/arjun/redwood-data.txt', 'r')\n",
    "\n",
    "names, locations, diameters, heights = [], [], [], []\n",
    "sortedDiameters, sortedHeights = [], []\n",
    "\n",
    "for lines in redwoodData.readlines()[3:38]:\n",
    "    fields =  lines.split('\t')\n",
    "    names.append(fields[0])\n",
    "    locations.append(fields[1])\n",
    "    diameters.append(float(fields[2]))\n",
    "    heights.append(float(fields[3]))\n",
    "redwoodData.close()\n",
    "\n",
    "indexDiameters = diameters.index(max(diameters))\n",
    "print('The tree with the largest diameter is: {} in {} with diameter:{} and height:{}'.format(names[indexDiameters], locations[indexDiameters], diameters[indexDiameters], heights[indexDiameters]))\n",
    "\n",
    "indexHeights = heights.index(max(heights))\n",
    "print('The tallest tree is: {} in {} with diameter:{} and height:{}'.format(names[indexHeights], locations[indexHeights], diameters[indexHeights], heights[indexHeights]))"
   ]
  },
  {
   "cell_type": "markdown",
   "metadata": {},
   "source": [
    "## P2.6.2\n",
    "----"
   ]
  },
  {
   "cell_type": "code",
   "execution_count": 122,
   "metadata": {},
   "outputs": [
    {
     "name": "stdout",
     "output_type": "stream",
     "text": [
      "His thought ******* was on so many ****** that he gave himself a ****** of heights. "
     ]
    }
   ],
   "source": [
    "# His thought process was on so many levels that he gave himself a phobia of heights.\n",
    "file = open('C:/Users/arjun/sample.txt', 'r')\n",
    "bannedWords = ['levels', 'process', 'phobia']\n",
    "\n",
    "for line in file.readlines():\n",
    "    fields = line\n",
    "fields = fields.split(' ')\n",
    "\n",
    "for word in fields:\n",
    "    if word in bannedWords:\n",
    "        print('*' * len(word), end=' ')\n",
    "    else:\n",
    "        print(word, end=' ')"
   ]
  },
  {
   "cell_type": "markdown",
   "metadata": {},
   "source": [
    "## P2.6.3\n",
    "----"
   ]
  },
  {
   "cell_type": "code",
   "execution_count": 81,
   "metadata": {},
   "outputs": [
    {
     "name": "stdout",
     "output_type": "stream",
     "text": [
      "The most earthlike planet is Titan with a ESI of 0.890370\n"
     ]
    }
   ],
   "source": [
    "# I added hypens between some of the names of the planets for ease of use\n",
    "data = open('C:/Users/arjun/ex2-6-g-esi.txt', 'r')\n",
    "\n",
    "names = []\n",
    "radius, density, v_esc, Tsurf = [], [], [], []\n",
    "ESI = []\n",
    "for line in data.readlines()[3:15]:\n",
    "    planetData = line.split()\n",
    "    names.append(planetData[0])\n",
    "    radius.append(float(planetData[2]))\n",
    "    density.append(float(planetData[3]))\n",
    "    v_esc.append(float(planetData[5]))\n",
    "    Tsurf.append(float(planetData[7]))\n",
    "\n",
    "data.close()\n",
    "\n",
    "for i in range(1, 12):\n",
    "    radiusSimilarity = (1.0 - abs((radius[i] - 1.0) / (radius[i] + 1.0))) ** (0.57 / 4.0)\n",
    "    densitySimilarity = (1.0 - abs((density[i] - 1.0) / (density[i] + 1.0))) ** (1.07 / 4.0)\n",
    "    v_escSimilarity = (1.0 - abs((v_esc[i] - 1.0) / (v_esc[i] + 1.0))) ** (0.7 / 4.0)\n",
    "    TsurfSimilarity = (1.0 - abs((Tsurf[i] - 288.0) / (Tsurf[i] + 288.0))) ** (5.58 / 4.0)\n",
    "    ESI.append(radiusSimilarity * densitySimilarity * v_escSimilarity * TsurfSimilarity)\n",
    "\n",
    "closest = ESI.index(max(ESI))\n",
    "print('The most earthlike planet is {} with a ESI of {:3f}'.format(names[closest], ESI[closest]))\n",
    "#Titan? Really?"
   ]
  },
  {
   "cell_type": "markdown",
   "metadata": {},
   "source": [
    "## P2.6.4\n",
    "----"
   ]
  },
  {
   "cell_type": "code",
   "execution_count": 109,
   "metadata": {},
   "outputs": [
    {
     "name": "stdout",
     "output_type": "stream",
     "text": [
      "[['A', 'B', 'C', 'D'], ['E', 'F', 'G', 'H'], ['I', 'J', 'K', 'L']]\n",
      "[('A', 'E', 'I'), ('B', 'F', 'J'), ('C', 'G', 'K'), ('D', 'H', 'L')]\n"
     ]
    },
    {
     "data": {
      "text/plain": [
       "list"
      ]
     },
     "execution_count": 109,
     "metadata": {},
     "output_type": "execute_result"
    }
   ],
   "source": [
    "array = open('C:/Users/arjun/letterArray.txt', 'r')\n",
    "list_of_lists = []\n",
    "\n",
    "for line in array:\n",
    "  stripped_line = line.strip()\n",
    "  line_list = stripped_line.split()\n",
    "  list_of_lists.append(line_list)\n",
    "\n",
    "   \n",
    "array.close()\n",
    "\n",
    "print(list_of_lists)\n",
    "print(list(zip(*list_of_lists)))"
   ]
  }
 ],
 "metadata": {
  "kernelspec": {
   "display_name": "Python 3",
   "language": "python",
   "name": "python3"
  },
  "language_info": {
   "codemirror_mode": {
    "name": "ipython",
    "version": 3
   },
   "file_extension": ".py",
   "mimetype": "text/x-python",
   "name": "python",
   "nbconvert_exporter": "python",
   "pygments_lexer": "ipython3",
   "version": "3.8.5"
  }
 },
 "nbformat": 4,
 "nbformat_minor": 4
}
