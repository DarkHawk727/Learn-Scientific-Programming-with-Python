{
 "cells": [
  {
   "cell_type": "markdown",
   "source": [
    "## P2.6.1\n",
    "----"
   ],
   "metadata": {}
  },
  {
   "cell_type": "code",
   "execution_count": 2,
   "source": [
    "redwoodData = open('C:/Users/arjun/redwood-data.txt', 'r')\r\n",
    "\r\n",
    "names, locations, diameters, heights = [], [], [], []\r\n",
    "sortedDiameters, sortedHeights = [], []\r\n",
    "\r\n",
    "for lines in redwoodData.readlines()[3:38]:\r\n",
    "    fields =  lines.split('\t')\r\n",
    "    names.append(fields[0])\r\n",
    "    locations.append(fields[1])\r\n",
    "    diameters.append(float(fields[2]))\r\n",
    "    heights.append(float(fields[3]))\r\n",
    "redwoodData.close()\r\n",
    "\r\n",
    "indexDiameters = diameters.index(max(diameters))\r\n",
    "print('The tree with the largest diameter is: {} in {} with diameter: {} and height: {}'.format(names[indexDiameters], locations[indexDiameters], diameters[indexDiameters], heights[indexDiameters]))\r\n",
    "\r\n",
    "indexHeights = heights.index(max(heights))\r\n",
    "print('The tallest tree is: {} in {} with diameter: {} and height: {}'.format(names[indexHeights], locations[indexHeights], diameters[indexHeights], heights[indexHeights]))"
   ],
   "outputs": [
    {
     "output_type": "stream",
     "name": "stdout",
     "text": [
      "The tree with the largest diameter is: Stratosphere Giant in Humboldt Redwoods State Park with diameter: 5.18 and height: 113.05\n",
      "The tallest tree is: Hyperion in Redwood National Park with diameter: 4.84 and height: 115.61\n"
     ]
    }
   ],
   "metadata": {}
  },
  {
   "cell_type": "markdown",
   "source": [
    "## P2.6.2\n",
    "----"
   ],
   "metadata": {}
  },
  {
   "cell_type": "code",
   "execution_count": 122,
   "source": [
    "# His thought process was on so many levels that he gave himself a phobia of heights.\r\n",
    "file = open('C:/Users/arjun/sample.txt', 'r')\r\n",
    "bannedWords = ['levels', 'process', 'phobia']\r\n",
    "\r\n",
    "for line in file.readlines():\r\n",
    "    fields = line\r\n",
    "fields = fields.split(' ')\r\n",
    "\r\n",
    "for word in fields:\r\n",
    "    if word in bannedWords:\r\n",
    "        print('*' * len(word), end=' ')\r\n",
    "    else:\r\n",
    "        print(word, end=' ')"
   ],
   "outputs": [
    {
     "output_type": "stream",
     "name": "stdout",
     "text": [
      "His thought ******* was on so many ****** that he gave himself a ****** of heights. "
     ]
    }
   ],
   "metadata": {}
  },
  {
   "cell_type": "markdown",
   "source": [
    "## P2.6.3\n",
    "----"
   ],
   "metadata": {}
  },
  {
   "cell_type": "code",
   "execution_count": 14,
   "source": [
    "# I added hypens between some of the names of the planets for ease of use\r\n",
    "data = open('C:/Users/arjun/ex2-6-g-esi.txt', 'r')\r\n",
    "\r\n",
    "names = []\r\n",
    "radius, density, v_esc, T_surf = [], [], [], []\r\n",
    "ESI = []\r\n",
    "for line in data.readlines()[3:15]:\r\n",
    "    planetData = line.split()\r\n",
    "    print(planetData)\r\n",
    "    names.append(planetData[0])\r\n",
    "    radius.append(float(planetData[1]))\r\n",
    "    density.append(float(planetData[2]))\r\n",
    "    v_esc.append(float(planetData[4]))\r\n",
    "    T_surf.append(float(planetData[6]))\r\n",
    "\r\n",
    "data.close()\r\n",
    "\r\n",
    "for i in range(1, 12):\r\n",
    "    radius_similarity = (1.0 - abs((radius[i] - 1.0) / (radius[i] + 1.0))) ** (0.57 / 4.0)\r\n",
    "    density_similarity = (1.0 - abs((density[i] - 1.0) / (density[i] + 1.0))) ** (1.07 / 4.0)\r\n",
    "    v_esc_similarity = (1.0 - abs((v_esc[i] - 1.0) / (v_esc[i] + 1.0))) ** (0.7 / 4.0)\r\n",
    "    T_surf_similarity = (1.0 - abs((T_surf[i] - 288.0) / (T_surf[i] + 288.0))) ** (5.58 / 4.0)\r\n",
    "    ESI.append(radius_similarity * density_similarity * v_esc_similarity * T_surf_similarity)\r\n",
    "\r\n",
    "closest = ESI.index(max(ESI))\r\n",
    "print(ESI)\r\n",
    "print('The most earthlike planet is \\'{}\\' with a ESI: {:3f}.'.format(names[closest], ESI[closest]))\r\n",
    "#Titan? Really?"
   ],
   "outputs": [
    {
     "output_type": "stream",
     "name": "stdout",
     "text": [
      "['Earth', '1', '1', '1', '1', '1', '1', '288', '254']\n",
      "['Mars', '0.107', '0.53', '0.71', '0.38', '0.45', '1.52', '227', '210']\n",
      "['Mercury', '0.0553', '0.38', '0.98', '0.38', '0.38', '0.39', '440', '434']\n",
      "['Moon', '0.0123', '0.27', '0.6', '0.17', '0.21', '1', '220', '255']\n",
      "['Venus', '0.815', '0.95', '0.95', '0.9', '0.93', '0.72', '730', '232']\n",
      "['Io', '0.015', '0.29', '0.64', '0.18', '0.23', '5.2', '130', '112']\n",
      "['Jupiter', '318', '10.97', '0.24', '2.64', '5.38', '5.2', '152', '110']\n",
      "['Titan', '0.0225', '0.4', '0.34', '0.14', '0.24', '9.54', '94', '83']\n",
      "['GJ-581-g', '3.1', '1.36', '1.22', '1.67', '1.51', '0.15', '278', '248']\n",
      "['GJ-581-b', '15.6', '3.14', '0.51', '1.59', '2.23', '0.04', '499', '469']\n",
      "['HD-96167-b', '216.126', '9.36', '0.26', '2.47', '4.81', '1.3', '334', '304']\n",
      "['WASP-26-b', '324.188', '14.81', '0.1', '1.48', '4.68', '0.04', '1321', '1291']\n",
      "[0.001121728799837406, 0.00014573610195761237, 0.0003661509454592897, 0.0005953473105019902, 0.003767419407730214, 0.0025691959193325908, 0.009349716454428114, 5.672879861619351e-05, 6.364084943331082e-06, 0.0004190457827219626, 2.9326074465676643e-06]\n",
      "The most earthlike planet is 'Jupiter' with a ESI: 0.009350.\n"
     ]
    }
   ],
   "metadata": {}
  },
  {
   "cell_type": "markdown",
   "source": [
    "## P2.6.4\n",
    "----"
   ],
   "metadata": {}
  },
  {
   "cell_type": "code",
   "execution_count": 109,
   "source": [
    "array = open('C:/Users/arjun/letterArray.txt', 'r')\r\n",
    "list_of_lists = []\r\n",
    "\r\n",
    "for line in array:\r\n",
    "  stripped_line = line.strip()\r\n",
    "  line_list = stripped_line.split()\r\n",
    "  list_of_lists.append(line_list)\r\n",
    "\r\n",
    "   \r\n",
    "array.close()\r\n",
    "\r\n",
    "print(list_of_lists)\r\n",
    "print(list(zip(*list_of_lists)))"
   ],
   "outputs": [
    {
     "output_type": "stream",
     "name": "stdout",
     "text": [
      "[['A', 'B', 'C', 'D'], ['E', 'F', 'G', 'H'], ['I', 'J', 'K', 'L']]\n",
      "[('A', 'E', 'I'), ('B', 'F', 'J'), ('C', 'G', 'K'), ('D', 'H', 'L')]\n"
     ]
    },
    {
     "output_type": "execute_result",
     "data": {
      "text/plain": [
       "list"
      ]
     },
     "metadata": {},
     "execution_count": 109
    }
   ],
   "metadata": {}
  }
 ],
 "metadata": {
  "kernelspec": {
   "name": "python3",
   "display_name": "Python 3.8.5 64-bit ('base': conda)"
  },
  "language_info": {
   "codemirror_mode": {
    "name": "ipython",
    "version": 3
   },
   "file_extension": ".py",
   "mimetype": "text/x-python",
   "name": "python",
   "nbconvert_exporter": "python",
   "pygments_lexer": "ipython3",
   "version": "3.8.5"
  },
  "interpreter": {
   "hash": "d2bc6b4c9da03010ac150b121b41a6774448383ed127203916f2efbc81d8799e"
  }
 },
 "nbformat": 4,
 "nbformat_minor": 4
}