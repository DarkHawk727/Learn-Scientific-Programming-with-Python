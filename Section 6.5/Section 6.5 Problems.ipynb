{
 "cells": [
  {
   "cell_type": "markdown",
   "metadata": {},
   "source": [
    "## P6.5.1\n",
    "-----"
   ]
  },
  {
   "cell_type": "code",
   "execution_count": 6,
   "metadata": {},
   "outputs": [
    {
     "name": "stdout",
     "output_type": "stream",
     "text": [
      "Planck length: 1.616e-35 m\n",
      "Planck mass: 2.177e-08 kg\n",
      "Planck time: 5.391e-44 s\n",
      "Planck charge: 1.876e-18 C\n",
      "Planck temperature: 1.417e+32 K\n"
     ]
    }
   ],
   "source": [
    "import numpy as np\n",
    "\n",
    "\n",
    "constants = np.array(\n",
    "    [299792458, 6.67384e-11, 1.054571726e-34, 8.9875517873681764e9, 1.3806488e-23]\n",
    ")\n",
    "relationship_matrix = np.array(\n",
    "    [\n",
    "        [1, 0, -1, 0, 0],\n",
    "        [3, -1, -2, 0, 0],\n",
    "        [2, 1, -1, 0, 0],\n",
    "        [3, 1, -2, -2, 0],\n",
    "        [2, 1, -2, 0, -1],\n",
    "    ]\n",
    ")\n",
    "\n",
    "inv_relationship_matrix = np.linalg.inv(relationship_matrix)\n",
    "\n",
    "plank_set = np.prod(constants**inv_relationship_matrix, axis=1)\n",
    "\n",
    "dimensions = (\"length\", \"mass\", \"time\", \"charge\", \"temperature\")\n",
    "si_units = (\"m\", \"kg\", \"s\", \"C\", \"K\")\n",
    "for dimension, quantity, unit in zip(dimensions, plank_set, si_units):\n",
    "    print(f\"Planck {dimension}: {quantity:.3e} {unit}\")\n"
   ]
  },
  {
   "cell_type": "markdown",
   "metadata": {},
   "source": [
    "## P6.5.2\n",
    "-----"
   ]
  },
  {
   "cell_type": "code",
   "execution_count": 3,
   "metadata": {},
   "outputs": [
    {
     "name": "stdout",
     "output_type": "stream",
     "text": [
      "CH3Cl inertia tensor:\n",
      "[[113.02273714  -0.          -0.        ]\n",
      " [ -0.         113.02290049  -0.        ]\n",
      " [ -0.          -0.           3.28538231]]\n",
      "CH3Cl principal moments of inertia:\n",
      "[5.45550499e-47 1.87678647e-45 1.87678918e-45]\n",
      "CH3Cl rotor type: Prolate symmetric top\n",
      "\n",
      "CH4 inertia tensor:\n",
      "[[ 3.17594741 -0.         -0.        ]\n",
      " [-0.          3.17594741 -0.        ]\n",
      " [-0.         -0.          3.17594741]]\n",
      "CH4 principal moments of inertia:\n",
      "[5.27378409e-47 5.27378409e-47 5.27378409e-47]\n",
      "CH4 rotor type: Spherical top\n",
      "\n",
      "NH3 inertia tensor:\n",
      "[[ 1.76974277e+00 -0.00000000e+00 -0.00000000e+00]\n",
      " [-0.00000000e+00  1.76973986e+00  3.84614640e-05]\n",
      " [-0.00000000e+00  3.84614640e-05  2.65886896e+00]]\n",
      "NH3 principal moments of inertia:\n",
      "[2.93872181e-47 2.93872665e-47 4.41515523e-47]\n",
      "NH3 rotor type: Oblate symmetric top\n",
      "\n",
      "O3 inertia tensor:\n",
      "[[52.24991091 -0.         -0.        ]\n",
      " [-0.         14.3473642  -0.        ]\n",
      " [-0.         -0.         37.90254671]]\n",
      "O3 principal moments of inertia:\n",
      "[2.38243558e-46 6.29386517e-46 8.67630075e-46]\n",
      "O3 rotor type: Asymmetric top\n",
      "\n"
     ]
    }
   ],
   "source": [
    "import numpy as np\n",
    "\n",
    "\n",
    "u, h, c = 1.66053886e-27, 6.62606957e-34, 2.99792458e8\n",
    "\n",
    "\n",
    "def calculate_inertia_tensor(data: np.ndarray) -> np.ndarray:\n",
    "    \"\"\"\n",
    "    Calculates the inertia tensor of a set of data.\n",
    "    params:\n",
    "        data: numpy array of shape (n, 3)\n",
    "    returns:\n",
    "        inertia_tensor: numpy array of shape (3, 3)\n",
    "    \"\"\"\n",
    "    data_mean = np.mean(data, axis=0)\n",
    "    data_centered = data - data_mean\n",
    "    Ixx = np.sum(data[:, 0] * (data[:, 2] ** 2 + data[:, 3] ** 2))\n",
    "    Iyy = np.sum(data[:, 0] * (data[:, 1] ** 2 + data[:, 3] ** 2))\n",
    "    Izz = np.sum(data[:, 0] * (data[:, 1] ** 2 + data[:, 2] ** 2))\n",
    "    Ixy = -np.sum(data[:, 0] * data[:, 1] * data[:, 2])\n",
    "    Iyz = -np.sum(data[:, 0] * data[:, 2] * data[:, 3])\n",
    "    Ixz = -np.sum(data[:, 0] * data[:, 1] * data[:, 3])\n",
    "    I = np.array([[Ixx, Ixy, Ixz], [Ixy, Iyy, Iyz], [Ixz, Iyz, Izz]])\n",
    "    return I\n",
    "\n",
    "\n",
    "def get_principal_moments_of_inertia(inertia_tensor: np.ndarray) -> np.ndarray:\n",
    "    \"\"\"\n",
    "    Calculates the principal moments of inertia of a set of data.\n",
    "    params:\n",
    "        inertia_tensor: numpy array of shape (3, 3)\n",
    "    returns:\n",
    "        principal_moments_of_inertia: numpy array of shape (3,)\n",
    "    \"\"\"\n",
    "    eigenvalues = np.linalg.eigvals(inertia_tensor)\n",
    "    return np.sort(eigenvalues)\n",
    "\n",
    "\n",
    "def classify_molecules(A, B, C) -> str:\n",
    "    if np.isclose(A, B):\n",
    "        if np.isclose(B, C):\n",
    "            return \"Spherical top\"\n",
    "        return \"Oblate symmetric top\"\n",
    "    if np.isclose(B, C):\n",
    "        return \"Prolate symmetric top\"\n",
    "    return \"Asymmetric top\"\n",
    "\n",
    "\n",
    "names = [\"CH3Cl\", \"CH4\", \"NH3\", \"O3\"]\n",
    "for chemical_name in names:\n",
    "    data = np.loadtxt(\n",
    "        \"C:/Users/Arjun Sarao/Learn-Scientific-Programming-with-Python-Solutions/LSPwP_accompanying_files/\"\n",
    "        + chemical_name\n",
    "        + \".dat\",\n",
    "        skiprows=2,\n",
    "    )\n",
    "    inertia_tensor = calculate_inertia_tensor(data)\n",
    "    principal_moments_of_inertia = get_principal_moments_of_inertia(inertia_tensor)\n",
    "    principal_moments_of_inertia *= u / 1.0e20\n",
    "    A, B, C = h / 8 / np.pi**2 / c / 100 / principal_moments_of_inertia\n",
    "    rotor_type = classify_molecules(A, B, C)\n",
    "    print(f\"{chemical_name} inertia tensor:\")\n",
    "    print(inertia_tensor)\n",
    "    print(f\"{chemical_name} principal moments of inertia:\")\n",
    "    print(principal_moments_of_inertia)\n",
    "    print(f\"{chemical_name} rotor type: {rotor_type}\")\n",
    "    print()\n"
   ]
  },
  {
   "cell_type": "markdown",
   "metadata": {},
   "source": [
    "## P6.5.3\n",
    "-----"
   ]
  },
  {
   "cell_type": "code",
   "execution_count": 28,
   "metadata": {},
   "outputs": [
    {
     "name": "stdout",
     "output_type": "stream",
     "text": [
      "MM* by numpy.linalg.eig:\n",
      "Compare eigenvalues:\n",
      "[3.89040058 0.06749849 0.02706455]\n",
      "[3.89040058 0.06749849 0.02706455]\n",
      "Eigenvalues equal: True\n",
      "Compare eigenvectors:\n",
      "[[ 0.54485754 -0.22481968  0.80782819]\n",
      " [ 0.4678586  -0.71798254 -0.51537307]\n",
      " [ 0.69587254  0.65875426 -0.28601438]]\n",
      "[[-0.54485754 -0.22481968 -0.80782819]\n",
      " [-0.4678586  -0.71798254  0.51537307]\n",
      " [-0.69587254  0.65875426  0.28601438]]\n",
      "Eigenvectors equivalent:  True\n",
      "----------------------------------------------------------------------\n",
      "M*M by numpy.linalg.eig:\n",
      "Compare eigenvalues:\n",
      "[3.89040058 0.06749849 0.02706455]\n",
      "[3.89040058 0.06749849 0.02706455]\n",
      "Eigenvalues equal: True \n",
      "\n",
      "Compare eigenvectors:\n",
      "[[-0.43523327 -0.87118606 -0.2271714 ]\n",
      " [-0.61267551  0.4714844  -0.63429582]\n",
      " [-0.65969745  0.13688429  0.73896006]]\n",
      "[[-0.43523327 -0.87118606 -0.2271714 ]\n",
      " [-0.61267551  0.4714844  -0.63429582]\n",
      " [-0.65969745  0.13688429  0.73896006]]\n",
      "Eigenvectors equivalent:  True\n",
      "----------------------------------------------------------------------\n"
     ]
    }
   ],
   "source": [
    "import numpy as np\n",
    "\n",
    "np.random.seed(0)\n",
    "M = np.random.random((3, 3))\n",
    "\n",
    "U, S, V = np.linalg.svd(M)\n",
    "svd_eigenvalues = S * S\n",
    "\n",
    "\n",
    "def get_sorted_eigen_stuff(matrix: np.ndarray) -> tuple:\n",
    "    \"\"\"\n",
    "    Calculate and return the sorted eigenvalues and eigenvectors of a matrix.\n",
    "    \"\"\"\n",
    "    eigenvalues, eigenvectors = np.linalg.eig(matrix)\n",
    "    sorted_indexes = np.argsort(eigenvalues)[::-1]\n",
    "    return eigenvalues[sorted_indexes], eigenvectors[:, sorted_indexes]\n",
    "\n",
    "\n",
    "print(\"MM* by numpy.linalg.eig:\")\n",
    "evals, evecs = get_sorted_eigen_stuff(np.dot(M, M.T))\n",
    "print(\"Compare eigenvalues:\")\n",
    "print(evals, svd_eigenvalues, sep=\"\\n\")\n",
    "print(f\"Eigenvalues equal: {np.allclose(evals, svd_eigenvalues)}\")\n",
    "print(\"Compare eigenvectors:\")\n",
    "print(evecs, U, sep=\"\\n\")\n",
    "print(\"Eigenvectors equivalent: \", np.allclose(abs((evecs * U).sum(axis=0)), 1))\n",
    "print(\"-\" * 70)\n",
    "\n",
    "print(\"M*M by numpy.linalg.eig:\")\n",
    "evals, evecs = get_sorted_eigen_stuff(np.dot(M.T, M))\n",
    "print(\"Compare eigenvalues:\")\n",
    "print(evals, svd_eigenvalues, sep=\"\\n\")\n",
    "print(f\"Eigenvalues equal: {np.allclose(evals, svd_eigenvalues)}\")\n",
    "print(\"Compare eigenvectors:\")\n",
    "print(evecs, V.T, sep=\"\\n\")\n",
    "print(\"Eigenvectors equivalent: \", np.allclose(abs((evecs * V.T).sum(axis=0)), 1))\n",
    "print(\"-\" * 70)\n"
   ]
  },
  {
   "cell_type": "markdown",
   "metadata": {},
   "source": [
    "## P6.5.4\n",
    "-----"
   ]
  },
  {
   "cell_type": "code",
   "execution_count": 4,
   "metadata": {},
   "outputs": [
    {
     "name": "stdout",
     "output_type": "stream",
     "text": [
      "[[1]] [[ True]]\n",
      "[[19]] [[ True]]\n",
      "[[271]] [[ True]]\n",
      "[[3439]] [[ True]]\n",
      "[[40951]] [[ True]]\n",
      "[[468559]] [[ True]]\n",
      "[[5217031]] [[ True]]\n",
      "[[56953279]] [[ True]]\n",
      "[[612579511]] [[ True]]\n",
      "[[-2076718993]] [[False]]\n"
     ]
    }
   ],
   "source": [
    "import numpy as np\n",
    "\n",
    "M = np.matrix([[10, 1], [0, 9]])\n",
    "F_0 = np.matrix([[0], [1]])\n",
    "\n",
    "for n in range(1, 11):\n",
    "    p_n = (M**n * F_0)[0]\n",
    "    print(p_n, p_n == 10**n - 9**n)"
   ]
  },
  {
   "cell_type": "markdown",
   "metadata": {},
   "source": [
    "## P6.5.5\n",
    "-----"
   ]
  },
  {
   "cell_type": "code",
   "execution_count": 11,
   "metadata": {},
   "outputs": [
    {
     "name": "stdout",
     "output_type": "stream",
     "text": [
      "The 1100th fibonacci number is 55706633420033572391917105807681653946560952943570911866315186384142110819606288815884771271086976048848445003192775222254740738341928009538673637070103206401855027754450388266001653416407450093253142182454458005963962887176192000\n"
     ]
    }
   ],
   "source": [
    "import numpy as np\n",
    "\n",
    "F = np.matrix([[1, 1], [1, 0]])\n",
    "# The nth fibonacci number is the first element of F^n\n",
    "\n",
    "\n",
    "(lambda_1, lambda_2), C = np.linalg.eig(F)\n",
    "C_inv = np.linalg.inv(C)\n",
    "\n",
    "D = np.matrix([[lambda_1**1100, 0], [0, lambda_2**1100]])\n",
    "M = C * D * C_inv\n",
    "\n",
    "print(f\"The 1100th fibonacci number is: {int(M[0,0])}\")\n"
   ]
  },
  {
   "cell_type": "markdown",
   "metadata": {},
   "source": [
    "## P6.5.6\n",
    "-----"
   ]
  },
  {
   "cell_type": "code",
   "execution_count": 19,
   "metadata": {},
   "outputs": [
    {
     "name": "stdout",
     "output_type": "stream",
     "text": [
      "True\n",
      "True\n",
      "True\n",
      "True\n",
      "True\n",
      "True\n"
     ]
    }
   ],
   "source": [
    "import numpy as np\n",
    "\n",
    "\n",
    "def classify_conic_section(\n",
    "    A: float, B: float, C: float, D: float, E: float, F: float\n",
    ") -> str:\n",
    "    \"\"\"\n",
    "    Classifies a conic section as one of the following:\n",
    "        - Ellipse\n",
    "        - Hyperbola\n",
    "        - Parabola\n",
    "        - Other\n",
    "\n",
    "    params:\n",
    "        A: float\n",
    "        B: float\n",
    "        C: float\n",
    "        D: float\n",
    "        E: float\n",
    "        F: float\n",
    "    returns:\n",
    "        conic_section_type: str\n",
    "    \"\"\"\n",
    "    Q = np.matrix([[A, B / 2, D / 2], [B / 2, C, E / 2], [D / 2, E / 2, F]])\n",
    "    Q_33 = Q[:2, :2]\n",
    "\n",
    "    if np.linalg.det(Q) == 0:\n",
    "        if np.linalg.det(Q_33) == 0:\n",
    "            return \"Parallel Lines\"\n",
    "        elif np.linalg.det(Q_33) < 0:\n",
    "            return \"Two Intersecting Lines\"\n",
    "        else:\n",
    "            return \"Single Point\"\n",
    "    else:\n",
    "        if np.linalg.det(Q_33) == 0:\n",
    "            return \"Parabola\"\n",
    "        elif np.linalg.det(Q_33) < 0:\n",
    "            return \"Hyperbola\"\n",
    "        elif A == C and B == 0:\n",
    "            return \"Circle\"\n",
    "        else:\n",
    "            return \"Ellipse\"\n",
    "\n",
    "\n",
    "print(classify_conic_section(0, 1, 0, 0, 0, -9) == \"Hyperbola\")\n",
    "print(classify_conic_section(0.5, 0, 0, 2, -0.5, 0) == \"Parabola\")\n",
    "print(classify_conic_section(0.5, 0, 0.5, -2, -3, 2) == \"Circle\")\n",
    "print(classify_conic_section(9, 0, 4, 0, 0, -36) == \"Ellipse\")\n",
    "print(classify_conic_section(1, 0, 0, 0, 0, -1) == \"Parallel Lines\")\n",
    "print(classify_conic_section(1, 0, 1, 0, 0, 0) == \"Single Point\")\n"
   ]
  },
  {
   "cell_type": "markdown",
   "metadata": {},
   "source": [
    "## P6.5.7\n",
    "-----"
   ]
  },
  {
   "cell_type": "code",
   "execution_count": 38,
   "metadata": {},
   "outputs": [
    {
     "data": {
      "image/png": "[encoded data removed]",
      "text/plain": [
       "<Figure size 432x288 with 1 Axes>"
      ]
     },
     "metadata": {
      "needs_background": "light"
     },
     "output_type": "display_data"
    },
    {
     "name": "stdout",
     "output_type": "stream",
     "text": [
      "Fitted parameters: N0 = 511.14688017708113, half-life = 5478.0 years\n"
     ]
    }
   ],
   "source": [
    "import numpy as np\n",
    "import matplotlib.pyplot as plt\n",
    "\n",
    "data = np.loadtxt(\n",
    "    \"C:/Users/Arjun Sarao/Learn-Scientific-Programming-with-Python-Solutions/LSPwP_accompanying_files/14C-sim.csv\",\n",
    "    skiprows=2,\n",
    "    delimiter=\",\",\n",
    ")\n",
    "\n",
    "# Plot the data, for fun\n",
    "for i in range(10):\n",
    "    plt.plot(data[:, 0], data[:, i + 1], \"x\")\n",
    "plt.title(\"Radioactive Decay of 14C\")\n",
    "plt.xlabel(\"Time (years)\")\n",
    "plt.ylabel(\"Number of undecayed nuclei\")\n",
    "plt.show()\n",
    "\n",
    "# Seperate the data into time and points\n",
    "time = data[:, 0]\n",
    "num_points = len(data)\n",
    "Nsim = data[:, 1:]\n",
    "N = Nsim.mean(axis=1)\n",
    "\n",
    "A = np.vstack((time, np.ones(num_points))).T\n",
    "logN = np.log(N)\n",
    "\n",
    "x, residuals, _, _ = np.linalg.lstsq(A, logN, rcond=None)\n",
    "m, c = x\n",
    "\n",
    "N_0, tau = np.exp(c), -m\n",
    "t_half = np.log(2) / tau\n",
    "\n",
    "print(f\"Fitted parameters: N0 = {N_0}, half-life = {t_half:.1f} years\")\n"
   ]
  }
 ],
 "metadata": {
  "interpreter": {
   "hash": "26de051ba29f2982a8de78e945f0abaf191376122a1563185a90213a26c5da77"
  },
  "kernelspec": {
   "display_name": "Python 3.10.4 64-bit",
   "language": "python",
   "name": "python3"
  },
  "language_info": {
   "codemirror_mode": {
    "name": "ipython",
    "version": 3
   },
   "file_extension": ".py",
   "mimetype": "text/x-python",
   "name": "python",
   "nbconvert_exporter": "python",
   "pygments_lexer": "ipython3",
   "version": "3.10.4"
  },
  "orig_nbformat": 4
 },
 "nbformat": 4,
 "nbformat_minor": 2
}
