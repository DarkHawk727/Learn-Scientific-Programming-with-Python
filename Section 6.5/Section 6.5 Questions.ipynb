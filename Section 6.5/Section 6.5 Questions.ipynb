{
 "cells": [
  {
   "cell_type": "markdown",
   "metadata": {},
   "source": [
    "## Q6.5.1\n",
    "-----"
   ]
  },
  {
   "cell_type": "code",
   "execution_count": 6,
   "metadata": {},
   "outputs": [
    {
     "name": "stdout",
     "output_type": "stream",
     "text": [
      "[[ True  True]\n",
      " [ True  True]]\n",
      "[[ True  True]\n",
      " [ True  True]]\n",
      "[[ True  True]\n",
      " [ True  True]]\n"
     ]
    }
   ],
   "source": [
    "import numpy as np\n",
    "\n",
    "sigma_x = np.array([[0, 1], [1, 0]])\n",
    "sigma_y = np.array([[0, -1j], [1j, 0]])\n",
    "sigma_z = np.array([[1, 0], [0, -1]])\n",
    "\n",
    "print(np.dot(np.conj(sigma_x).T, sigma_x) == np.eye(2))\n",
    "print(np.dot(np.conj(sigma_y).T, sigma_y) == np.eye(2))\n",
    "print(np.dot(np.conj(sigma_z).T, sigma_z) == np.eye(2))\n"
   ]
  },
  {
   "cell_type": "markdown",
   "metadata": {},
   "source": [
    "## Q6.5.2\n",
    "-----"
   ]
  },
  {
   "cell_type": "code",
   "execution_count": 23,
   "metadata": {},
   "outputs": [
    {
     "name": "stdout",
     "output_type": "stream",
     "text": [
      "x0 = 1.28\n",
      "v0 = -0.04\n",
      "g = 9.47\n"
     ]
    },
    {
     "data": {
      "image/png": "[encoded data removed]",
      "text/plain": [
       "<Figure size 432x288 with 1 Axes>"
      ]
     },
     "metadata": {
      "needs_background": "light"
     },
     "output_type": "display_data"
    }
   ],
   "source": [
    "import numpy as np\n",
    "import matplotlib.pyplot as plt\n",
    "\n",
    "distance = np.array(\n",
    "    [\n",
    "        1.3,\n",
    "        6.0,\n",
    "        20.2,\n",
    "        43.9,\n",
    "        77.0,\n",
    "        119.6,\n",
    "        171.7,\n",
    "        233.2,\n",
    "        304.2,\n",
    "        384.7,\n",
    "        474.7,\n",
    "        574.1,\n",
    "        683.0,\n",
    "        801.3,\n",
    "        929.2,\n",
    "        1066.4,\n",
    "        1213.2,\n",
    "        1369.4,\n",
    "        1535.1,\n",
    "        1710.3,\n",
    "        1894.9,\n",
    "    ]\n",
    ")\n",
    "\n",
    "time = np.linspace(0, 2.0, 21)\n",
    "\n",
    "A = np.vstack((np.ones(21), time, time**2)).T\n",
    "coefficients, residuals, _, _ = np.linalg.lstsq(A, distance, rcond=None)\n",
    "\n",
    "x0, v0, g = coefficients[0], coefficients[1], coefficients[2] * 0.02\n",
    "\n",
    "print(f\"x0 = {x0:.2f}\")\n",
    "print(f\"v0 = {v0:.2f}\")\n",
    "print(f\"g = {g:.2f}\")\n",
    "\n",
    "plt.title(\"Distance vs Time\")\n",
    "plt.xlabel(\"Time (s)\")\n",
    "plt.ylabel(\"Distance (m)\")\n",
    "plt.plot(time, distance, \"o\")\n",
    "xfit = np.polynomial.Polynomial(coefficients)(time)\n",
    "plt.plot(time, xfit, \"r-\")\n",
    "plt.show()\n"
   ]
  }
 ],
 "metadata": {
  "interpreter": {
   "hash": "26de051ba29f2982a8de78e945f0abaf191376122a1563185a90213a26c5da77"
  },
  "kernelspec": {
   "display_name": "Python 3.10.4 64-bit",
   "language": "python",
   "name": "python3"
  },
  "language_info": {
   "codemirror_mode": {
    "name": "ipython",
    "version": 3
   },
   "file_extension": ".py",
   "mimetype": "text/x-python",
   "name": "python",
   "nbconvert_exporter": "python",
   "pygments_lexer": "ipython3",
   "version": "3.10.4"
  },
  "orig_nbformat": 4
 },
 "nbformat": 4,
 "nbformat_minor": 2
}
