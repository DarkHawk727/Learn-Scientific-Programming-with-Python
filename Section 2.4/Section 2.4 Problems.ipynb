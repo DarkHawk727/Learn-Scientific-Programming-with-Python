{
 "cells": [
  {
   "cell_type": "markdown",
   "metadata": {},
   "source": [
    "## P2.4.1\n",
    "----"
   ]
  },
  {
   "cell_type": "code",
   "execution_count": 17,
   "metadata": {},
   "outputs": [
    {
     "name": "stdout",
     "output_type": "stream",
     "text": [
      "[6, 3, 2]\n"
     ]
    }
   ],
   "source": [
    "a = [1, 2, 3]\n",
    "p = []\n",
    "# Fill array with product of all elements\n",
    "product = 1\n",
    "for i in a:\n",
    "    product *= i\n",
    "# Divide each element in p with its corresponding value in a.  \n",
    "for i in range(len(a)):\n",
    "    product = \n",
    "    p.append(int(product / a[i]))\n",
    "print(p)"
   ]
  },
  {
   "cell_type": "markdown",
   "metadata": {},
   "source": [
    "## P2.4.2\n",
    "----"
   ]
  },
  {
   "cell_type": "code",
   "execution_count": 27,
   "metadata": {},
   "outputs": [
    {
     "name": "stdout",
     "output_type": "stream",
     "text": [
      "1\n"
     ]
    }
   ],
   "source": [
    "s1 = 'hello'\n",
    "s2 = 'World'\n",
    "hammingDistance = 0\n",
    "temp1 = sorted(s1)\n",
    "temp2 = sorted(s2)\n",
    "for i in range(len(temp1)):\n",
    "    if temp1[i] == temp2[i]:\n",
    "        hammingDistance +=1\n",
    "print(hammingDistance)"
   ]
  },
  {
   "cell_type": "markdown",
   "metadata": {},
   "source": [
    "## P2.4.3\n",
    "----"
   ]
  },
  {
   "cell_type": "code",
   "execution_count": 147,
   "metadata": {},
   "outputs": [
    {
     "name": "stdout",
     "output_type": "stream",
     "text": [
      "three\n",
      "point\n",
      "one\n",
      "four\n",
      "one\n",
      "five\n",
      "nine\n",
      "two\n",
      "six\n",
      "five\n"
     ]
    }
   ],
   "source": [
    "pie = ('3', '.', '1', '4', '1', '5', '9', '2', '6', '5')\n",
    "words = ('zero', 'one', 'two', 'three', 'four', 'five', 'six', 'seven', 'eight', 'nine')\n",
    "\n",
    "for num in pie:\n",
    "    try:\n",
    "        if num == '.':\n",
    "            print('point')\n",
    "        print(words[int(num)])\n",
    "    except(ValueError):\n",
    "        pass\n",
    "# Now, technially, im not supposed to use a try except, but idc."
   ]
  },
  {
   "cell_type": "markdown",
   "metadata": {},
   "source": [
    "## P2.4.4\n",
    "----"
   ]
  },
  {
   "cell_type": "code",
   "execution_count": 139,
   "metadata": {},
   "outputs": [
    {
     "name": "stdout",
     "output_type": "stream",
     "text": [
      "1 \n",
      "1 1 \n",
      "1 2 1 \n",
      "1 3 3 1 \n",
      "1 4 6 4 1 \n",
      "1 5 10 10 5 1 \n",
      "1 6 15 20 15 6 1 \n",
      "1 7 21 35 35 21 7 1 \n"
     ]
    }
   ],
   "source": [
    "    for line in range(1, 9):\n",
    "        C = 1\n",
    "        for i in range(1, line + 1):\n",
    "            print(C, end = \" \");\n",
    "            C = int(C * (line - i) / i);\n",
    "        print(\"\");"
   ]
  },
  {
   "cell_type": "markdown",
   "metadata": {},
   "source": [
    "## P2.4.5\n",
    "----"
   ]
  },
  {
   "cell_type": "code",
   "execution_count": 136,
   "metadata": {},
   "outputs": [
    {
     "data": {
      "text/plain": [
       "['CAG',\n",
       " 'AGC',\n",
       " 'GCC',\n",
       " 'CCA',\n",
       " 'CAG',\n",
       " 'AGT',\n",
       " 'GTG',\n",
       " 'TGT',\n",
       " 'GTA',\n",
       " 'TAA',\n",
       " 'AAC',\n",
       " 'ACC',\n",
       " 'CCC',\n",
       " 'CCG',\n",
       " 'CGA',\n",
       " 'GAT',\n",
       " 'ATG',\n",
       " 'TGA',\n",
       " 'GAG',\n",
       " 'AGG',\n",
       " 'GGT',\n",
       " 'GTA',\n",
       " 'TAC',\n",
       " 'ACC',\n",
       " 'CCC',\n",
       " 'CCA',\n",
       " 'CAG',\n",
       " 'AGA',\n",
       " 'GAA',\n",
       " 'AAG',\n",
       " 'AGT',\n",
       " 'GTC',\n",
       " 'TCG',\n",
       " 'CGA',\n",
       " 'GAA',\n",
       " 'AAC',\n",
       " 'ACT',\n",
       " 'CTG',\n",
       " 'TGG',\n",
       " 'GGG',\n",
       " 'GGC',\n",
       " 'GCC',\n",
       " 'CCA',\n",
       " 'CAG',\n",
       " 'AGA',\n",
       " 'GAC',\n",
       " 'ACA',\n",
       " 'CAA',\n",
       " 'AAC',\n",
       " 'ACC',\n",
       " 'CCC',\n",
       " 'CCG',\n",
       " 'CGG',\n",
       " 'GGC',\n",
       " 'GCG',\n",
       " 'CGC',\n",
       " 'GCT',\n",
       " 'CTA',\n",
       " 'TAA',\n",
       " 'AAC',\n",
       " 'ACG',\n",
       " 'CGC',\n",
       " 'GCA',\n",
       " 'CAC',\n",
       " 'ACT',\n",
       " 'CTC',\n",
       " 'TCA',\n",
       " 'CAA',\n",
       " 'AAA',\n",
       " 'AAC',\n",
       " 'ACC',\n",
       " 'CCC',\n",
       " 'CCG',\n",
       " 'CGG',\n",
       " 'GGG',\n",
       " 'GGG',\n",
       " 'GGC',\n",
       " 'GCC',\n",
       " 'CCC',\n",
       " 'CCG',\n",
       " 'CGA',\n",
       " 'GAC',\n",
       " 'ACG',\n",
       " 'CGC',\n",
       " 'GCG',\n",
       " 'CGA',\n",
       " 'GAC',\n",
       " 'ACA',\n",
       " 'CAT',\n",
       " 'ATA',\n",
       " 'TAT',\n",
       " 'ATC',\n",
       " 'TCA',\n",
       " 'CAG']"
      ]
     },
     "execution_count": 136,
     "metadata": {},
     "output_type": "execute_result"
    }
   ],
   "source": [
    "sequence = 'TGTCAGCCAGTGTAACCCGATGAGGTACCCAGAAGTCGAACTGGGCCAGACAACCCGGCGCTAACGCACTCAAACCCGGGGCCCGACGCGACATATCAGC'\n",
    "codons = []\n",
    "frame = \n",
    "for i in range(frame, len(sequence) - 3):\n",
    "    codons.append(sequence[i:i+3])\n",
    "codons"
   ]
  },
  {
   "cell_type": "markdown",
   "metadata": {},
   "source": [
    "## P2.4.6\n",
    "----"
   ]
  },
  {
   "cell_type": "code",
   "execution_count": 75,
   "metadata": {},
   "outputs": [
    {
     "name": "stdout",
     "output_type": "stream",
     "text": [
      "11!! = 10395\n"
     ]
    }
   ],
   "source": [
    "# Odd Numbers.\n",
    "n = 11\n",
    "ans = 1\n",
    "for i in range(1, n+1,2):\n",
    "    ans *= i\n",
    "print('{}!! = {}'.format(n, ans))"
   ]
  },
  {
   "cell_type": "code",
   "execution_count": 77,
   "metadata": {},
   "outputs": [
    {
     "name": "stdout",
     "output_type": "stream",
     "text": [
      "10!! = 3840\n"
     ]
    }
   ],
   "source": [
    "# Even Numbers\n",
    "n = 10\n",
    "ans = 1\n",
    "for i in range(2, n+1,2):\n",
    "    ans *= i\n",
    "print('{}!! = {}'.format(n, ans))"
   ]
  },
  {
   "cell_type": "markdown",
   "metadata": {},
   "source": [
    "## P2.4.7\n",
    "----"
   ]
  },
  {
   "cell_type": "code",
   "execution_count": 123,
   "metadata": {},
   "outputs": [
    {
     "name": "stdout",
     "output_type": "stream",
     "text": [
      "The percent of 1's is: 30.2%\n",
      "The percent of 2's is: 17.8%\n",
      "The percent of 3's is: 12.8%\n",
      "The percent of 4's is: 9.6%\n",
      "The percent of 5's is: 8.2%\n",
      "The percent of 6's is: 6.8%\n",
      "The percent of 7's is: 6.0%\n",
      "The percent of 8's is: 5.6%\n",
      "The percent of 9's is: 4.6%\n"
     ]
    }
   ],
   "source": [
    "# a)\n",
    "# Generate Numbers\n",
    "\n",
    "fibonacciNumbers = [0, 1]\n",
    "for i in range(2,500):\n",
    "    fibonacciNumbers.append(fibonacciNumbers[i-1]+fibonacciNumbers[i-2])\n",
    "\n",
    "ones = 1\n",
    "twos = 1\n",
    "threes = 1\n",
    "fours = 1\n",
    "fives = 1\n",
    "sixes = 1\n",
    "sevens = 1\n",
    "eights = 1\n",
    "nines = 1\n",
    "\n",
    "for i in range(len(fibonacciNumbers)):\n",
    "    if str(fibonacciNumbers[i]).startswith('1'):\n",
    "        ones += 1\n",
    "    elif str(fibonacciNumbers[i]).startswith('2'):\n",
    "        twos += 1\n",
    "    elif str(fibonacciNumbers[i]).startswith('3'):\n",
    "        threes += 1\n",
    "    elif str(fibonacciNumbers[i]).startswith('4'):\n",
    "        fours += 1\n",
    "    elif str(fibonacciNumbers[i]).startswith('5'):\n",
    "        fives += 1\n",
    "    elif str(fibonacciNumbers[i]).startswith('6'):\n",
    "        sixes += 1\n",
    "    elif str(fibonacciNumbers[i]).startswith('7'):\n",
    "        sevens += 1\n",
    "    elif str(fibonacciNumbers[i]).startswith('8'):\n",
    "        eights += 1\n",
    "    elif str(fibonacciNumbers[i]).startswith('9'):\n",
    "        nines += 1\n",
    "        \n",
    "occurences = [ones / 500, twos / 500, threes / 500, fours / 500, fives / 500, sixes / 500, sevens / 500, eights / 500, nines / 500]\n",
    "\n",
    "for i in range(len(occurences)):\n",
    "    print(\"The percent of {}'s is: {:.1%}\".format(i+1, occurences[i]))\n",
    "\n",
    "# The Fibonacci Series follows Benford's Law quite well."
   ]
  },
  {
   "cell_type": "code",
   "execution_count": 122,
   "metadata": {
    "scrolled": false
   },
   "outputs": [
    {
     "name": "stdout",
     "output_type": "stream",
     "text": [
      "The percent of 1's is: 25.2%\n",
      "The percent of 2's is: 19.2%\n",
      "The percent of 3's is: 20.2%\n",
      "The percent of 4's is: 11.8%\n",
      "The percent of 5's is: 9.2%\n",
      "The percent of 6's is: 6.4%\n",
      "The percent of 7's is: 3.8%\n",
      "The percent of 8's is: 3.6%\n",
      "The percent of 9's is: 2.4%\n"
     ]
    }
   ],
   "source": [
    "# b)\n",
    "naa = [40055, 27711, 36332, 13309, 12808, 3425, 56868, 44400, 26557, 48423, 14844, 47584, 26641, 27510, 21004, 13527, 80355, 34317, 33004, 32609, 37652, 27852, 192897, 62837, 18936, 27551, 20574, 18708, 31629, 36769, 3394, 51287, 37785, 44999, 19053, 64524, 24274, 44360, 11626, 24942, 18248, 9086, 36636, 22415, 55285, 61596, 64841, 16850, 36145, 28193, 36236, 14643, 5064, 11241, 2890, 29797, 14445, 14332, 33444, 58127, 64262, 12374, 45264, 13555, 5026, 27469, 41704, 11652, 9654, 27854, 60503, 26307, 36306, 43643, 8511, 103416, 16914, 63771, 27967, 55336, 33749, 37857, 34322, 9149, 30535, 11454, 53351, 85349, 152093, 50425, 34097, 25820, 41280, 64104, 54594, 49515, 46720, 35481, 24628, 37274, 54113, 39747, 39373, 15803, 30657, 39552, 41612, 37797, 10416, 33914, 17017, 40889, 10288, 67021, 42538, 8436, 38042, 11930, 77894, 50805, 23632, 49670, 2614, 23954, 9860, 57545, 46826, 58679, 69640, 23940, 50590, 27693, 35705, 21997, 40607, 5414, 38285, 11261, 123691, 51860, 49265, 5125, 46084, 29732, 15568, 18376, 14352, 38818, 17392, 32460, 50364, 4421, 7161, 18344, 21850, 25299, 14129, 14530, 22150, 35136, 5170, 43089, 5748, 43761, 33491, 43027, 66908, 20856, 35835, 34878, 17926, 16568, 27354, 72621, 131102, 11916, 17526, 29761, 84144, 26944, 9300, 626, 23406, 62492, 4230, 4195, 5897, 10393, 64900, 25675, 29653, 20305, 6523, 26771, 13912, 38499, 44921, 9045, 44187, 1344, 7177, 32502, 37091, 88008, 22020, 6790, 15748, 19431, 56321, 5683, 20250, 20437, 29473, 44684, 25930, 30302, 14574, 136485, 35242, 49883, 23935, 1640, 33338, 1508, 70164, 36366, 70161, 36666, 36970, 39757, 82280, 37944, 40951, 27397, 69690, 35003, 66168, 87552, 126056, 57127, 40335, 63955, 125260, 14674, 21548, 14656, 21934, 7862, 24767, 10811, 32661, 46748, 25467, 58673, 11264, 60199, 18799, 6513, 2253, 36712, 22885, 17548, 29870, 37949, 15386, 62111, 51134, 1735, 18269, 82362, 34355, 13199, 16853, 39614, 46452, 13833, 53883, 37563, 36637, 22871, 39574, 30017, 1147, 13522, 44112, 36598, 12525, 10614, 15627, 44802, 47193, 53677, 61054, 12945, 42905, 2558, 331774, 6734, 21457, 51491, 37197, 13542, 16495, 109616, 31379, 17175, 76105, 27734, 25276, 14537, 38191, 22069, 41348, 34746, 35426, 39343, 37929, 47420, 28223, 27755, 27007, 30816, 15623, 98138, 42984, 46130, 12264, 21960, 40755, 98353, 12675, 100728, 57881, 27907, 25722, 18483, 17548, 53622, 71649, 13684, 33692, 96542, 35028, 19657, 12132, 16538, 101121, 19229, 25289, 22407, 72784, 19841, 22639, 81729, 53888, 82644, 49803, 23756, 17963, 42399, 8525, 56083, 37827, 83002, 32990, 20027, 7450, 12528, 10693, 34700, 24628, 25052, 30321, 52766, 13469, 25037, 22778, 27076, 18913, 12355, 60058, 41671, 64229, 79737, 30952, 81983, 11241, 26588, 30434, 34335, 75246, 7161, 42843, 2138, 58323, 19976, 29223, 13253, 15704, 43887, 15506, 42639, 13955, 78452, 33828, 24313, 40600, 21985, 14930, 88702, 57545, 17980, 32503, 35761, 161851, 40083, 41989, 3540, 75244, 21494, 96423, 41632, 34773, 10560, 98540, 27657, 10265, 22645, 65203, 30809, 48566, 59685, 36875, 7296, 11701, 118950, 35185, 15649, 52043, 13751, 36057, 55694, 71607, 143626, 15604, 16713, 24177, 158598, 19304, 13964, 42171, 29018, 50340, 36697, 26844, 36021, 56938, 11576, 33854, 55018, 64000, 36293, 27211, 6570, 102953, 31491, 47414, 37642, 14435, 20439, 22358, 19793, 17889, 29894, 21665, 8835, 24870, 33024, 39666, 31076, 44038, 23011, 21942, 35205, 13883, 19044, 42900, 38668, 85282, 54053, 14979, 18090, 65513, 32238, 39368, 34105, 68725, 53162, 24792, 104422]\n",
    "ones = 1\n",
    "twos = 1\n",
    "threes = 1\n",
    "fours = 1\n",
    "fives = 1\n",
    "sixes = 1\n",
    "sevens = 1\n",
    "eights = 1\n",
    "nines = 1\n",
    "\n",
    "for i in range(len(naa)):\n",
    "    if str(naa[i]).startswith('1'):\n",
    "        ones += 1\n",
    "    elif str(naa[i]).startswith('2'):\n",
    "        twos += 1\n",
    "    elif str(naa[i]).startswith('3'):\n",
    "        threes += 1\n",
    "    elif str(naa[i]).startswith('4'):\n",
    "        fours += 1\n",
    "    elif str(naa[i]).startswith('5'):\n",
    "        fives += 1\n",
    "    elif str(naa[i]).startswith('6'):\n",
    "        sixes += 1\n",
    "    elif str(naa[i]).startswith('7'):\n",
    "        sevens += 1\n",
    "    elif str(naa[i]).startswith('8'):\n",
    "        eights += 1\n",
    "    elif str(naa[i]).startswith('9'):\n",
    "        nines += 1\n",
    "        \n",
    "occurences = [ones / 500, twos / 500, threes / 500, fours / 500, fives / 500, sixes / 500, sevens / 500, eights / 500, nines / 500]\n",
    "\n",
    "for i in range(len(occurences)):\n",
    "    print(\"The percent of {}'s is: {:.1%}\".format(i+1, occurences[i]))\n",
    "# The Sequences mostly obey Benford's Law."
   ]
  },
  {
   "cell_type": "code",
   "execution_count": null,
   "metadata": {},
   "outputs": [],
   "source": []
  }
 ],
 "metadata": {
  "kernelspec": {
   "display_name": "Python 3",
   "language": "python",
   "name": "python3"
  },
  "language_info": {
   "codemirror_mode": {
    "name": "ipython",
    "version": 3
   },
   "file_extension": ".py",
   "mimetype": "text/x-python",
   "name": "python",
   "nbconvert_exporter": "python",
   "pygments_lexer": "ipython3",
   "version": "3.8.5"
  }
 },
 "nbformat": 4,
 "nbformat_minor": 4
}
