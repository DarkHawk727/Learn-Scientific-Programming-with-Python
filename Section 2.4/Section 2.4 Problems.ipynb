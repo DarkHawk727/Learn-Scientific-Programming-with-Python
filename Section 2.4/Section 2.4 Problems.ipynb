{
 "cells": [
  {
   "cell_type": "markdown",
   "source": [
    "## P2.4.1\n",
    "----"
   ],
   "metadata": {}
  },
  {
   "cell_type": "code",
   "execution_count": 24,
   "source": [
    "a = [1, 2, 3]\r\n",
    "p = []\r\n",
    "product = 1\r\n",
    "# Fill array with product of all elements\r\n",
    "for i in a:\r\n",
    "    product *= i\r\n",
    "for i in a:\r\n",
    "    p.append(product // i)\r\n",
    "print(p)"
   ],
   "outputs": [
    {
     "output_type": "stream",
     "name": "stdout",
     "text": [
      "[6, 3, 2]\n"
     ]
    }
   ],
   "metadata": {}
  },
  {
   "cell_type": "markdown",
   "source": [
    "## P2.4.2\n",
    "----"
   ],
   "metadata": {}
  },
  {
   "cell_type": "code",
   "execution_count": 27,
   "source": [
    "s1 = 'noiseless'\r\n",
    "s2 = 'nuisances'\r\n",
    "hamming_distance = 0\r\n",
    "\r\n",
    "for i in range(len(s1)):\r\n",
    "    if s1[i] != s2[i]:\r\n",
    "        hamming_distance +=1\r\n",
    "print(hamming_distance)"
   ],
   "outputs": [
    {
     "output_type": "stream",
     "name": "stdout",
     "text": [
      "5\n"
     ]
    }
   ],
   "metadata": {}
  },
  {
   "cell_type": "markdown",
   "source": [
    "## P2.4.3\n",
    "----"
   ],
   "metadata": {}
  },
  {
   "cell_type": "code",
   "execution_count": 147,
   "source": [
    "pie = ('3', '.', '1', '4', '1', '5', '9', '2', '6', '5')\r\n",
    "words = ('zero', 'one', 'two', 'three', 'four', 'five', 'six', 'seven', 'eight', 'nine')\r\n",
    "\r\n",
    "for num in pie:\r\n",
    "    try:\r\n",
    "        if num == '.':\r\n",
    "            print('point')\r\n",
    "        print(words[int(num)])\r\n",
    "    except(ValueError):\r\n",
    "        pass\r\n",
    "# Now, technially, im not supposed to use a try except, but idc."
   ],
   "outputs": [
    {
     "output_type": "stream",
     "name": "stdout",
     "text": [
      "three\n",
      "point\n",
      "one\n",
      "four\n",
      "one\n",
      "five\n",
      "nine\n",
      "two\n",
      "six\n",
      "five\n"
     ]
    }
   ],
   "metadata": {}
  },
  {
   "cell_type": "markdown",
   "source": [
    "## P2.4.4\n",
    "----"
   ],
   "metadata": {}
  },
  {
   "cell_type": "code",
   "execution_count": 34,
   "source": [
    "max_rows = 8\r\n",
    "rows = [[1], [1,1]]\r\n",
    "for num in range(1, max_rows + 1):\r\n",
    "    rows.append([1,])\r\n",
    "    for i in range(num-1):\r\n",
    "        rows[num].append(rows[num - 1][i] + rows[num - 1][i + 1])\r\n",
    "    rows[num].append(1)\r\n",
    "\r\n",
    "for i , row in enumerate(rows):\r\n",
    "    print('{row:^{length:d}}'.format(length=4*(max_rows+1), row=('{:4d}'*(i+1)).format(*row)))"
   ],
   "outputs": [
    {
     "output_type": "stream",
     "name": "stdout",
     "text": [
      "                   1                \n",
      "                 1   1              \n",
      "               1   2   1            \n",
      "             1   3   3   1          \n",
      "           1   4   6   4   1        \n",
      "         1   5  10  10   5   1      \n",
      "       1   6  15  20  15   6   1    \n",
      "     1   7  21  35  35  21   7   1  \n",
      "   1   8  28  56  70  56  28   8   1\n"
     ]
    },
    {
     "output_type": "error",
     "ename": "IndexError",
     "evalue": "Replacement index 1 out of range for positional args tuple",
     "traceback": [
      "\u001b[1;31m---------------------------------------------------------------------------\u001b[0m",
      "\u001b[1;31mIndexError\u001b[0m                                Traceback (most recent call last)",
      "\u001b[1;32m<ipython-input-34-208f36ddf7c1>\u001b[0m in \u001b[0;36m<module>\u001b[1;34m\u001b[0m\n\u001b[0;32m      8\u001b[0m \u001b[1;33m\u001b[0m\u001b[0m\n\u001b[0;32m      9\u001b[0m \u001b[1;32mfor\u001b[0m \u001b[0mi\u001b[0m \u001b[1;33m,\u001b[0m \u001b[0mrow\u001b[0m \u001b[1;32min\u001b[0m \u001b[0menumerate\u001b[0m\u001b[1;33m(\u001b[0m\u001b[0mrows\u001b[0m\u001b[1;33m)\u001b[0m\u001b[1;33m:\u001b[0m\u001b[1;33m\u001b[0m\u001b[1;33m\u001b[0m\u001b[0m\n\u001b[1;32m---> 10\u001b[1;33m     \u001b[0mprint\u001b[0m\u001b[1;33m(\u001b[0m\u001b[1;34m'{row:^{length:d}}'\u001b[0m\u001b[1;33m.\u001b[0m\u001b[0mformat\u001b[0m\u001b[1;33m(\u001b[0m\u001b[0mlength\u001b[0m\u001b[1;33m=\u001b[0m\u001b[1;36m4\u001b[0m\u001b[1;33m*\u001b[0m\u001b[1;33m(\u001b[0m\u001b[0mmax_rows\u001b[0m\u001b[1;33m+\u001b[0m\u001b[1;36m1\u001b[0m\u001b[1;33m)\u001b[0m\u001b[1;33m,\u001b[0m \u001b[0mrow\u001b[0m\u001b[1;33m=\u001b[0m\u001b[1;33m(\u001b[0m\u001b[1;34m'{:4d}'\u001b[0m\u001b[1;33m*\u001b[0m\u001b[1;33m(\u001b[0m\u001b[0mi\u001b[0m\u001b[1;33m+\u001b[0m\u001b[1;36m1\u001b[0m\u001b[1;33m)\u001b[0m\u001b[1;33m)\u001b[0m\u001b[1;33m.\u001b[0m\u001b[0mformat\u001b[0m\u001b[1;33m(\u001b[0m\u001b[1;33m*\u001b[0m\u001b[0mrow\u001b[0m\u001b[1;33m)\u001b[0m\u001b[1;33m)\u001b[0m\u001b[1;33m)\u001b[0m\u001b[1;33m\u001b[0m\u001b[1;33m\u001b[0m\u001b[0m\n\u001b[0m",
      "\u001b[1;31mIndexError\u001b[0m: Replacement index 1 out of range for positional args tuple"
     ]
    }
   ],
   "metadata": {}
  },
  {
   "cell_type": "markdown",
   "source": [
    "## P2.4.5\n",
    "----"
   ],
   "metadata": {}
  },
  {
   "cell_type": "code",
   "execution_count": 40,
   "source": [
    "sequence = 'AGTCTTATATCT'\r\n",
    "codons = []\r\n",
    "frame = 0\r\n",
    "end = len(sequence[frame:]) - len(sequence[frame:]) % 3\r\n",
    "\r\n",
    "for i in range(frame, end, 3):\r\n",
    "    codons.append(sequence[i:i+3])\r\n",
    "codons"
   ],
   "outputs": [
    {
     "output_type": "execute_result",
     "data": {
      "text/plain": [
       "['AGT', 'CTT', 'ATA', 'TCT']"
      ]
     },
     "metadata": {},
     "execution_count": 40
    }
   ],
   "metadata": {}
  },
  {
   "cell_type": "markdown",
   "source": [
    "## P2.4.6\n",
    "----"
   ],
   "metadata": {}
  },
  {
   "cell_type": "code",
   "execution_count": 44,
   "source": [
    "# Odd Numbers.\r\n",
    "n = 11\r\n",
    "ans = 1\r\n",
    "for i in range(3, n+1,2):\r\n",
    "    ans *= i\r\n",
    "print('{}!! = {}'.format(n, ans))"
   ],
   "outputs": [
    {
     "output_type": "stream",
     "name": "stdout",
     "text": [
      "11!! = 10395\n"
     ]
    }
   ],
   "metadata": {}
  },
  {
   "cell_type": "code",
   "execution_count": 41,
   "source": [
    "# Even Numbers\r\n",
    "import math\r\n",
    "\r\n",
    "n = 10\r\n",
    "ans = 2 ** (n // 2) * math.factorial(n // 2)\r\n",
    "print('{}!! = {}'.format(n, ans))"
   ],
   "outputs": [
    {
     "output_type": "stream",
     "name": "stdout",
     "text": [
      "10!! = 3840\n"
     ]
    }
   ],
   "metadata": {}
  },
  {
   "cell_type": "code",
   "execution_count": 43,
   "source": [
    "import math\r\n",
    "n = 10\r\n",
    "dfactorial = 2**(n // 2) * math.factorial(n // 2)\r\n",
    "print('{:d}!! = {:d}'.format(n, dfactorial))"
   ],
   "outputs": [
    {
     "output_type": "stream",
     "name": "stdout",
     "text": [
      "10!! = 3840\n"
     ]
    }
   ],
   "metadata": {}
  },
  {
   "cell_type": "markdown",
   "source": [
    "## P2.4.7\n",
    "----"
   ],
   "metadata": {}
  },
  {
   "cell_type": "code",
   "execution_count": 61,
   "source": [
    "# a)\r\n",
    "import math\r\n",
    "\r\n",
    "n = 500\r\n",
    "a, b = 1, 1\r\n",
    "fibonacci_digits = [None,2,0,0,0,0,0,0,0,0]\r\n",
    "benford = [None]\r\n",
    "\r\n",
    "for i in range(3, n + 1):\r\n",
    "    a = a + b\r\n",
    "    b = a\r\n",
    "    digit = int(a / 10 ** (int(math.log10(a))))\r\n",
    "    fibonacci_digits[digit] += 1\r\n",
    "\r\n",
    "for d in range(1, 10):\r\n",
    "    fibonacci_digits[d] /= n\r\n",
    "    benford.append(math.log10((d + 1) / d))\r\n",
    "\r\n",
    "print('-'*29)\r\n",
    "print('Digit | Predicted | Observed')\r\n",
    "print('-'*29)\r\n",
    "for d in range(1, 10):\r\n",
    "    print('  {:1d}   |   {:5.3f}   |   {:5.3f}'.format(d, benford[d], fibonacci_digits[d]))\r\n",
    "print('-'*29)"
   ],
   "outputs": [
    {
     "output_type": "stream",
     "name": "stdout",
     "text": [
      "-----------------------------\n",
      "Digit | Predicted | Observed\n",
      "-----------------------------\n",
      "  1   |   0.301   |   0.302\n",
      "  2   |   0.176   |   0.176\n",
      "  3   |   0.125   |   0.124\n",
      "  4   |   0.097   |   0.098\n",
      "  5   |   0.079   |   0.078\n",
      "  6   |   0.067   |   0.068\n",
      "  7   |   0.058   |   0.056\n",
      "  8   |   0.051   |   0.052\n",
      "  9   |   0.046   |   0.046\n",
      "-----------------------------\n"
     ]
    }
   ],
   "metadata": {}
  },
  {
   "cell_type": "code",
   "execution_count": 70,
   "source": [
    "# b)\r\n",
    "naa = [40055, 27711, 36332, 13309, 12808, 3425, 56868, 44400, 26557, 48423, 14844, 47584, 26641, 27510, 21004, 13527, 80355, 34317, 33004, 32609, 37652, 27852, 192897, 62837, 18936, 27551, 20574, 18708, 31629, 36769, 3394, 51287, 37785, 44999, 19053, 64524, 24274, 44360, 11626, 24942, 18248, 9086, 36636, 22415, 55285, 61596, 64841, 16850, 36145, 28193, 36236, 14643, 5064, 11241, 2890, 29797, 14445, 14332, 33444, 58127, 64262, 12374, 45264, 13555, 5026, 27469, 41704, 11652, 9654, 27854, 60503, 26307, 36306, 43643, 8511, 103416, 16914, 63771, 27967, 55336, 33749, 37857, 34322, 9149, 30535, 11454, 53351, 85349, 152093, 50425, 34097, 25820, 41280, 64104, 54594, 49515, 46720, 35481, 24628, 37274, 54113, 39747, 39373, 15803, 30657, 39552, 41612, 37797, 10416, 33914, 17017, 40889, 10288, 67021, 42538, 8436, 38042, 11930, 77894, 50805, 23632, 49670, 2614, 23954, 9860, 57545, 46826, 58679, 69640, 23940, 50590, 27693, 35705, 21997, 40607, 5414, 38285, 11261, 123691, 51860, 49265, 5125, 46084, 29732, 15568, 18376, 14352, 38818, 17392, 32460, 50364, 4421, 7161, 18344, 21850, 25299, 14129, 14530, 22150, 35136, 5170, 43089, 5748, 43761, 33491, 43027, 66908, 20856, 35835, 34878, 17926, 16568, 27354, 72621, 131102, 11916, 17526, 29761, 84144, 26944, 9300, 626, 23406, 62492, 4230, 4195, 5897, 10393, 64900, 25675, 29653, 20305, 6523, 26771, 13912, 38499, 44921, 9045, 44187, 1344, 7177, 32502, 37091, 88008, 22020, 6790, 15748, 19431, 56321, 5683, 20250, 20437, 29473, 44684, 25930, 30302, 14574, 136485, 35242, 49883, 23935, 1640, 33338, 1508, 70164, 36366, 70161, 36666, 36970, 39757, 82280, 37944, 40951, 27397, 69690, 35003, 66168, 87552, 126056, 57127, 40335, 63955, 125260, 14674, 21548, 14656, 21934, 7862, 24767, 10811, 32661, 46748, 25467, 58673, 11264, 60199, 18799, 6513, 2253, 36712, 22885, 17548, 29870, 37949, 15386, 62111, 51134, 1735, 18269, 82362, 34355, 13199, 16853, 39614, 46452, 13833, 53883, 37563, 36637, 22871, 39574, 30017, 1147, 13522, 44112, 36598, 12525, 10614, 15627, 44802, 47193, 53677, 61054, 12945, 42905, 2558, 331774, 6734, 21457, 51491, 37197, 13542, 16495, 109616, 31379, 17175, 76105, 27734, 25276, 14537, 38191, 22069, 41348, 34746, 35426, 39343, 37929, 47420, 28223, 27755, 27007, 30816, 15623, 98138, 42984, 46130, 12264, 21960, 40755, 98353, 12675, 100728, 57881, 27907, 25722, 18483, 17548, 53622, 71649, 13684, 33692, 96542, 35028, 19657, 12132, 16538, 101121, 19229, 25289, 22407, 72784, 19841, 22639, 81729, 53888, 82644, 49803, 23756, 17963, 42399, 8525, 56083, 37827, 83002, 32990, 20027, 7450, 12528, 10693, 34700, 24628, 25052, 30321, 52766, 13469, 25037, 22778, 27076, 18913, 12355, 60058, 41671, 64229, 79737, 30952, 81983, 11241, 26588, 30434, 34335, 75246, 7161, 42843, 2138, 58323, 19976, 29223, 13253, 15704, 43887, 15506, 42639, 13955, 78452, 33828, 24313, 40600, 21985, 14930, 88702, 57545, 17980, 32503, 35761, 161851, 40083, 41989, 3540, 75244, 21494, 96423, 41632, 34773, 10560, 98540, 27657, 10265, 22645, 65203, 30809, 48566, 59685, 36875, 7296, 11701, 118950, 35185, 15649, 52043, 13751, 36057, 55694, 71607, 143626, 15604, 16713, 24177, 158598, 19304, 13964, 42171, 29018, 50340, 36697, 26844, 36021, 56938, 11576, 33854, 55018, 64000, 36293, 27211, 6570, 102953, 31491, 47414, 37642, 14435, 20439, 22358, 19793, 17889, 29894, 21665, 8835, 24870, 33024, 39666, 31076, 44038, 23011, 21942, 35205, 13883, 19044, 42900, 38668, 85282, 54053, 14979, 18090, 65513, 32238, 39368, 34105, 68725, 53162, 24792, 104422]\r\n",
    "fibonacci_digits = [None,2,0,0,0,0,0,0,0,0]\r\n",
    "benford = [None]\r\n",
    "\r\n",
    "for e in naa:\r\n",
    "    d = int(e/ 10 ** (int(math.log10(e))))\r\n",
    "    fibonacci_digits[d] += 1\r\n",
    "\r\n",
    "for d in range(1, 10):\r\n",
    "    fibonacci_digits[d] /= len(naa)\r\n",
    "    benford.append(math.log10((d + 1) / d))\r\n",
    "\r\n",
    "print('-'*29)\r\n",
    "print('Digit | Predicted | Observed')\r\n",
    "print('-'*29)\r\n",
    "for d in range(1, 10):\r\n",
    "    print('  {:1d}   |   {:5.3f}   |   {:5.3f}'.format(d, benford[d], fibonacci_digits[d]))\r\n",
    "print('-'*29)"
   ],
   "outputs": [
    {
     "output_type": "stream",
     "name": "stdout",
     "text": [
      "-----------------------------\n",
      "Digit | Predicted | Observed\n",
      "-----------------------------\n",
      "  1   |   0.301   |   0.254\n",
      "  2   |   0.176   |   0.190\n",
      "  3   |   0.125   |   0.200\n",
      "  4   |   0.097   |   0.116\n",
      "  5   |   0.079   |   0.090\n",
      "  6   |   0.067   |   0.062\n",
      "  7   |   0.058   |   0.036\n",
      "  8   |   0.051   |   0.034\n",
      "  9   |   0.046   |   0.022\n",
      "-----------------------------\n"
     ]
    }
   ],
   "metadata": {
    "scrolled": false
   }
  }
 ],
 "metadata": {
  "kernelspec": {
   "name": "python3",
   "display_name": "Python 3.8.5 64-bit ('base': conda)"
  },
  "language_info": {
   "codemirror_mode": {
    "name": "ipython",
    "version": 3
   },
   "file_extension": ".py",
   "mimetype": "text/x-python",
   "name": "python",
   "nbconvert_exporter": "python",
   "pygments_lexer": "ipython3",
   "version": "3.8.5"
  },
  "interpreter": {
   "hash": "d2bc6b4c9da03010ac150b121b41a6774448383ed127203916f2efbc81d8799e"
  }
 },
 "nbformat": 4,
 "nbformat_minor": 4
}