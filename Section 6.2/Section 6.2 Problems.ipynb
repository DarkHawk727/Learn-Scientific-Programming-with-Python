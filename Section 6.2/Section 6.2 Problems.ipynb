{
 "cells": [
  {
   "cell_type": "markdown",
   "metadata": {},
   "source": [
    "## P6.2.1\n",
    "-----"
   ]
  },
  {
   "cell_type": "code",
   "execution_count": 37,
   "metadata": {},
   "outputs": [
    {
     "name": "stdout",
     "output_type": "stream",
     "text": [
      "name             height  first_ascension    first_winter_ascencion      latitude    longitude\n",
      "-------------  --------  -----------------  ------------------------  ----------  -----------\n",
      "Annapurna I        8091  1950-06-03         1987-02-03                   28.5961      83.8203\n",
      "Broad Peak         8051  1957-06-09         2013-03-05                   35.8108      76.5683\n",
      "Cho Oyu            8201  1954-10-19         1985-02-12                   28.0942      86.6608\n",
      "Dhaulagiri I       8167  1960-05-13         1985-01-21                   27.9881      86.9253\n",
      "Everest            8848  1953-05-29         1980-02-17                   27.9881      86.9253\n",
      "Gasherbrum I       8080  1958-07-05         2012-03-09                   35.7244      76.6964\n",
      "Gasherbrum II      8034  1956-07-07         2011-02-02                   35.7583      76.6533\n",
      "K2                 8611  1954-07-31         ???                          35.8825      76.5133\n",
      "Kangchenjunga      8568  1955-05-25         1986-01-11                   27.7025      88.1483\n",
      "Lhotse             8516  1956-05-18         1988-12-31                   27.9617      86.9333\n",
      "Makalu             8485  1955-05-15         2009-02-09                   27.8892      87.0886\n",
      "Manaslu            8163  1956-05-09         1984-01-12                   28.55        84.5597\n",
      "Nanga Parbat       8126  1953-07-03         2016-02-16                   35.2375      74.5892\n",
      "Shishapangma       8027  1964-05-02         2005-01-14                   28.3522      85.7797\n",
      "\n",
      "The tallest mountain is Shishapangma\n",
      "The most northerly peak is K2\n",
      "The most southerly peak is Kangchenjunga\n",
      "The most easterly peak is Kangchenjunga\n",
      "The most westerly peak is Nanga Parbat\n",
      "The most recent first ascent is Shishapangma\n",
      "The most recent first winter ascent is K2\n"
     ]
    }
   ],
   "source": [
    "import numpy as np\n",
    "from datetime import datetime, timedelta\n",
    "from tabulate import tabulate\n",
    "\n",
    "EPOCH = datetime(1970, 1, 1)\n",
    "\n",
    "datatype = np.dtype(\n",
    "    [\n",
    "        (\"name\", \"S20\"),\n",
    "        (\"height\", int),\n",
    "        (\"first_ascension\", \"S10\"),\n",
    "        (\"first_winter_ascencion\", \"S10\"),\n",
    "        (\"latitude\", \"S20\"),\n",
    "        (\"longitude\", \"S20\"),\n",
    "    ]\n",
    ")\n",
    "\n",
    "\n",
    "def convert_to_datetime(date_string: str) -> float:\n",
    "    \"\"\"\n",
    "    Convert a string of the form DD/MM/YYYY into the number of seconds since the epoch.\n",
    "    \"\"\"\n",
    "    return datetime.strptime(date_string.decode(\"utf-8\"), \"%d/%m/%Y\")\n",
    "\n",
    "\n",
    "def angle_str_to_float(angle: str) -> float:\n",
    "    \"\"\"\n",
    "    Convert an angle given in degrees, D, minutes, M, and seconds, S as a\n",
    "    string 'DdMdSs' in to a float representing decimal degrees.\n",
    "    \"\"\"\n",
    "    degrees, remainder = angle.split(\"d\")\n",
    "    minutes, remainder = remainder.split(\"m\")\n",
    "    seconds, remainder = remainder.split(\"s\")\n",
    "    return float(degrees) + float(minutes) / 60 + float(seconds) / 3600\n",
    "\n",
    "\n",
    "def convert_longlat_to_float(longlat: str) -> float:\n",
    "    \"\"\"\n",
    "    Convert a string representing the coordinates to a float.\n",
    "    \"\"\"\n",
    "    longlat = longlat.decode(\"utf-8\")\n",
    "    sgn = {\"N\": 1, \"E\": 1, \"S\": -1, \"W\": -1}\n",
    "    return sgn[longlat[-1]] * angle_str_to_float(longlat[:-1])\n",
    "\n",
    "\n",
    "mountain_peaks = np.genfromtxt(\n",
    "    \"C:/Users/Arjun Sarao/Learn-Scientific-Programming-with-Python-Solutions/LSPwP_accompanying_files/ex6-2-b-mountain-data.txt\",\n",
    "    dtype=datatype,\n",
    "    skip_header=11,\n",
    "        converters={\n",
    "        2: convert_to_datetime,\n",
    "        3: convert_to_datetime,\n",
    "        4: convert_longlat_to_float,\n",
    "        5: convert_longlat_to_float,\n",
    "\n",
    "    },\n",
    "\n",
    "    delimiter=(13, 5, 14, 12, 13, 11),\n",
    "    skip_footer=1,\n",
    "    autostrip=True,\n",
    ")\n",
    "\n",
    "print(tabulate(mountain_peaks, headers=\"keys\") + \"\\n\")\n",
    "\n",
    "shortest_mountain = np.argmin(mountain_peaks[\"height\"])\n",
    "print(f\"The tallest mountain is {mountain_peaks[shortest_mountain]['name'].decode('utf-8')}\")\n",
    "\n",
    "most_northerly_peak = np.argmax(mountain_peaks[\"latitude\"])\n",
    "print(f\"The most northerly peak is {mountain_peaks[most_northerly_peak]['name'].decode('utf-8')}\")\n",
    "\n",
    "most_southerly_peak = np.argmin(mountain_peaks[\"latitude\"])\n",
    "print(f\"The most southerly peak is {mountain_peaks[most_southerly_peak]['name'].decode('utf-8')}\")\n",
    "\n",
    "most_easterly_peak = np.argmax(mountain_peaks[\"longitude\"])\n",
    "print(f\"The most easterly peak is {mountain_peaks[most_easterly_peak]['name'].decode('utf-8')}\")\n",
    "\n",
    "most_westerly_peak = np.argmin(mountain_peaks[\"longitude\"])\n",
    "print(f\"The most westerly peak is {mountain_peaks[most_westerly_peak]['name'].decode('utf-8')}\")\n",
    "\n",
    "\n",
    "most_recent_first_ascent = np.argmax(mountain_peaks[\"first_ascension\"])\n",
    "print(f\"The most recent first ascent is {mountain_peaks[most_recent_first_ascent]['name'].decode('utf-8')}\")\n",
    "\n",
    "most_recent_first_winter_ascent = np.argmax(mountain_peaks[\"first_winter_ascencion\"])\n",
    "print(f\"The most recent first winter ascent is {mountain_peaks[most_recent_first_winter_ascent]['name'].decode('utf-8')}\")\n"
   ]
  },
  {
   "cell_type": "markdown",
   "metadata": {},
   "source": [
    "## P6.2.2\n",
    "-----"
   ]
  },
  {
   "cell_type": "code",
   "execution_count": 63,
   "metadata": {},
   "outputs": [
    {
     "name": "stdout",
     "output_type": "stream",
     "text": [
      "The distance is 8625.13 km.\n"
     ]
    }
   ],
   "source": [
    "import numpy as np\n",
    "from math import radians, cos, sin, asin, sqrt\n",
    "from tabulate import tabulate\n",
    "\n",
    "datatype = np.dtype(\n",
    "    [\n",
    "        (\"IATA_code\", \"S3\"),\n",
    "        (\"name\", \"S50\"),\n",
    "        (\"location\", \"S50\"),\n",
    "        (\"latitude\", float),\n",
    "        (\"longitude\", float),\n",
    "    ]\n",
    ")\n",
    "\n",
    "\n",
    "def calculate_distance_between_coordinates(\n",
    "    lat1: float, lon1: float, lat2: float, lon2: float\n",
    ") -> float:\n",
    "    \"\"\"\n",
    "    Calculate the distance between two coordinates in kilometres.\n",
    "    \"\"\"\n",
    "    lon1, lat1, lon2, lat2 = map(radians, [lon1, lat1, lon2, lat2])\n",
    "    dlon = lon2 - lon1\n",
    "    dlat = lat2 - lat1\n",
    "    a = sin(dlat / 2) ** 2 + cos(lat1) * cos(lat2) * sin(dlon / 2) ** 2\n",
    "    c = 2 * asin(sqrt(a))\n",
    "    km = 6378.1 * c\n",
    "    return km\n",
    "\n",
    "\n",
    "airport_table = np.genfromtxt(\n",
    "    \"C:/Users/Arjun Sarao/Learn-Scientific-Programming-with-Python-Solutions/LSPwP_accompanying_files/busiest_airports.txt\",\n",
    "    dtype=datatype,\n",
    "    delimiter=\"\\t\",\n",
    "    autostrip=True,\n",
    ")\n",
    "# print(tabulate(airport_table, headers=\"keys\"))\n",
    "\n",
    "airport_1 = bytes(input(\"Enter the IATA code of the first airport: \"), encoding=\"ascii\")\n",
    "airport_2 = bytes(\n",
    "    input(\"Enter the IATA code of the second airport: \"), encoding=\"ascii\"\n",
    ")\n",
    "\n",
    "airport_1 = airport_table[airport_table[\"IATA_code\"] == airport_1]\n",
    "airport_2 = airport_table[airport_table[\"IATA_code\"] == airport_2]\n",
    "\n",
    "\n",
    "distance = calculate_distance_between_coordinates(\n",
    "    airport_1[\"latitude\"][0],\n",
    "    airport_1[\"longitude\"][0],\n",
    "    airport_2[\"latitude\"][0],\n",
    "    airport_2[\"longitude\"][0],\n",
    ")\n",
    "print(f\"The distance is {distance:.2f} km.\")\n"
   ]
  },
  {
   "cell_type": "markdown",
   "metadata": {},
   "source": [
    "## P6.2.3\n",
    "-----"
   ]
  },
  {
   "cell_type": "code",
   "execution_count": null,
   "metadata": {},
   "outputs": [],
   "source": [
    "import numpy as np\n"
   ]
  },
  {
   "cell_type": "markdown",
   "metadata": {},
   "source": [
    "## P6.2.4\n",
    "-----"
   ]
  },
  {
   "cell_type": "code",
   "execution_count": null,
   "metadata": {},
   "outputs": [],
   "source": [
    "import numpy as np\n"
   ]
  }
 ],
 "metadata": {
  "interpreter": {
   "hash": "26de051ba29f2982a8de78e945f0abaf191376122a1563185a90213a26c5da77"
  },
  "kernelspec": {
   "display_name": "Python 3.10.4 64-bit",
   "language": "python",
   "name": "python3"
  },
  "language_info": {
   "codemirror_mode": {
    "name": "ipython",
    "version": 3
   },
   "file_extension": ".py",
   "mimetype": "text/x-python",
   "name": "python",
   "nbconvert_exporter": "python",
   "pygments_lexer": "ipython3",
   "version": "3.10.4"
  },
  "orig_nbformat": 4
 },
 "nbformat": 4,
 "nbformat_minor": 2
}
