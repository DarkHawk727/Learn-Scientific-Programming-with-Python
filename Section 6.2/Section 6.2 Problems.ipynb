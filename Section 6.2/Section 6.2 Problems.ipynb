{
 "cells": [
  {
   "cell_type": "markdown",
   "metadata": {},
   "source": [
    "## P6.2.1\n",
    "-----"
   ]
  },
  {
   "cell_type": "code",
   "execution_count": 16,
   "metadata": {},
   "outputs": [],
   "source": [
    "import numpy as np\n",
    "from datetime import datetime, timedelta\n",
    "\n",
    "datatype = np.dtype([('name', 'S10'), ('height', int), ('first_ascent_date', 'S10'), ('first_winter_ascent_date', 'S10'), ('location', 'S10')])\n",
    "\n",
    "def angle_to_float(s: str) -> float:\n",
    "    \"\"\"\n",
    "    Convert a string of the form 'ddmmss' into a float of the form 'dd.mmss'.\n",
    "    \"\"\"\n",
    "    degrees, remainder = s.split('d')\n",
    "    minutes, seconds = remainder.split('m')\n",
    "    return float(degrees) + float(minutes)/60 + float(seconds)/3600\n",
    "\n",
    "\n",
    "def angle_float_to_string(abs_angle: float) -> str:\n",
    "    \"\"\"\n",
    "    Convert a float of the form 'dd.mmss' into a string of the form 'ddmmss'.\n",
    "    \"\"\"\n",
    "    degrees = int(abs_angle)\n",
    "    minutes = int((abs_angle - degrees) * 60)\n",
    "    seconds = int((abs_angle - degrees - minutes/60) * 3600)\n",
    "    return '{:02d}d{:02d}m{:02d}s'.format(degrees, minutes, seconds)\n",
    "\n",
    "\n",
    "def longlat_to_float(s: str) -> float:\n",
    "    \"\"\"\n",
    "    Convert a string of the form 'DdMmSsZ' (Z=N, E, S or W) into a float\n",
    "    \"\"\"\n",
    "    s = s.decode('utf-8')\n",
    "    direction = {'N': 1, 'E': 1, 'S': -1, 'W': -1}\n",
    "    return direction[s[-1]] * angle_to_float(s[:-1])\n",
    "\n",
    "\n",
    "def latitude_float_to_str(lat: float) -> str:\n",
    "    \"\"\"\n",
    "    Convert a float of the form 'dd.mmss' into a string of the form 'ddmmssN'\n",
    "    \"\"\"\n",
    "    if lat > 0:\n",
    "        return '{:.2f}N'.format(lat)\n",
    "    else:\n",
    "        return '{:.2f}S'.format(-lat)\n",
    "\n",
    "\n",
    "def longitude_float_to_str(lon: float) -> str:\n",
    "    \"\"\"\n",
    "    Convert a float of the form 'dd.mmss' into a string of the form 'ddmmssE'\n",
    "    \"\"\"\n",
    "    if lon > 0:\n",
    "        return '{:.2f}E'.format(lon)\n",
    "    else:\n",
    "        return '{:.2f}W'.format(-lon)\n",
    "\n",
    "\n",
    "def date_string_to_float(date: str) -> float:\n",
    "    \"\"\"\n",
    "    Convert a string of the form \"\"\"\n",
    "\n"
   ]
  },
  {
   "cell_type": "markdown",
   "metadata": {},
   "source": [
    "## P6.2.2\n",
    "-----"
   ]
  },
  {
   "cell_type": "code",
   "execution_count": 2,
   "metadata": {},
   "outputs": [],
   "source": [
    "import numpy as np\n"
   ]
  },
  {
   "cell_type": "markdown",
   "metadata": {},
   "source": [
    "## P6.2.3\n",
    "-----"
   ]
  },
  {
   "cell_type": "code",
   "execution_count": null,
   "metadata": {},
   "outputs": [],
   "source": [
    "import numpy as np\n"
   ]
  },
  {
   "cell_type": "markdown",
   "metadata": {},
   "source": [
    "## P6.2.4\n",
    "-----"
   ]
  },
  {
   "cell_type": "code",
   "execution_count": null,
   "metadata": {},
   "outputs": [],
   "source": [
    "import numpy as np\n"
   ]
  }
 ],
 "metadata": {
  "interpreter": {
   "hash": "d2bc6b4c9da03010ac150b121b41a6774448383ed127203916f2efbc81d8799e"
  },
  "kernelspec": {
   "display_name": "Python 3.8.5 64-bit ('base': conda)",
   "name": "python3"
  },
  "language_info": {
   "codemirror_mode": {
    "name": "ipython",
    "version": 3
   },
   "file_extension": ".py",
   "mimetype": "text/x-python",
   "name": "python",
   "nbconvert_exporter": "python",
   "pygments_lexer": "ipython3",
   "version": "3.9.7"
  },
  "orig_nbformat": 4
 },
 "nbformat": 4,
 "nbformat_minor": 2
}
