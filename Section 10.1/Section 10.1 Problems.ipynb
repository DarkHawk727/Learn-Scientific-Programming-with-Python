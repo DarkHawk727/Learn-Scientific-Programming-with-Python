{
 "cells": [
  {
   "cell_type": "markdown",
   "metadata": {},
   "source": [
    "## P10.1.1\n",
    "-----"
   ]
  },
  {
   "cell_type": "code",
   "execution_count": 2,
   "metadata": {},
   "outputs": [
    {
     "name": "stdout",
     "output_type": "stream",
     "text": [
      "Initial values are: a = 1.0, b = 1.0, c = 1.0e-13\n",
      "Simple Heron's formula: 4.9960036108132044e-14\n",
      "Numerically stable Heron's formula: 5e-14\n"
     ]
    }
   ],
   "source": [
    "from math import sqrt\n",
    "\n",
    "\n",
    "def simple_heron(a: float, b: float, c: float) -> float:\n",
    "    \"\"\"\n",
    "    Basic implementation of Heron's formula for the area of a triangle.\n",
    "    \"\"\"\n",
    "    s = (a + b + c) / 2\n",
    "    return sqrt(s * (s - a) * (s - b) * (s - c))\n",
    "\n",
    "\n",
    "def numerically_stable_heron(a: float, b: float, c: float) -> float:\n",
    "    \"\"\"\n",
    "    Numerically stable implementation of Heron's formula for the area of a triangle.\n",
    "    \"\"\"\n",
    "    a, b, c = sorted((a, b, c), reverse=True)\n",
    "    return sqrt((a + (b + c)) * (c - (a - b)) * (c + (a - b)) * (a + (b - c))) / 4.0\n",
    "\n",
    "\n",
    "print(\"Initial values are: a = 1.0, b = 1.0, c = 1.0e-13\")\n",
    "print(f\"Simple Heron's formula: {simple_heron(1.0, 1.0, 1.0e-13)}\")\n",
    "print(f\"Numerically stable Heron's formula: {numerically_stable_heron(1.0, 1.0, 1.0e-13)}\")\n"
   ]
  },
  {
   "cell_type": "markdown",
   "metadata": {},
   "source": [
    "## P10.1.2\n",
    "-----"
   ]
  },
  {
   "cell_type": "code",
   "execution_count": 4,
   "metadata": {},
   "outputs": [
    {
     "name": "stdout",
     "output_type": "stream",
     "text": [
      "<class 'int'> 1\n",
      "<class 'float'> 2.220446049250313e-16\n"
     ]
    },
    {
     "ename": "AttributeError",
     "evalue": "module 'numpy' has no attribute 'float128'",
     "output_type": "error",
     "traceback": [
      "\u001b[1;31m---------------------------------------------------------------------------\u001b[0m",
      "\u001b[1;31mAttributeError\u001b[0m                            Traceback (most recent call last)",
      "\u001b[1;32mc:\\Users\\Arjun Sarao\\Learn-Scientific-Programming-with-Python-Solutions\\Section 10.1\\Section 10.1 Problems.ipynb Cell 4'\u001b[0m in \u001b[0;36m<cell line: 18>\u001b[1;34m()\u001b[0m\n\u001b[0;32m     <a href='vscode-notebook-cell:/c%3A/Users/Arjun%20Sarao/Learn-Scientific-Programming-with-Python-Solutions/Section%2010.1/Section%2010.1%20Problems.ipynb#ch0000004?line=14'>15</a>\u001b[0m \u001b[39mprint\u001b[39m(\u001b[39mfloat\u001b[39m, get_epsilon(\u001b[39mfloat\u001b[39m))\n\u001b[0;32m     <a href='vscode-notebook-cell:/c%3A/Users/Arjun%20Sarao/Learn-Scientific-Programming-with-Python-Solutions/Section%2010.1/Section%2010.1%20Problems.ipynb#ch0000004?line=16'>17</a>\u001b[0m \u001b[39mimport\u001b[39;00m \u001b[39mnumpy\u001b[39;00m \u001b[39mas\u001b[39;00m \u001b[39mnp\u001b[39;00m\n\u001b[1;32m---> <a href='vscode-notebook-cell:/c%3A/Users/Arjun%20Sarao/Learn-Scientific-Programming-with-Python-Solutions/Section%2010.1/Section%2010.1%20Problems.ipynb#ch0000004?line=17'>18</a>\u001b[0m \u001b[39mprint\u001b[39m(np\u001b[39m.\u001b[39;49mfloat128, get_epsilon(np\u001b[39m.\u001b[39mfloat128))\n",
      "File \u001b[1;32m~\\AppData\\Roaming\\Python\\Python310\\site-packages\\numpy\\__init__.py:315\u001b[0m, in \u001b[0;36m__getattr__\u001b[1;34m(attr)\u001b[0m\n\u001b[0;32m    312\u001b[0m     \u001b[39mfrom\u001b[39;00m \u001b[39m.\u001b[39;00m\u001b[39mtesting\u001b[39;00m \u001b[39mimport\u001b[39;00m Tester\n\u001b[0;32m    313\u001b[0m     \u001b[39mreturn\u001b[39;00m Tester\n\u001b[1;32m--> 315\u001b[0m \u001b[39mraise\u001b[39;00m \u001b[39mAttributeError\u001b[39;00m(\u001b[39m\"\u001b[39m\u001b[39mmodule \u001b[39m\u001b[39m{!r}\u001b[39;00m\u001b[39m has no attribute \u001b[39m\u001b[39m\"\u001b[39m\n\u001b[0;32m    316\u001b[0m                      \u001b[39m\"\u001b[39m\u001b[39m{!r}\u001b[39;00m\u001b[39m\"\u001b[39m\u001b[39m.\u001b[39mformat(\u001b[39m__name__\u001b[39m, attr))\n",
      "\u001b[1;31mAttributeError\u001b[0m: module 'numpy' has no attribute 'float128'"
     ]
    }
   ],
   "source": [
    "import numpy as np\n",
    "\n",
    "\n",
    "def get_epsilon(dtype: type) -> float:\n",
    "    \"\"\"\n",
    "    Returns the epsilon value for the given dtype.\n",
    "    \"\"\"\n",
    "    eps = dtype(1)\n",
    "    while dtype(1) + dtype(eps) != dtype(1):\n",
    "        previous_eps = eps\n",
    "        eps = dtype(eps) / dtype(2)\n",
    "    return previous_eps\n",
    "\n",
    "print(int, get_epsilon(int))\n",
    "print(float, get_epsilon(float))\n",
    "\n",
    "import numpy as np\n",
    "print(np.float128, get_epsilon(np.float128))"
   ]
  }
 ],
 "metadata": {
  "kernelspec": {
   "display_name": "Python 3.10.4 64-bit",
   "language": "python",
   "name": "python3"
  },
  "language_info": {
   "codemirror_mode": {
    "name": "ipython",
    "version": 3
   },
   "file_extension": ".py",
   "mimetype": "text/x-python",
   "name": "python",
   "nbconvert_exporter": "python",
   "pygments_lexer": "ipython3",
   "version": "3.10.4"
  },
  "orig_nbformat": 4,
  "vscode": {
   "interpreter": {
    "hash": "26de051ba29f2982a8de78e945f0abaf191376122a1563185a90213a26c5da77"
   }
  }
 },
 "nbformat": 4,
 "nbformat_minor": 2
}
