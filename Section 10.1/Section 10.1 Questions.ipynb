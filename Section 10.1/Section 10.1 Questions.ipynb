{
 "cells": [
  {
   "cell_type": "markdown",
   "metadata": {},
   "source": [
    "## Q10.1.1\n",
    "-----"
   ]
  },
  {
   "cell_type": "markdown",
   "metadata": {},
   "source": [
    "Very good proof.\n",
    "$$\n",
    "\\text{Let } x = 0.9999\\dots \\\\\n",
    "\\begin{align*}\n",
    "10x &= 9.9999\\dots \\\\\n",
    "10x &= 9 + x \\\\\n",
    "9x &= 9 \\\\\n",
    "\\therefore x &= 1\n",
    "\\end{align*}\n",
    "$$"
   ]
  },
  {
   "cell_type": "markdown",
   "metadata": {},
   "source": [
    "## Q10.1.2\n",
    "-----"
   ]
  },
  {
   "cell_type": "code",
   "execution_count": 5,
   "metadata": {},
   "outputs": [
    {
     "name": "stdout",
     "output_type": "stream",
     "text": [
      "-1.2246467991473532e-16\n"
     ]
    },
    {
     "ename": "ValueError",
     "evalue": "math domain error",
     "output_type": "error",
     "traceback": [
      "\u001b[1;31m---------------------------------------------------------------------------\u001b[0m",
      "\u001b[1;31mValueError\u001b[0m                                Traceback (most recent call last)",
      "\u001b[1;32mc:\\Users\\Arjun Sarao\\Learn-Scientific-Programming-with-Python-Solutions\\Section 10.1\\Section 10.1 Questions.ipynb Cell 4'\u001b[0m in \u001b[0;36m<cell line: 5>\u001b[1;34m()\u001b[0m\n\u001b[0;32m      <a href='vscode-notebook-cell:/c%3A/Users/Arjun%20Sarao/Learn-Scientific-Programming-with-Python-Solutions/Section%2010.1/Section%2010.1%20Questions.ipynb#ch0000003?line=2'>3</a>\u001b[0m temp \u001b[39m=\u001b[39m tan(pi)\n\u001b[0;32m      <a href='vscode-notebook-cell:/c%3A/Users/Arjun%20Sarao/Learn-Scientific-Programming-with-Python-Solutions/Section%2010.1/Section%2010.1%20Questions.ipynb#ch0000003?line=3'>4</a>\u001b[0m \u001b[39mprint\u001b[39m(temp)\n\u001b[1;32m----> <a href='vscode-notebook-cell:/c%3A/Users/Arjun%20Sarao/Learn-Scientific-Programming-with-Python-Solutions/Section%2010.1/Section%2010.1%20Questions.ipynb#ch0000003?line=4'>5</a>\u001b[0m ans \u001b[39m=\u001b[39m sqrt(temp)\n\u001b[0;32m      <a href='vscode-notebook-cell:/c%3A/Users/Arjun%20Sarao/Learn-Scientific-Programming-with-Python-Solutions/Section%2010.1/Section%2010.1%20Questions.ipynb#ch0000003?line=5'>6</a>\u001b[0m \u001b[39mprint\u001b[39m(ans)\n",
      "\u001b[1;31mValueError\u001b[0m: math domain error"
     ]
    }
   ],
   "source": [
    "from math import tan, sqrt, pi\n",
    "\n",
    "temp = tan(pi)\n",
    "print(temp)\n",
    "ans = sqrt(temp)\n",
    "print(ans)"
   ]
  },
  {
   "cell_type": "markdown",
   "metadata": {},
   "source": [
    "As shown in the above code $tan(\\pi)$ in Python equals some small *negative* number. So the square root function does not work."
   ]
  },
  {
   "cell_type": "markdown",
   "metadata": {},
   "source": [
    "## Q10.1.3\n",
    "-----"
   ]
  },
  {
   "cell_type": "code",
   "execution_count": 13,
   "metadata": {},
   "outputs": [
    {
     "name": "stdout",
     "output_type": "stream",
     "text": [
      "x^n = 429501655585462177439255951207\n",
      "y^n = 3550743579600176835616363546199\n",
      "z^n = 3980245235185639013290924656032\n",
      "\n",
      "= x^n + y^n - z^n\n",
      "= 844487^5 + 1288439^5 - 1318202^5\n",
      "= 429501655585462177439255951207 + 3550743579600176835616363546199 - 3980245235185639013290924656032\n",
      "= 3980245235185639013055619497406 - 3980245235185639013290924656032\n",
      "= -235305158626\n"
     ]
    }
   ],
   "source": [
    "var1 = 844487**5\n",
    "var2 = 1288439**5\n",
    "var3 = 1318202**5\n",
    "print(f\"x^n = {var1}\")\n",
    "print(f\"y^n = {var2}\")\n",
    "print(f\"z^n = {var3}\")\n",
    "\n",
    "ans = var1 + var2 - var3\n",
    "print(\"\\n= x^n + y^n - z^n\")\n",
    "print(\"= 844487^5 + 1288439^5 - 1318202^5\")\n",
    "print(f\"= {var1} + {var2} - {var3}\")\n",
    "print(f\"= {var1+var2} - {var3}\")\n",
    "print(f\"= {ans}\")"
   ]
  },
  {
   "cell_type": "markdown",
   "metadata": {},
   "source": [
    "The bases of `var1, var2, var3` need to be integers not floating point numbers. This is an example of catastrophic cancellation."
   ]
  },
  {
   "cell_type": "markdown",
   "metadata": {},
   "source": [
    "## Q10.1.4\n",
    "-----"
   ]
  },
  {
   "cell_type": "code",
   "execution_count": 21,
   "metadata": {},
   "outputs": [
    {
     "data": {
      "image/png": "[encoded data removed]",
      "text/plain": [
       "<Figure size 432x288 with 1 Axes>"
      ]
     },
     "metadata": {
      "needs_background": "light"
     },
     "output_type": "display_data"
    }
   ],
   "source": [
    "import numpy as np\n",
    "import matplotlib.pyplot as plt\n",
    "\n",
    "x = np.linspace(-0.0001, 0.0001, 10_000)\n",
    "f = lambda x: (1 - np.cos(x)**2)/x**2\n",
    "g = lambda x: (np.sin(x)/x)**2\n",
    "\n",
    "plt.plot(x, f(x), label=r\"$f(x) = \\frac{1 - \\cos^2(x)}{x^2}$\")\n",
    "plt.plot(x, g(x), label=r\"$g(x) = \\frac{\\sin^2(x)}{x^2}$\")\n",
    "plt.legend()\n",
    "plt.ylim(0.99995, 1.00005)\n",
    "plt.show()"
   ]
  },
  {
   "cell_type": "markdown",
   "metadata": {},
   "source": [
    "The numerator of f(x) suffers from catastrophic cancellation."
   ]
  },
  {
   "cell_type": "markdown",
   "metadata": {},
   "source": [
    "## Q10.1.5\n",
    "-----"
   ]
  },
  {
   "cell_type": "code",
   "execution_count": 22,
   "metadata": {},
   "outputs": [
    {
     "data": {
      "text/plain": [
       "True"
      ]
     },
     "execution_count": 22,
     "metadata": {},
     "output_type": "execute_result"
    }
   ],
   "source": [
    "c = 0 * 1.e1000\n",
    "c != c"
   ]
  },
  {
   "cell_type": "markdown",
   "metadata": {},
   "source": [
    "We can check whether a value is `NaN` if it is not equal to itself."
   ]
  },
  {
   "cell_type": "markdown",
   "metadata": {},
   "source": [
    "## Q10.1.6\n",
    "-----"
   ]
  },
  {
   "cell_type": "code",
   "execution_count": 24,
   "metadata": {},
   "outputs": [
    {
     "name": "stdout",
     "output_type": "stream",
     "text": [
      "False\n",
      "False\n",
      "True\n",
      "False\n",
      "True\n",
      "True\n",
      "True\n",
      "False\n",
      "False\n",
      "False\n",
      "True\n"
     ]
    }
   ],
   "source": [
    "print(1e1001 > 1e1000)\n",
    "print(1e350/1.e100 == 1e250)\n",
    "print(1e250 * 1.e-250 == 1e150 * 1.e-150)\n",
    "print(1e350 * 1.e-350 == 1e450 * 1.e-450)\n",
    "print(1 / 1e250 == 1e-250)\n",
    "print(1 / 1e350 == 1e-350)\n",
    "print(1e450/1e350 != 1e450 * 1e-350)\n",
    "print(1e250/1e375 == 1e-125)\n",
    "print(1e35 / (1e1000 - 1e1000) == 1 / (1e1000 - 1e1000))\n",
    "print(1e1001 > 1e1000 or 1e1001 < 1e1000)\n",
    "print(1e1001 > 1e1000 or 1e1001 <= 1e1000)"
   ]
  }
 ],
 "metadata": {
  "kernelspec": {
   "display_name": "Python 3.10.4 64-bit",
   "language": "python",
   "name": "python3"
  },
  "language_info": {
   "codemirror_mode": {
    "name": "ipython",
    "version": 3
   },
   "file_extension": ".py",
   "mimetype": "text/x-python",
   "name": "python",
   "nbconvert_exporter": "python",
   "pygments_lexer": "ipython3",
   "version": "3.10.4"
  },
  "orig_nbformat": 4,
  "vscode": {
   "interpreter": {
    "hash": "26de051ba29f2982a8de78e945f0abaf191376122a1563185a90213a26c5da77"
   }
  }
 },
 "nbformat": 4,
 "nbformat_minor": 2
}
