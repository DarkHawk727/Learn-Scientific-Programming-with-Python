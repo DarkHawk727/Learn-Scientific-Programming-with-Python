{
 "cells": [
  {
   "cell_type": "markdown",
   "source": [
    "## Q6.1.1\r\n",
    "-----"
   ],
   "metadata": {}
  },
  {
   "cell_type": "markdown",
   "source": [
    "`np.ndarray()` is the class and `np.array()` is an instance of that class."
   ],
   "metadata": {}
  },
  {
   "cell_type": "markdown",
   "source": [
    "## Q6.1.2\r\n",
    "-----"
   ],
   "metadata": {}
  },
  {
   "cell_type": "markdown",
   "source": [
    "```python\r\n",
    "np.array((1, 0, 0), (0, 1, 0), (0, 0, 1), dtype=float)\r\n",
    "```\r\n",
    "There needs to be an extra parentheses between the elements, like below:\r\n",
    "```python\r\n",
    "np.array(((1, 0, 0), (0, 1, 0), (0, 0, 1)), dtype=float)\r\n",
    "```"
   ],
   "metadata": {}
  },
  {
   "cell_type": "markdown",
   "source": [
    "## Q6.1.3\r\n",
    "-----"
   ],
   "metadata": {}
  },
  {
   "cell_type": "markdown",
   "source": [
    "```python\r\n",
    "a = np.array([0, 0, 0])\r\n",
    "a = np.array([[0, 0, 0]])\r\n",
    "```\r\n",
    "The second statement creates a two dimensional array, so adding extra rows is possible."
   ],
   "metadata": {}
  },
  {
   "cell_type": "markdown",
   "source": [
    "## Q6.1.4\r\n",
    "-----"
   ],
   "metadata": {}
  },
  {
   "cell_type": "markdown",
   "source": [
    "```python\r\n",
    "a, b = np.zeroes((3,)), np.ones((3,))\r\n",
    "a.dtype = 'int'\r\n",
    "a\r\n",
    "b.dtype = 'int'\r\n",
    "b\r\n",
    "```\r\n",
    "Using `.dtype` does not actually change the byte-level repersentation of the array, instead use `.astype('int')`."
   ],
   "metadata": {}
  },
  {
   "cell_type": "code",
   "execution_count": 6,
   "source": [
    "import numpy as np\r\n",
    "a = np.linspace(1, 48, 48).reshape(3, 4, 4)\r\n",
    "print(a)"
   ],
   "outputs": [
    {
     "output_type": "stream",
     "name": "stdout",
     "text": [
      "[[[ 1.  2.  3.  4.]\n",
      "  [ 5.  6.  7.  8.]\n",
      "  [ 9. 10. 11. 12.]\n",
      "  [13. 14. 15. 16.]]\n",
      "\n",
      " [[17. 18. 19. 20.]\n",
      "  [21. 22. 23. 24.]\n",
      "  [25. 26. 27. 28.]\n",
      "  [29. 30. 31. 32.]]\n",
      "\n",
      " [[33. 34. 35. 36.]\n",
      "  [37. 38. 39. 40.]\n",
      "  [41. 42. 43. 44.]\n",
      "  [45. 46. 47. 48.]]]\n"
     ]
    }
   ],
   "metadata": {}
  },
  {
   "cell_type": "code",
   "execution_count": 81,
   "source": [
    "# a)\r\n",
    "print(a[1, 0, 3])\r\n",
    "print('-----------')\r\n",
    "\r\n",
    "# b)\r\n",
    "print(a[0, 2])\r\n",
    "print('-----------')\r\n",
    "\r\n",
    "# c)\r\n",
    "print(a[2])\r\n",
    "print('-----------')\r\n",
    "\r\n",
    "# d)\r\n",
    "print(a[:, 1, :2])\r\n",
    "print('-----------')\r\n",
    "\r\n",
    "# e)\r\n",
    "print(a[2,:, :1:-1])\r\n",
    "print('-----------')\r\n",
    "\r\n",
    "# f)\r\n",
    "print(a[:, ::-1, 0])\r\n",
    "print('-----------')\r\n",
    "\r\n",
    "# g)\r\n",
    "ia = np.array([[0, 0], [2, 2]])\r\n",
    "ja = np.array([[0, 0], [3, 3]])\r\n",
    "ka = np.array([[0, 3], [0, 3]])\r\n",
    "print(a[ia, ja, ka])\r\n",
    "print('-----------')"
   ],
   "outputs": [
    {
     "output_type": "stream",
     "name": "stdout",
     "text": [
      "20.0\n",
      "-----------\n",
      "[ 9. 10. 11. 12.]\n",
      "-----------\n",
      "[[33. 34. 35. 36.]\n",
      " [37. 38. 39. 40.]\n",
      " [41. 42. 43. 44.]\n",
      " [45. 46. 47. 48.]]\n",
      "-----------\n",
      "[[ 5.  6.]\n",
      " [21. 22.]\n",
      " [37. 38.]]\n",
      "-----------\n",
      "[[36. 35.]\n",
      " [40. 39.]\n",
      " [44. 43.]\n",
      " [48. 47.]]\n",
      "-----------\n",
      "[[13.  9.  5.  1.]\n",
      " [29. 25. 21. 17.]\n",
      " [45. 41. 37. 33.]]\n",
      "-----------\n",
      "[[ 1.  4.]\n",
      " [45. 48.]]\n",
      "-----------\n"
     ]
    }
   ],
   "metadata": {}
  },
  {
   "cell_type": "markdown",
   "source": [
    "## Q6.1.6\r\n",
    "-----"
   ],
   "metadata": {}
  },
  {
   "cell_type": "code",
   "execution_count": 85,
   "source": [
    "a = np.array([0, -1, 4.5, 0.5, -0.2, 1.1])\r\n",
    "print(a[abs(a) <= 1])"
   ],
   "outputs": [
    {
     "output_type": "stream",
     "name": "stdout",
     "text": [
      "[1. 1. 1. 1. 1. 1. 1. 1. 1. 1.]\n"
     ]
    }
   ],
   "metadata": {}
  },
  {
   "cell_type": "markdown",
   "source": [
    "## Q6.1.7\r\n",
    "-----"
   ],
   "metadata": {}
  },
  {
   "cell_type": "markdown",
   "source": [
    "Because the relative tolerance is less than the absolute tolerance, set `rtol` to 0 to make it work."
   ],
   "metadata": {}
  },
  {
   "cell_type": "markdown",
   "source": [
    "## Q6.1.8\r\n",
    "-----"
   ],
   "metadata": {}
  },
  {
   "cell_type": "markdown",
   "source": [],
   "metadata": {}
  },
  {
   "cell_type": "markdown",
   "source": [
    "## Q6.1.9\r\n",
    "-----"
   ],
   "metadata": {}
  },
  {
   "cell_type": "code",
   "execution_count": null,
   "source": [],
   "outputs": [],
   "metadata": {}
  },
  {
   "cell_type": "markdown",
   "source": [
    "## Q6.1.10\r\n",
    "-----"
   ],
   "metadata": {}
  },
  {
   "cell_type": "code",
   "execution_count": null,
   "source": [],
   "outputs": [],
   "metadata": {}
  },
  {
   "cell_type": "markdown",
   "source": [
    "## Q6.1.11"
   ],
   "metadata": {}
  },
  {
   "cell_type": "code",
   "execution_count": null,
   "source": [],
   "outputs": [],
   "metadata": {}
  }
 ],
 "metadata": {
  "orig_nbformat": 4,
  "language_info": {
   "name": "python",
   "version": "3.8.5",
   "mimetype": "text/x-python",
   "codemirror_mode": {
    "name": "ipython",
    "version": 3
   },
   "pygments_lexer": "ipython3",
   "nbconvert_exporter": "python",
   "file_extension": ".py"
  },
  "kernelspec": {
   "name": "python3",
   "display_name": "Python 3.8.5 64-bit ('base': conda)"
  },
  "interpreter": {
   "hash": "d2bc6b4c9da03010ac150b121b41a6774448383ed127203916f2efbc81d8799e"
  }
 },
 "nbformat": 4,
 "nbformat_minor": 2
}