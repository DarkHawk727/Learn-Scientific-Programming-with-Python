{
 "cells": [
  {
   "cell_type": "markdown",
   "source": [
    "## P6.1.1\r\n",
    "-----"
   ],
   "metadata": {}
  },
  {
   "cell_type": "code",
   "execution_count": 4,
   "source": [
    "import numpy as np\r\n",
    "\r\n",
    "datatype = np.dtype([('Common Name', 'S32'), ('Population', 'i4'), ('Mass', 'f8')])\r\n",
    "whale_data = np.loadtxt('C:/Users/arjun/Learn-Scientific-Programming-with-Python-Solutions/LSPwP accompanying files/whale_data.txt', dtype=datatype, skiprows=2)\r\n",
    "\r\n",
    "# a)\r\n",
    "bryde_whale = np.array((\"Bryde's_whale\", 100000, 25), dtype=datatype)\r\n",
    "\r\n",
    "whale_data.sort(order='Mass')\r\n",
    "print(np.searchsorted(whale_data['Mass'], bryde_whale['Mass']))\r\n",
    "\r\n",
    "for line in whale_data:\r\n",
    "    print(line)\r\n",
    "\r\n",
    "print('===================')\r\n",
    "\r\n",
    "# b)\r\n",
    "whale_data.sort(order='Population')\r\n",
    "print(np.searchsorted(whale_data['Population'], bryde_whale['Population']))\r\n",
    "\r\n",
    "for line in whale_data:\r\n",
    "    print(line)"
   ],
   "outputs": [
    {
     "output_type": "stream",
     "name": "stdout",
     "text": [
      "6\n",
      "(b'Baiji', 13, 0.13)\n",
      "(b'Pacific_white-sided_dolphin', 1000000, 0.15)\n",
      "(b'Atlantic_white-sided_dolphin', 250000, 0.235)\n",
      "(b'Beluga', 100000, 1.5)\n",
      "(b'Narwhal', 25000, 1.5)\n",
      "(b'Killer_whale', 100000, 4.5)\n",
      "(b'Humpback_whale', 80000, 30.)\n",
      "(b'Gray_whale', 26000, 35.)\n",
      "(b'Sperm_whale', 2000000, 50.)\n",
      "(b'Bowhead_whale', 9000, 60.)\n",
      "(b'Fin_whale', 100000, 70.)\n",
      "(b'Southern_right_whale', 7000, 70.)\n",
      "(b'North_Atlantic_right_whale', 300, 75.)\n",
      "(b'North_Pacific_right_whale', 200, 80.)\n",
      "(b'Blue_whale', 20000, 120.)\n",
      "===================\n",
      "9\n",
      "(b'Baiji', 13, 0.13)\n",
      "(b'North_Pacific_right_whale', 200, 80.)\n",
      "(b'North_Atlantic_right_whale', 300, 75.)\n",
      "(b'Southern_right_whale', 7000, 70.)\n",
      "(b'Bowhead_whale', 9000, 60.)\n",
      "(b'Blue_whale', 20000, 120.)\n",
      "(b'Narwhal', 25000, 1.5)\n",
      "(b'Gray_whale', 26000, 35.)\n",
      "(b'Humpback_whale', 80000, 30.)\n",
      "(b'Beluga', 100000, 1.5)\n",
      "(b'Fin_whale', 100000, 70.)\n",
      "(b'Killer_whale', 100000, 4.5)\n",
      "(b'Atlantic_white-sided_dolphin', 250000, 0.235)\n",
      "(b'Pacific_white-sided_dolphin', 1000000, 0.15)\n",
      "(b'Sperm_whale', 2000000, 50.)\n"
     ]
    }
   ],
   "metadata": {}
  },
  {
   "cell_type": "markdown",
   "source": [
    "## P6.1.2\r\n",
    "-----"
   ],
   "metadata": {}
  },
  {
   "cell_type": "code",
   "execution_count": 6,
   "source": [
    "import numpy as np\r\n",
    "\r\n",
    "def shoelace_algorithm(x, y):\r\n",
    "    area = abs(0.5 * np.array(np.dot(x, np.roll(y, 1)) - np.dot(y, np.roll(x, 1))))\r\n",
    "    return area\r\n",
    "\r\n",
    "# Example taken from StackOverflow.\r\n",
    "coordinates = ((5, 0), (6, 4), (4, 5), (1, 5), (1, 0))\r\n",
    "x, y = zip(*coordinates)\r\n",
    "\r\n",
    "print(shoelace_algorithm(x, y))\r\n"
   ],
   "outputs": [
    {
     "output_type": "stream",
     "name": "stdout",
     "text": [
      "22.0\n"
     ]
    }
   ],
   "metadata": {}
  },
  {
   "cell_type": "markdown",
   "source": [
    "## P6.1.3\r\n",
    "-----"
   ],
   "metadata": {}
  },
  {
   "cell_type": "code",
   "execution_count": 22,
   "source": [
    "import numpy as np\r\n",
    "import matplotlib.pyplot as plt\r\n",
    "\r\n",
    "def gaussian_function(x, sigma, mu):\r\n",
    "    return 1.0/(np.sqrt(2.0*np.pi)*sigma) * np.exp(-0.5*((x-mu)/sigma)**2)\r\n",
    "\r\n",
    "\r\n",
    "mu = 0\r\n",
    "sigma = np.array([0.5, 1.0, 1.5])\r\n",
    "# For some reason, declaring x and dx seperatley dosent work :/\r\n",
    "x, dx = np.linspace(-10, 10, 1000, retstep=True)\r\n",
    "\r\n",
    "x = x[:,np.newaxis]\r\n",
    "y = gaussian_function(x, sigma, mu)\r\n",
    "\r\n",
    "# Numerical Method\r\n",
    "int_y = np.sum(gaussian_function(x, sigma, mu), axis=0) * dx\r\n",
    "print('The numerical integral of the normalized gaussian function is: {}'.format(int_y))\r\n",
    "\r\n",
    "# First-order difference approximation\r\n",
    "h = 1.0e-6\r\n",
    "dy = (gaussian_function(x+h, sigma, mu) - gaussian_function(x-h, sigma, mu)) / 2 / h\r\n",
    "\r\n",
    "plt.plot(x, y)\r\n",
    "plt.plot(x, dy)\r\n",
    "\r\n",
    "plt.show()"
   ],
   "outputs": [
    {
     "output_type": "stream",
     "name": "stdout",
     "text": [
      "The numerical integral of the normalized gaussian function is: [1. 1. 1.]\n"
     ]
    },
    {
     "output_type": "display_data",
     "data": {
      "image/png": "[encoded data removed]",
      "text/plain": [
       "<Figure size 432x288 with 1 Axes>"
      ]
     },
     "metadata": {
      "needs_background": "light"
     }
    }
   ],
   "metadata": {}
  },
  {
   "cell_type": "code",
   "execution_count": 18,
   "source": [],
   "outputs": [
    {
     "output_type": "stream",
     "name": "stdout",
     "text": [
      "If these numbers are 1 (or close to it), then the g(x) is normalized:\n",
      "[1. 1. 1.]\n"
     ]
    }
   ],
   "metadata": {}
  }
 ],
 "metadata": {
  "orig_nbformat": 4,
  "language_info": {
   "name": "python",
   "version": "3.8.5",
   "mimetype": "text/x-python",
   "codemirror_mode": {
    "name": "ipython",
    "version": 3
   },
   "pygments_lexer": "ipython3",
   "nbconvert_exporter": "python",
   "file_extension": ".py"
  },
  "kernelspec": {
   "name": "python3",
   "display_name": "Python 3.8.5 64-bit ('base': conda)"
  },
  "interpreter": {
   "hash": "d2bc6b4c9da03010ac150b121b41a6774448383ed127203916f2efbc81d8799e"
  }
 },
 "nbformat": 4,
 "nbformat_minor": 2
}