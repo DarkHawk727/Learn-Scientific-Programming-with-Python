{
 "cells": [
  {
   "cell_type": "markdown",
   "source": [
    "## P6.1.1\r\n",
    "-----"
   ],
   "metadata": {}
  },
  {
   "cell_type": "code",
   "execution_count": 8,
   "source": [
    "import numpy as np\r\n",
    "\r\n",
    "datatype = np.dtype([('Common Name', 'S32'), ('Population', 'i4'), ('Mass', 'f8')])\r\n",
    "whale_data = np.loadtxt('C:/Users/arjun/Learn-Scientific-Programming-with-Python-Solutions/LSPwP accompanying files/whale_data.txt', dtype=datatype, skiprows=2)\r\n",
    "\r\n",
    "# a)\r\n",
    "bryde_whale = np.array((\"Bryde's_whale\", 100000, 25), dtype=datatype)\r\n",
    "\r\n",
    "np.sort(whale_data, order='Mass')\r\n",
    "print(np.searchsorted(whale_data['Mass'], bryde_whale['Mass']))\r\n",
    "\r\n",
    "for line in whale_data:\r\n",
    "    print(line)"
   ],
   "outputs": [
    {
     "output_type": "stream",
     "name": "stdout",
     "text": [
      "12\n",
      "(b'Bowhead_whale', 9000, 60.)\n",
      "(b'Blue_whale', 20000, 120.)\n",
      "(b'Fin_whale', 100000, 70.)\n",
      "(b'Humpback_whale', 80000, 30.)\n",
      "(b'Gray_whale', 26000, 35.)\n",
      "(b'Atlantic_white-sided_dolphin', 250000, 0.235)\n",
      "(b'Pacific_white-sided_dolphin', 1000000, 0.15)\n",
      "(b'Killer_whale', 100000, 4.5)\n",
      "(b'Narwhal', 25000, 1.5)\n",
      "(b'Beluga', 100000, 1.5)\n",
      "(b'Sperm_whale', 2000000, 50.)\n",
      "(b'Baiji', 13, 0.13)\n",
      "(b'North_Atlantic_right_whale', 300, 75.)\n",
      "(b'North_Pacific_right_whale', 200, 80.)\n",
      "(b'Southern_right_whale', 7000, 70.)\n"
     ]
    }
   ],
   "metadata": {}
  },
  {
   "cell_type": "markdown",
   "source": [
    "## P6.1.3\r\n",
    "-----"
   ],
   "metadata": {}
  },
  {
   "cell_type": "code",
   "execution_count": null,
   "source": [],
   "outputs": [],
   "metadata": {}
  },
  {
   "cell_type": "markdown",
   "source": [
    "## P6.1.3\r\n",
    "-----"
   ],
   "metadata": {}
  },
  {
   "cell_type": "code",
   "execution_count": null,
   "source": [],
   "outputs": [],
   "metadata": {}
  }
 ],
 "metadata": {
  "orig_nbformat": 4,
  "language_info": {
   "name": "python",
   "version": "3.8.5",
   "mimetype": "text/x-python",
   "codemirror_mode": {
    "name": "ipython",
    "version": 3
   },
   "pygments_lexer": "ipython3",
   "nbconvert_exporter": "python",
   "file_extension": ".py"
  },
  "kernelspec": {
   "name": "python3",
   "display_name": "Python 3.8.5 64-bit ('base': conda)"
  },
  "interpreter": {
   "hash": "d2bc6b4c9da03010ac150b121b41a6774448383ed127203916f2efbc81d8799e"
  }
 },
 "nbformat": 4,
 "nbformat_minor": 2
}