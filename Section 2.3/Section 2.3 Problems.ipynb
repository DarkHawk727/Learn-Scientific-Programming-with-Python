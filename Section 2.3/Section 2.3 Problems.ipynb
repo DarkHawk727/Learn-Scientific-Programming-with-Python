{
 "cells": [
  {
   "cell_type": "markdown",
   "metadata": {},
   "source": [
    "## P2.3.1\n",
    "----"
   ]
  },
  {
   "cell_type": "code",
   "execution_count": 23,
   "metadata": {},
   "outputs": [
    {
     "name": "stdout",
     "output_type": "stream",
     "text": [
      "# of C's: 0.22784810126582278\n",
      "# of G's: 0.27848101265822783\n"
     ]
    }
   ],
   "source": [
    "# a)\n",
    "sequence = 'GTAGATGCTCAATACTCCAATCGGTTTTTTCGTGCACCACCGCGGGTGGCTGACAAGGGTTTGACATCGAGAAACAAGG' # Generated online\n",
    "c = sequence.count('C') / len(sequence)\n",
    "g = sequence.count('G') / len(sequence)\n",
    "print(\"# of C's: {}\".format(c))\n",
    "print(\"# of G's: {}\".format(g))"
   ]
  },
  {
   "cell_type": "code",
   "execution_count": 24,
   "metadata": {},
   "outputs": [
    {
     "name": "stdout",
     "output_type": "stream",
     "text": [
      "Palindrome\n"
     ]
    }
   ],
   "source": [
    "# b)\n",
    "sequence = 'TGGATCCA'\n",
    "complement = {'A': 'T', 'C': 'G', 'T': 'A', 'G': 'C'}\n",
    "\n",
    "bases = ''.join([complement[base] for base in list(sequence)])\n",
    "if sequence[::-1] == bases:\n",
    "    print('Palindrome')\n",
    "else:\n",
    "    print('Not')"
   ]
  },
  {
   "cell_type": "markdown",
   "metadata": {},
   "source": [
    "## P2.3.2\n",
    "----"
   ]
  },
  {
   "cell_type": "code",
   "execution_count": 85,
   "metadata": {},
   "outputs": [
    {
     "name": "stdout",
     "output_type": "stream",
     "text": [
      "k_B = 1.381e-23 J K^-1\n"
     ]
    }
   ],
   "source": [
    "# a)\n",
    "k_B = 1.380649e-23\n",
    "k_B_units = 'J K^-1'\n",
    "\n",
    "print(f'k_B = {k_B:.3e} {k_B_units}')"
   ]
  },
  {
   "cell_type": "code",
   "execution_count": 112,
   "metadata": {},
   "outputs": [
    {
     "name": "stdout",
     "output_type": "stream",
     "text": [
      "G = 0.0000000000667430 N m^2 kg^-2\n"
     ]
    }
   ],
   "source": [
    "# b)\n",
    "G = 6.67430e-11\n",
    "G_units = 'N m^2 kg^-2'\n",
    "print(f'G = {G:.16f} {G_units}')"
   ]
  },
  {
   "cell_type": "code",
   "execution_count": 121,
   "metadata": {},
   "outputs": [
    {
     "name": "stdout",
     "output_type": "stream",
     "text": [
      "kB = 1.3806e-23 J K^-1\n",
      "μe = -9.2848e-24 J T^-1\n",
      "NA = 6.0221e+23 mol^-1\n",
      "c = 2.9979e+08 m s^-1\n"
     ]
    }
   ],
   "source": [
    "# c)\n",
    "k_B = 1.380649e-23\n",
    "k_B_units = 'J K^-1'\n",
    "mu_e = -9.28476377e-24\n",
    "mu_e_units = 'J T^-1'\n",
    "N_A = 6.02214076e23\n",
    "N_A_units = 'mol^-1'\n",
    "c = 2.99792458e8\n",
    "c_units = 'm s^-1'\n",
    "\n",
    "print(f'kB = {k_B:.4e} {k_B_units}')\n",
    "print(f'μe = {mu_e:.4e} {mu_e_units}')\n",
    "print(f'NA = {N_A:.4e} {N_A_units}')\n",
    "print(f'c = {c:.4e} {c_units}')"
   ]
  },
  {
   "cell_type": "code",
   "execution_count": 78,
   "metadata": {},
   "outputs": [
    {
     "name": "stdout",
     "output_type": "stream",
     "text": [
      "=== G =  +6.67e-11   [N m^2/kg^-2] ===\n",
      "=== G =  -9.28e-24   [     J T^-1] ===\n"
     ]
    }
   ],
   "source": [
    "# d)\n",
    "# [[fill]align][sign][#][0][width][grouping_option][.precision][type]\n",
    "G = 6.67430e-11\n",
    "G_units = 'N m^2/kg^-2'\n",
    "print('=== G = {0:^+12.2e} [{1:<11}] ==='.format(G, G_units))\n",
    "\n",
    "mu_e = -9.28476377e-24\n",
    "mu_e_units = 'J T^-1'\n",
    "print('=== G = {0:^+12.2e} [{1:>11}] ==='.format(mu_e, mu_e_units))"
   ]
  },
  {
   "cell_type": "code",
   "execution_count": 85,
   "metadata": {},
   "outputs": [
    {
     "name": "stdout",
     "output_type": "stream",
     "text": [
      "G = 6.6743e-11(12) N m^2 kg^-2\n",
      "μe = -9.28476377e-24 J T^-1\n"
     ]
    }
   ],
   "source": [
    "# e)\n",
    "\n",
    "print('6.67430(15)e-11 N m^2 kg^-2')\n",
    "\n",
    "print('-9.28476377e-24(12)e-24J T^-1')\n",
    "# Couldn't figure this out for the life of me, dont ask me to format strings again pls."
   ]
  },
  {
   "cell_type": "markdown",
   "metadata": {},
   "source": [
    "## P2.3.3\n",
    "----"
   ]
  },
  {
   "cell_type": "code",
   "execution_count": 108,
   "metadata": {},
   "outputs": [
    {
     "name": "stdout",
     "output_type": "stream",
     "text": [
      "[ 0.0   3.4  -1.2 ] \n",
      "[-1.1   0.5  -0.2 ]\n",
      "[ 2.3  -1.4  -0.7 ]\n"
     ]
    }
   ],
   "source": [
    "# a)\n",
    "s_a = [0.0, 3.4, -1.2, -1.1, 0.5, -0.2, 2.3, -1.4, -0.7]\n",
    "print('[{0:^5} {1:^5} {2:^5}] \\n[{3:^5} {4:^5} {5:^5}]\\n[{6:^5} {7:^5} {8:^5}]'.format(s_a[0], s_a[1], s_a[2], s_a[3], s_a[4], s_a[5], s_a[6], s_a[7], s_a[8]))"
   ]
  },
  {
   "cell_type": "code",
   "execution_count": 109,
   "metadata": {},
   "outputs": [
    {
     "name": "stdout",
     "output_type": "stream",
     "text": [
      "[0  0  1 ] \n",
      "[0  1  0 ]\n",
      "[1  0  0 ]\n"
     ]
    }
   ],
   "source": [
    "# b)\n",
    "s_b = [0, 0, 1, 0, 1, 0, 1, 0, 0]\n",
    "print('[{0:^2} {1:^2} {2:^2}] \\n[{3:^2} {4:^2} {5:^2}]\\n[{6:^2} {7:^2} {8:^2}]'.format(s_b[0], s_b[1], s_b[2], s_b[3], s_b[4], s_b[5], s_b[6], s_b[7], s_b[8]))"
   ]
  },
  {
   "cell_type": "markdown",
   "metadata": {},
   "source": [
    "## P2.3.4\n",
    "----"
   ]
  },
  {
   "cell_type": "code",
   "execution_count": 123,
   "metadata": {},
   "outputs": [
    {
     "name": "stdout",
     "output_type": "stream",
     "text": [
      "♇: Pluto\n",
      "☉: Sun\n",
      "☾: Moon\n",
      "♂: Mars\n",
      "♆: Neptune\n",
      "♃: Jupiter\n",
      "⛢: Neptune\n",
      "♀: Venus\n",
      "☿: Mercury\n"
     ]
    }
   ],
   "source": [
    "symbols = ['♇', 'Pluto', '☉', 'Sun', '☾', 'Moon', '♂', 'Mars', '♆', 'Neptune', '♃', 'Jupiter', '⛢', 'Neptune', '♀', 'Venus', '☿', 'Mercury', '♄', 'Saturn']\n",
    "print('{}: {}'.format(symbols[0], symbols[1]))\n",
    "print('{}: {}'.format(symbols[2], symbols[3]))\n",
    "print('{}: {}'.format(symbols[4], symbols[5]))\n",
    "print('{}: {}'.format(symbols[6], symbols[7]))\n",
    "print('{}: {}'.format(symbols[8], symbols[9]))\n",
    "print('{}: {}'.format(symbols[10], symbols[11]))\n",
    "print('{}: {}'.format(symbols[12], symbols[13]))\n",
    "print('{}: {}'.format(symbols[14], symbols[15]))\n",
    "print('{}: {}'.format(symbols[16], symbols[17]))"
   ]
  },
  {
   "cell_type": "code",
   "execution_count": null,
   "metadata": {},
   "outputs": [],
   "source": []
  }
 ],
 "metadata": {
  "kernelspec": {
   "display_name": "Python 3",
   "language": "python",
   "name": "python3"
  },
  "language_info": {
   "codemirror_mode": {
    "name": "ipython",
    "version": 3
   },
   "file_extension": ".py",
   "mimetype": "text/x-python",
   "name": "python",
   "nbconvert_exporter": "python",
   "pygments_lexer": "ipython3",
   "version": "3.8.5"
  }
 },
 "nbformat": 4,
 "nbformat_minor": 4
}
