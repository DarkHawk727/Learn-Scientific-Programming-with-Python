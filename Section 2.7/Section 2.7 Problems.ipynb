{
 "cells": [
  {
   "cell_type": "markdown",
   "source": [
    "## P2.7.1\n",
    "----"
   ],
   "metadata": {}
  },
  {
   "cell_type": "code",
   "execution_count": 1,
   "source": [
    "word = str(input('Please enter the word: '))\r\n",
    "position = input('Please enter a row (A - 0) and column (1 - 15) index seperated by a space: ').split(' ')\r\n",
    "position[0] = ord(position[0]) - 64\r\n",
    "orientation = str(input('Please enter the orientation you wish the word to be in (across or down): '))\r\n",
    "\r\n",
    "def validPosition(word, position, orientation):\r\n",
    "\r\n",
    "    if orientation.lower() == 'across':\r\n",
    "        if len(word) > 15 - position[0]:\r\n",
    "            return False\r\n",
    "        else:\r\n",
    "            return True\r\n",
    "    if orientation.lower() == 'down':\r\n",
    "        if len(word) > 15 - int(position[1]):\r\n",
    "            return False\r\n",
    "        else:\r\n",
    "            return True\r\n",
    "            \r\n",
    "validPosition(word, position, orientation)"
   ],
   "outputs": [
    {
     "output_type": "execute_result",
     "data": {
      "text/plain": [
       "True"
      ]
     },
     "metadata": {},
     "execution_count": 1
    }
   ],
   "metadata": {}
  },
  {
   "cell_type": "markdown",
   "source": [
    "## P2.7.2\n",
    "----"
   ],
   "metadata": {}
  },
  {
   "cell_type": "code",
   "execution_count": 2,
   "source": [
    "def sum_of_digits(n):\r\n",
    "    s = 0\r\n",
    "    while n:\r\n",
    "        s += n % 10\r\n",
    "        n //= 10\r\n",
    "    return s\r\n",
    "\r\n",
    "n, nfac = 1, 1\r\n",
    "\r\n",
    "while True:\r\n",
    "    nfac *= n\r\n",
    "    digit_sum = sum_of_digits(nfac)\r\n",
    "\r\n",
    "    if nfac % digit_sum:\r\n",
    "        print('{}! is not divisible by the sum of it\\'s digits.'.format(n))\r\n",
    "        break\r\n",
    "    n += 1"
   ],
   "outputs": [
    {
     "output_type": "stream",
     "name": "stdout",
     "text": [
      "432! is not divisible by the sum of it's digits.\n"
     ]
    }
   ],
   "metadata": {}
  },
  {
   "cell_type": "markdown",
   "source": [
    "## P2.7.3\n",
    "----"
   ],
   "metadata": {}
  },
  {
   "cell_type": "code",
   "execution_count": 4,
   "source": [
    "a, b, c = [1, -2, 1], [2, -0.5, -1], [0.5, 1, -1.5]\r\n",
    "\r\n",
    "\r\n",
    "def dotProduct(vec1, vec2):\r\n",
    "    dot = [0, 0, 0]\r\n",
    "    dot[0] = vec1[0] * vec2[0]\r\n",
    "    dot[1] = vec1[1] * vec2[1]\r\n",
    "    dot[2] = vec1[2] * vec2[2]\r\n",
    "    return sum(dot)\r\n",
    "\r\n",
    "\r\n",
    "def crossProduct(vec1, vec2):\r\n",
    "    cross = [0, 0, 0]\r\n",
    "    cross[0] = vec1[1] * vec2[2] - vec1[2] * vec2[1]\r\n",
    "    cross[1] = vec1[2] * vec2[0] - vec1[0] * vec2[2]\r\n",
    "    cross[2] = vec1[0] * vec2[1] - vec1[1] * vec2[0]\r\n",
    "    return cross\r\n",
    "\r\n",
    "\r\n",
    "def tripleProduct(a, b, c):\r\n",
    "    triple = dotProduct(a, crossProduct(b, c))\r\n",
    "    return triple\r\n",
    "\r\n",
    "\r\n",
    "def vectorTripleProduct(a, b, c):\r\n",
    "    vectorTriple = crossProduct(a, crossProduct(b, c))\r\n",
    "    return vectorTriple\r\n",
    "\r\n",
    "print(dotProduct(a, b))\r\n",
    "print(crossProduct(a, b))\r\n",
    "print(tripleProduct(a, b, c))\r\n",
    "print(vectorTripleProduct(a, b, c))"
   ],
   "outputs": [
    {
     "output_type": "stream",
     "name": "stdout",
     "text": [
      "2.0\n",
      "[2.5, 3, 3.5]\n",
      "-1.0\n",
      "[-7.0, -0.5, 6.0]\n"
     ]
    }
   ],
   "metadata": {}
  },
  {
   "cell_type": "markdown",
   "source": [
    "## P2.7.4\n",
    "----"
   ],
   "metadata": {}
  },
  {
   "cell_type": "code",
   "execution_count": 12,
   "source": [
    "import math\r\n",
    "\r\n",
    "def pyramid_AV(n, s, h):\r\n",
    "    a = s / 2 / math.tan(math.pi / n)\r\n",
    "    A = 0.5 * n * s * a\r\n",
    "    l = math.hypot(h, a)\r\n",
    "    S = A + 0.5 * n * s * l\r\n",
    "    V = A * h / 3\r\n",
    "    return V, S\r\n",
    "\r\n",
    "pyramid_AV(5, 36.5, 12)"
   ],
   "outputs": [
    {
     "output_type": "execute_result",
     "data": {
      "text/plain": [
       "(9168.424067738606, 4832.337304213042)"
      ]
     },
     "metadata": {},
     "execution_count": 12
    }
   ],
   "metadata": {}
  },
  {
   "cell_type": "markdown",
   "source": [
    "## P2.7.5\n",
    "----"
   ],
   "metadata": {}
  },
  {
   "cell_type": "code",
   "execution_count": 24,
   "source": [
    "# FYI, trig functions in python use radians not degrees.\r\n",
    "import math\r\n",
    "\r\n",
    "v = 10\r\n",
    "alpha = 30\r\n",
    "\r\n",
    "def projectileRange(v, alpha):\r\n",
    "    angle = math.radians(2 * alpha)\r\n",
    "    range = (math.pow(v, 2) * math.sin(angle)) / 9.81\r\n",
    "    return range\r\n",
    "\r\n",
    "\r\n",
    "def projectileMaxHeight(v, alpha):\r\n",
    "    angle = 2 * alpha\r\n",
    "    height = (math.pow(v, 2) * math.pow(math.sin(math.radians(alpha)), 2)) / (2 * 9.81)\r\n",
    "    return height\r\n",
    "\r\n",
    "print(projectileRange(v, alpha))\r\n",
    "print(projectileMaxHeight(v, alpha))"
   ],
   "outputs": [
    {
     "output_type": "stream",
     "name": "stdout",
     "text": [
      "8.827985767425469\n",
      "1.2742099898063197\n"
     ]
    }
   ],
   "metadata": {
    "scrolled": true
   }
  },
  {
   "cell_type": "markdown",
   "source": [
    "## P2.7.6\n",
    "----"
   ],
   "metadata": {}
  },
  {
   "cell_type": "code",
   "execution_count": 13,
   "source": [
    "import math\r\n",
    "\r\n",
    "\r\n",
    "def double_factorial(n):\r\n",
    "    ans = 1\r\n",
    "    if n % 2 == 0:\r\n",
    "        ans = 2 ** (n // 2) * math.factorial(n // 2)\r\n",
    "        return ans\r\n",
    "    \r\n",
    "    for i in range(3, n + 1, 2):\r\n",
    "        ans *= i\r\n",
    "    return ans\r\n",
    "\r\n",
    "\r\n",
    "def sinm_cosn(m, n):\r\n",
    "    fac = double_factorial(m - 1) * double_factorial(n - 1) / double_factorial(m + n)\r\n",
    "    if m % 2 or n % 2:\r\n",
    "        return fac\r\n",
    "    return fac * math.pi /2\r\n",
    "\r\n",
    "\r\n",
    "sinm_cosn(3,3)"
   ],
   "outputs": [
    {
     "output_type": "execute_result",
     "data": {
      "text/plain": [
       "0.08333333333333333"
      ]
     },
     "metadata": {},
     "execution_count": 13
    }
   ],
   "metadata": {}
  },
  {
   "cell_type": "markdown",
   "source": [
    "## P2.7.7\n",
    "----"
   ],
   "metadata": {}
  },
  {
   "cell_type": "code",
   "execution_count": 70,
   "source": [
    "def palindromeCheck(s):\r\n",
    "    if len(s) < 1:\r\n",
    "        return True\r\n",
    "    else:\r\n",
    "        if s[0] == s[-1]:\r\n",
    "            return palindromeCheck(s[1:-1])\r\n",
    "        else:\r\n",
    "            return False\r\n",
    "palindromeCheck('racecar')"
   ],
   "outputs": [
    {
     "output_type": "execute_result",
     "data": {
      "text/plain": [
       "True"
      ]
     },
     "metadata": {},
     "execution_count": 70
    }
   ],
   "metadata": {}
  },
  {
   "cell_type": "markdown",
   "source": [
    "## P2.7.8\n",
    "----"
   ],
   "metadata": {}
  },
  {
   "cell_type": "code",
   "execution_count": 32,
   "source": [
    "def tetration(b, n):\r\n",
    "    if n == 1:\r\n",
    "        return(b)\r\n",
    "    else:\r\n",
    "        return(b ** tetration(b, n - 1))\r\n",
    "\r\n",
    "print(len(str(tetration(2, 5))))\r\n",
    "print(len(str(tetration(5, 3))))"
   ],
   "outputs": [
    {
     "output_type": "stream",
     "name": "stdout",
     "text": [
      "19729\n",
      "2185\n"
     ]
    }
   ],
   "metadata": {}
  }
 ],
 "metadata": {
  "kernelspec": {
   "name": "python3",
   "display_name": "Python 3.8.5 64-bit ('base': conda)"
  },
  "language_info": {
   "codemirror_mode": {
    "name": "ipython",
    "version": 3
   },
   "file_extension": ".py",
   "mimetype": "text/x-python",
   "name": "python",
   "nbconvert_exporter": "python",
   "pygments_lexer": "ipython3",
   "version": "3.8.5"
  },
  "interpreter": {
   "hash": "d2bc6b4c9da03010ac150b121b41a6774448383ed127203916f2efbc81d8799e"
  }
 },
 "nbformat": 4,
 "nbformat_minor": 4
}