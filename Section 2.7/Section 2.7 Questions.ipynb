{
 "cells": [
  {
   "cell_type": "markdown",
   "metadata": {},
   "source": [
    "## Q2.7.1\n",
    "----"
   ]
  },
  {
   "cell_type": "markdown",
   "metadata": {},
   "source": [
    "### Option A:\n",
    "```py\n",
    "def line():\n",
    "    '-----'\n",
    "my_sum = '\\n'.join(['    56', '   +44', 'line(), '   100', line()])\n",
    "print(mu_sum)\n",
    "```\n",
    "This code does not work since `line()` does not return anything.\n",
    "\n",
    "### Option B:\n",
    "```py\n",
    "def line():\n",
    "    return '-----'\n",
    "my_sum = '\\n'.join(['    56', '   +44', line(), '   100', line()])\n",
    "print(mu_sum)\n",
    "```\n",
    "This option works.\n",
    "\n",
    "### Option  C:\n",
    "```py\n",
    "def line():\n",
    "    print('-----')\n",
    "my_sum = '\\n'.join(['    56', '   +44', 'line, '   100', line])\n",
    "print(my_sum)\n",
    "```\n",
    "`print()` needs to be return and brackets are needed to properly call `line()`.\n",
    "\n",
    "### Option D:\n",
    "```py\n",
    "def line():\n",
    "    print('-----')\n",
    "print('   56')\n",
    "print('  +44')\n",
    "print(line)\n",
    "print('  100')\n",
    "print(line)\n",
    "```\n",
    "This option does not work since the way we call `line()` is incorrect it also adds `None` after each line.\n",
    "\n",
    "### Option D:\n",
    "```py\n",
    "def line():\n",
    "    print('-----')\n",
    "print('   56')\n",
    "print('  +44')\n",
    "print(line())\n",
    "print('  100')\n",
    "print(line())\n",
    "```\n",
    "`line()` already prints the line so enclosing it inside a `print()` statement makes it output `None` after.\n",
    "\n",
    "### Option E:\n",
    "```py\n",
    "def line():\n",
    "    print('-----')\n",
    "print('    56')\n",
    "print('   +44')\n",
    "line()\n",
    "print('   100')\n",
    "line()\n",
    "```\n",
    "This option works."
   ]
  },
  {
   "cell_type": "markdown",
   "metadata": {},
   "source": [
    "## 2.7.2\n",
    "----"
   ]
  },
  {
   "cell_type": "markdown",
   "metadata": {},
   "source": [
    "```py\n",
    "balance = 100\n",
    "def add_interest(balance, interest):\n",
    "    balance += balance * interest / 100\n",
    "\n",
    "for year in range(4):\n",
    "    add_interest(balance, 5)\n",
    "    print('Balance after year {}: ${:.2f}'.format(year + 1, balance))\n",
    "```\n",
    "The naming of the arguements in the variable are inconsistent, you should either pick only `interest` or only `rate`, and the add_interest function does not return any value. finally you are only calling the function `add_interest` to the same `balance` value, not updating it. The following will work\n",
    "\n",
    "```py\n",
    "balance = 100\n",
    "def add_interest(balance, interest):\n",
    "    balance += balance * interest / 100\n",
    "    return balance\n",
    "\n",
    "for year in range(4):\n",
    "    balance = add_interest(balance, 5)\n",
    "    print('Balance after year {}: ${:.2f}'.format(year + 1, balance))\n",
    "```"
   ]
  },
  {
   "cell_type": "markdown",
   "metadata": {},
   "source": [
    "## Q2.7.3\n",
    "----"
   ]
  },
  {
   "cell_type": "markdown",
   "metadata": {},
   "source": [
    "```py\n",
    "def digit_sum(n):\n",
    "    s_digits = list(str(n))\n",
    "    dsum = 0\n",
    "    for s_digit in s_digits:\n",
    "        dsum += int(s_digit)\n",
    "        \n",
    "def is_harshad(n):\n",
    "    return not n % digit_sum(n)\n",
    "```\n",
    "You need to return `dsum` in `digit_sum()` in order for this progam to work. Working code is as follows:\n",
    "\n",
    "```py\n",
    "def digit_sum(n):\n",
    "    s_digits = list(str(n))\n",
    "    dsum = 0\n",
    "    for s_digit in s_digits:\n",
    "        dsum += int(s_digit)\n",
    "    return dsum\n",
    "    \n",
    "def is_harshad(n):\n",
    "    return not n % digit_sum(n)\n",
    "```"
   ]
  },
  {
   "cell_type": "markdown",
   "metadata": {},
   "source": [
    "## Q2.7.4\n",
    "----"
   ]
  },
  {
   "cell_type": "code",
   "execution_count": 37,
   "metadata": {
    "scrolled": true
   },
   "outputs": [
    {
     "name": "stdout",
     "output_type": "stream",
     "text": [
      "[1, 2, 'a']\n",
      "[1, 2, 'a']\n"
     ]
    }
   ],
   "source": [
    "def grow_list(a, lst=[]):\n",
    "    lst.append(a)\n",
    "    return lst\n",
    "lst1 = grow_list(1)\n",
    "lst1 = grow_list(2, lst1)\n",
    "\n",
    "lst2 = grow_list('a')\n",
    "\n",
    "print(lst1)\n",
    "print(lst2)"
   ]
  },
  {
   "cell_type": "markdown",
   "metadata": {},
   "source": [
    "For `lst1`, first we append 1 to an empty list, then we append 2 to the previous list (containing 1) finally we create a new `lst2` to which we append the character 'a' to `lst1`."
   ]
  }
 ],
 "metadata": {
  "kernelspec": {
   "display_name": "Python 3",
   "language": "python",
   "name": "python3"
  },
  "language_info": {
   "codemirror_mode": {
    "name": "ipython",
    "version": 3
   },
   "file_extension": ".py",
   "mimetype": "text/x-python",
   "name": "python",
   "nbconvert_exporter": "python",
   "pygments_lexer": "ipython3",
   "version": "3.8.5"
  }
 },
 "nbformat": 4,
 "nbformat_minor": 4
}
