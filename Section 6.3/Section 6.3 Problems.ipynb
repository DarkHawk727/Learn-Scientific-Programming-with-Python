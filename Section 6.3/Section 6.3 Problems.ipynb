{
 "cells": [
  {
   "cell_type": "markdown",
   "metadata": {},
   "source": [
    "## 6.3.1\n",
    "-----"
   ]
  },
  {
   "cell_type": "code",
   "execution_count": 9,
   "metadata": {},
   "outputs": [
    {
     "name": "stdout",
     "output_type": "stream",
     "text": [
      "[[ 1.         -0.19909853]\n",
      " [-0.19909853  1.        ]]\n"
     ]
    }
   ],
   "source": [
    "import numpy as np\n",
    "\n",
    "\n",
    "def parse(table: str) -> list[float]:\n",
    "    table.readline()\n",
    "    table.readline()\n",
    "    rollover = False\n",
    "    for line in table:\n",
    "        fields = line.split()\n",
    "        num_winners = int(fields[6])\n",
    "        if num_winners == 0:\n",
    "            rollover = True\n",
    "            continue\n",
    "        if rollover:\n",
    "            rollover = False\n",
    "            continue\n",
    "        balls = np.array([int(x) for x in fields[:6]])\n",
    "        jackpot = float(fields[7])\n",
    "        num_low = sum(balls < 13)\n",
    "        yield num_low, jackpot\n",
    "\n",
    "\n",
    "with open(\n",
    "    \"C:/Users/Arjun Sarao/Learn-Scientific-Programming-with-Python-Solutions/LSPwP_accompanying_files/lottery-draws.txt\"\n",
    ") as file:\n",
    "    data = list(parse(file))\n",
    "data = np.array(data)\n",
    "print(np.corrcoef(data, rowvar=0))\n"
   ]
  },
  {
   "cell_type": "markdown",
   "metadata": {},
   "source": [
    "## 6.3.2\n",
    "-----"
   ]
  },
  {
   "cell_type": "code",
   "execution_count": null,
   "metadata": {},
   "outputs": [],
   "source": [
    "# Not much to do with this one."
   ]
  },
  {
   "cell_type": "markdown",
   "metadata": {},
   "source": [
    "## 6.3.3\n",
    "-----"
   ]
  },
  {
   "cell_type": "code",
   "execution_count": 30,
   "metadata": {},
   "outputs": [
    {
     "name": "stdout",
     "output_type": "stream",
     "text": [
      "The average male height was: 178.79 and the average female height was: 164.08.\n",
      "The minimum height in the data is: 138.5 and the maximum is: 208.3.\n",
      "The  male standard deviation was: 10.83 and the  female standard deviation was: 7.39.\n"
     ]
    },
    {
     "data": {
      "text/plain": [
       "<function matplotlib.pyplot.show(close=None, block=None)>"
      ]
     },
     "execution_count": 30,
     "metadata": {},
     "output_type": "execute_result"
    },
    {
     "data": {
      "image/png": "[encoded data removed]",
      "text/plain": [
       "<Figure size 432x288 with 1 Axes>"
      ]
     },
     "metadata": {
      "needs_background": "light"
     },
     "output_type": "display_data"
    }
   ],
   "source": [
    "import numpy as np\n",
    "import matplotlib.pyplot as plt\n",
    "\n",
    "male_data = np.loadtxt(\n",
    "    \"C:/Users/Arjun Sarao/Learn-Scientific-Programming-with-Python-Solutions/LSPwP_accompanying_files/ex6-3-f-male-heights.txt\",\n",
    "    delimiter=\" \",\n",
    ")\n",
    "male_data = np.ravel(male_data)\n",
    "\n",
    "female_data = np.loadtxt(\n",
    "    \"C:/Users/Arjun Sarao/Learn-Scientific-Programming-with-Python-Solutions/LSPwP_accompanying_files/ex6-3-f-female-heights.txt\",\n",
    "    delimiter=\" \",\n",
    ")\n",
    "female_data = np.ravel(female_data)\n",
    "\n",
    "male_average, female_average = male_data.mean(), female_data.mean()\n",
    "print(\n",
    "    f\"The average male height was: {male_average:.2f} and the average female height was: {female_average:.2f}.\"\n",
    ")\n",
    "\n",
    "minimum_height, maximum_height = min(male_data.min(), female_data.min()), max(\n",
    "    male_data.max(), female_data.max()\n",
    ")\n",
    "print(\n",
    "    f\"The minimum height in the data is: {minimum_height} and the maximum is: {maximum_height}.\"\n",
    ")\n",
    "\n",
    "male_stddev, female_stddev = male_data.std(), female_data.std()\n",
    "print(\n",
    "    f\"The  male standard deviation was: {male_stddev:.2f} and the  female standard deviation was: {female_stddev:.2f}.\"\n",
    ")\n",
    "\n",
    "bins = np.linspace(135, 210, 16)\n",
    "plt.title(\"Histogram of Male and Female Heights\")\n",
    "plt.hist(male_data, bins, color=\"b\")\n",
    "plt.hist(female_data, bins, alpha=0.75, color=\"m\")\n",
    "plt.xlabel(\"Height (cm)\")\n",
    "plt.ylabel(\"Amount\")\n",
    "plt.show\n"
   ]
  },
  {
   "cell_type": "code",
   "execution_count": null,
   "metadata": {},
   "outputs": [],
   "source": []
  }
 ],
 "metadata": {
  "interpreter": {
   "hash": "26de051ba29f2982a8de78e945f0abaf191376122a1563185a90213a26c5da77"
  },
  "kernelspec": {
   "display_name": "Python 3.10.4 64-bit",
   "language": "python",
   "name": "python3"
  },
  "language_info": {
   "codemirror_mode": {
    "name": "ipython",
    "version": 3
   },
   "file_extension": ".py",
   "mimetype": "text/x-python",
   "name": "python",
   "nbconvert_exporter": "python",
   "pygments_lexer": "ipython3",
   "version": "3.10.4"
  },
  "orig_nbformat": 4
 },
 "nbformat": 4,
 "nbformat_minor": 2
}
