{
 "cells": [
  {
   "cell_type": "markdown",
   "metadata": {},
   "source": [
    "## Q8.1.1\n",
    "-----"
   ]
  },
  {
   "cell_type": "code",
   "execution_count": 7,
   "metadata": {},
   "outputs": [
    {
     "name": "stdout",
     "output_type": "stream",
     "text": [
      "0 ppm: electron g factor = -2.00232 \n",
      "0 ppm: electron mag. mom. to Bohr magneton ratio = -1.00116 \n",
      "0 ppm: hertz-hartree relationship = 1.51983e-16 E_h\n",
      "0 ppm: Rydberg constant times hc in eV = 13.6057 eV\n",
      "0 ppm: Rydberg constant = 1.09737e+07 m^-1\n",
      "0 ppm: kelvin-hartree relationship = 3.16681e-06 E_h\n",
      "0 ppm: Rydberg constant times hc in J = 2.17987e-18 J\n",
      "0 ppm: inverse meter-hartree relationship = 4.55634e-08 E_h\n",
      "0 ppm: hartree-kelvin relationship = 315775 K\n",
      "0 ppm: electron volt-hartree relationship = 0.0367493 E_h\n"
     ]
    }
   ],
   "source": [
    "import numpy as np\n",
    "from scipy.constants import physical_constants\n",
    "\n",
    "def make_record(k, v):\n",
    "    \"\"\"\n",
    "    Return the record for this constant from the key and value of its entry\n",
    "    in the physical_constants dictionary.\n",
    "\n",
    "    \"\"\"\n",
    "    name = k\n",
    "    val, units, abs_unc = v\n",
    "    # Calculate the relative uncertainty in ppm\n",
    "    rel_unc = abs_unc / abs(val) * 1.e6\n",
    "    return name, val, units, abs_unc, rel_unc\n",
    "\n",
    "dtype = [('name', 'S50'), ('val', 'f8'), ('units', 'S20'),\n",
    "         ('abs_unc', 'f8'), ('rel_unc', 'f8')]\n",
    "constants = np.array([make_record(k, v) for k,v in physical_constants.items()],\n",
    "                     dtype=dtype )\n",
    "constants.sort(order='rel_unc')\n",
    "\n",
    "# List the 10 constants with the largest relative uncertainties\n",
    "for rec in constants[constants['rel_unc'] > 0][:10]:\n",
    "    print('{:.0f} ppm: {:s} = {:g} {:s}'.format(rec['rel_unc'],\n",
    "              rec['name'].decode(), rec['val'], rec['units'].decode()))"
   ]
  },
  {
   "cell_type": "markdown",
   "metadata": {},
   "source": [
    "## Q8.1.2\n",
    "-----"
   ]
  },
  {
   "cell_type": "code",
   "execution_count": 9,
   "metadata": {},
   "outputs": [
    {
     "name": "stdout",
     "output_type": "stream",
     "text": [
      "2.686780111798444e+25\n"
     ]
    }
   ],
   "source": [
    "import scipy.constants as sc\n",
    "\n",
    "answer = sc.atm / sc.k / sc.zero_Celsius\n",
    "\n",
    "print(answer)\n"
   ]
  }
 ],
 "metadata": {
  "kernelspec": {
   "display_name": "Python 3.10.4 64-bit",
   "language": "python",
   "name": "python3"
  },
  "language_info": {
   "codemirror_mode": {
    "name": "ipython",
    "version": 3
   },
   "file_extension": ".py",
   "mimetype": "text/x-python",
   "name": "python",
   "nbconvert_exporter": "python",
   "pygments_lexer": "ipython3",
   "version": "3.10.4"
  },
  "orig_nbformat": 4,
  "vscode": {
   "interpreter": {
    "hash": "26de051ba29f2982a8de78e945f0abaf191376122a1563185a90213a26c5da77"
   }
  }
 },
 "nbformat": 4,
 "nbformat_minor": 2
}
