{
 "cells": [
  {
   "cell_type": "markdown",
   "metadata": {},
   "source": [
    "## P8.1.1\n",
    "-----"
   ]
  },
  {
   "cell_type": "code",
   "execution_count": 12,
   "metadata": {},
   "outputs": [
    {
     "name": "stdout",
     "output_type": "stream",
     "text": [
      "                    1                   \n",
      "                  1   1                 \n",
      "                1   2   1               \n",
      "              1   3   3   1             \n",
      "            1   4   6   4   1           \n",
      "          1   5  10  10   5   1         \n",
      "        1   6  15  20  15   6   1       \n",
      "      1   7  21  35  35  21   7   1     \n"
     ]
    }
   ],
   "source": [
    "import numpy as np\n",
    "from scipy.special import binom as binomial\n",
    "\n",
    "\n",
    "def pascal(n_max: int) -> None:\n",
    "    for n in range(n_max):\n",
    "        fmt = \" {:^3d}\"*(n+1)\n",
    "        pascal_row = fmt.format(*np.array(binomial(n,np.arange(n+1)), dtype=\"i4\"))\n",
    "        print(\"{:^40s}\".format(pascal_row))\n",
    "\n",
    "\n",
    "pascal(8)\n"
   ]
  },
  {
   "cell_type": "markdown",
   "metadata": {},
   "source": [
    "## P8.1.2\n",
    "-----"
   ]
  },
  {
   "cell_type": "code",
   "execution_count": 15,
   "metadata": {},
   "outputs": [
    {
     "name": "stdout",
     "output_type": "stream",
     "text": [
      "Maximum resolving power for pupil diameter 3.0 mm at 500 nm is:   41.9 arcsec\n"
     ]
    },
    {
     "data": {
      "image/png": "[encoded data removed]",
      "text/plain": [
       "<Figure size 432x288 with 1 Axes>"
      ]
     },
     "metadata": {
      "needs_background": "light"
     },
     "output_type": "display_data"
    }
   ],
   "source": [
    "import numpy as np\n",
    "import matplotlib.pyplot as plt\n",
    "from scipy.special import jn, jn_zeros\n",
    "\n",
    "fig = plt.figure()\n",
    "ax = fig.add_subplot(111)\n",
    "\n",
    "x = np.linspace(-10, 10, 100)\n",
    "\n",
    "j_inc = lambda x: jn(1, x) / x\n",
    "\n",
    "\n",
    "a, lam = 1.5, 500\n",
    "\n",
    "k = 2 * np.pi / (lam / 1.0e6)\n",
    "\n",
    "x1 = jn_zeros(1, 1)[0]\n",
    "theta1 = np.arcsin(x1 / k / a)\n",
    "\n",
    "theta1 = np.degrees(theta1) * 60 * 60\n",
    "\n",
    "print(\n",
    "    f\"Maximum resolving power for pupil diameter {2*a} mm at {lam} nm is:  {theta1: .1f} arcsec\"\n",
    ")\n",
    "\n",
    "airy = (2 * j_inc(x) / x) ** 2\n",
    "ax.plot(x, airy, \"r-\")\n",
    "ax.set_xlabel(\"$x$\")\n",
    "ax.set_ylabel(\"$I(x)/I_0$\")\n",
    "plt.show()\n"
   ]
  },
  {
   "cell_type": "markdown",
   "metadata": {},
   "source": [
    "## P8.1.3\n",
    "-----"
   ]
  },
  {
   "cell_type": "code",
   "execution_count": 18,
   "metadata": {},
   "outputs": [
    {
     "name": "stdout",
     "output_type": "stream",
     "text": [
      "240.6973151684044\n"
     ]
    }
   ],
   "source": [
    "import scipy.constants as pc\n",
    "\n",
    "def get_wv(D0):\n",
    "    E = D0 * pc.kilo / pc.N_A \n",
    "    lam = pc.h * pc.c / E \n",
    "    return lam / pc.nano   \n",
    "\n",
    "print(get_wv(497))"
   ]
  },
  {
   "cell_type": "markdown",
   "metadata": {},
   "source": [
    "## P8.1.4\n",
    "-----"
   ]
  },
  {
   "cell_type": "code",
   "execution_count": 17,
   "metadata": {},
   "outputs": [
    {
     "name": "stdout",
     "output_type": "stream",
     "text": [
      "Maximum percentage error in approximation: 7.77\n"
     ]
    },
    {
     "data": {
      "image/png": "[encoded data removed]",
      "text/plain": [
       "<Figure size 432x288 with 2 Axes>"
      ]
     },
     "metadata": {
      "needs_background": "light"
     },
     "output_type": "display_data"
    }
   ],
   "source": [
    "from numpy import pi, arccos, sin\n",
    "from scipy.special import ellipkinc, ellipeinc\n",
    "\n",
    "\n",
    "def ellipsoid_surface(a, b, c):\n",
    "    a, b, c = sorted([a, b, c], reverse=True)\n",
    "\n",
    "    if a == c:\n",
    "        return 4 * pi * a**2\n",
    "    cos_phi = c / a\n",
    "    phi = arccos(cos_phi)\n",
    "    cos_phi_sq = cos_phi**2\n",
    "    sin_phi_sq = 1 - cos_phi_sq\n",
    "\n",
    "    k_sq = a**2 * (b**2 - c**2) / b**2 / (a**2 - c**2)\n",
    "    k2 = round(k_sq, 8)\n",
    "\n",
    "    return 2 * pi * c**2 + 2 * pi * a * b / sin(phi) * (\n",
    "        ellipkinc(phi, k2) * cos_phi_sq + ellipeinc(phi, k2) * sin_phi_sq\n",
    "    )\n",
    "\n",
    "\n",
    "def ellipsoid_surface_approx(a, b, c):\n",
    "    a, b, c = reversed(sorted([a, b, c]))\n",
    "    cos_phi = c / a\n",
    "    phi = arccos(cos_phi)\n",
    "    r = phi / sin(phi)\n",
    "    return 2 * np.pi * c**2 + 2 * np.pi * a * b * r * (\n",
    "        1\n",
    "        - (b**2 - c**2) \n",
    "        / 6\n",
    "        / b**2\n",
    "        * r**2\n",
    "        * (1 - (3 * b**2 + 10 * c**2) / 56 / b**2 * r**2)\n",
    "    )\n",
    "\n",
    "\n",
    "a = 1\n",
    "db = 0.02\n",
    "nb = int((1 - 2*db)/db + 1)\n",
    "bgrid = np.linspace(db, 1-db, nb)\n",
    "\n",
    "de = np.zeros((nb,nb))\n",
    "for i, b in enumerate(bgrid):\n",
    "    for j in range(0,i+1):\n",
    "        c = bgrid[j]\n",
    "        S_exact = ellipsoid_surface(a, b, c)\n",
    "        S_approx = ellipsoid_surface_approx(a, b, c)\n",
    "        de[i,j] = np.abs(S_exact - S_approx)/S_exact \n",
    "de = de + de.T - np.diag(de.diagonal())\n",
    "\n",
    "maxde = np.max(np.abs(de))\n",
    "print(f\"Maximum percentage error in approximation: {maxde*100:.2f}\")\n",
    "\n",
    "import matplotlib.pyplot as plt\n",
    "plt.pcolor(bgrid, bgrid, de)\n",
    "plt.xlabel(r\"$b$\")\n",
    "plt.ylabel(r\"$c$\")\n",
    "plt.colorbar()\n",
    "plt.show()\n"
   ]
  },
  {
   "cell_type": "markdown",
   "metadata": {},
   "source": [
    "## P8.1.5\n",
    "-----"
   ]
  },
  {
   "cell_type": "code",
   "execution_count": 19,
   "metadata": {},
   "outputs": [
    {
     "name": "stderr",
     "output_type": "stream",
     "text": [
      "C:\\Users\\Arjun Sarao\\AppData\\Local\\Temp\\ipykernel_53028\\1278337679.py:18: RuntimeWarning: divide by zero encountered in true_divide\n",
      "  H_jacob = H0 - Q/4/np.pi/T * np.log(np.exp(-euler_gamma)/u)\n"
     ]
    },
    {
     "data": {
      "image/png": "[encoded data removed]",
      "text/plain": [
       "<Figure size 432x288 with 1 Axes>"
      ]
     },
     "metadata": {
      "needs_background": "light"
     },
     "output_type": "display_data"
    }
   ],
   "source": [
    "import numpy as np\n",
    "import matplotlib.pyplot as plt\n",
    "from scipy.special import exp1\n",
    "\n",
    "Q = 1000\n",
    "H0 = 20\n",
    "S = 0.0003\n",
    "T = 1000\n",
    "\n",
    "t = 1\n",
    "\n",
    "r = np.linspace(0, 1000, 1000)\n",
    "\n",
    "u = r**2 * S / 4 / T / t\n",
    "H = H0 - Q/4/np.pi/T * exp1(u)\n",
    "\n",
    "euler_gamma = 0.5772156649015329\n",
    "H_jacob = H0 - Q/4/np.pi/T * np.log(np.exp(-euler_gamma)/u)\n",
    "\n",
    "plt.plot(r,H, label=\"Exact solution\")\n",
    "plt.plot(r,H_jacob, label=\"Jacob equation\")\n",
    "plt.xlabel(r\"Distance from well (m)\")\n",
    "plt.ylabel(r\"Hydraulic head (m)\")\n",
    "plt.legend(loc=4)\n",
    "plt.show()\n"
   ]
  },
  {
   "cell_type": "markdown",
   "metadata": {},
   "source": [
    "## P8.1.6\n",
    "-----"
   ]
  },
  {
   "cell_type": "code",
   "execution_count": 20,
   "metadata": {},
   "outputs": [
    {
     "name": "stdout",
     "output_type": "stream",
     "text": [
      "eta = 0.994\n",
      "Q_dot = 0.47 W\n"
     ]
    }
   ],
   "source": [
    "import numpy as np\n",
    "from scipy.special import k0, k1, i0, i1\n",
    "\n",
    "T_0, T_e = 400, 300\n",
    "\n",
    "w, r_0, r_1 = 0.1 * 1.0e-3, 0.005, 0.01\n",
    "h_c, kappa = 10, 200\n",
    "\n",
    "beta = np.sqrt(h_c / kappa / w)\n",
    "u0, u1 = beta * r_0, beta * r_1\n",
    "\n",
    "eta = 2*r_0/beta * (k1(u0) * i1(u1) - i1(u0) * k1(u1)) / (r_1**2 - r_0**2) / (k0(u0) * i1(u1) + i0(u0) * k1(u1))\n",
    "\n",
    "print(f\"eta = {eta:.3f}\")\n",
    "fin_area = 2 * np.pi * (r_1**2 - r_0**2)\n",
    "Q_dot = eta * h_c * fin_area * (T_0 - T_e)\n",
    "print(f\"Q_dot = {Q_dot:.2f} W\")"
   ]
  }
 ],
 "metadata": {
  "kernelspec": {
   "display_name": "Python 3.10.4 64-bit",
   "language": "python",
   "name": "python3"
  },
  "language_info": {
   "codemirror_mode": {
    "name": "ipython",
    "version": 3
   },
   "file_extension": ".py",
   "mimetype": "text/x-python",
   "name": "python",
   "nbconvert_exporter": "python",
   "pygments_lexer": "ipython3",
   "version": "3.10.4"
  },
  "orig_nbformat": 4,
  "vscode": {
   "interpreter": {
    "hash": "26de051ba29f2982a8de78e945f0abaf191376122a1563185a90213a26c5da77"
   }
  }
 },
 "nbformat": 4,
 "nbformat_minor": 2
}
