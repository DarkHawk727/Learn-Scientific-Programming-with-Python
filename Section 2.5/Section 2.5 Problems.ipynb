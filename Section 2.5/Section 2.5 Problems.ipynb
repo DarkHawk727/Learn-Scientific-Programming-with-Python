{
 "cells": [
  {
   "cell_type": "markdown",
   "metadata": {},
   "source": [
    "## P2.5.1\n",
    "----"
   ]
  },
  {
   "cell_type": "code",
   "execution_count": 6,
   "metadata": {},
   "outputs": [
    {
     "name": "stdout",
     "output_type": "stream",
     "text": [
      "*\n",
      "**\n",
      "* *\n",
      "****\n",
      "*   *\n",
      "**  **\n",
      "* * * *\n",
      "********\n",
      "*       *\n",
      "**      **\n",
      "* *     * *\n",
      "****    ****\n",
      "*   *   *   *\n",
      "**  **  **  **\n",
      "* * * * * * * *\n",
      "****************\n",
      "*               *\n",
      "**              **\n",
      "* *             * *\n",
      "****            ****\n",
      "*   *           *   *\n",
      "**  **          **  **\n",
      "* * * *         * * * *\n",
      "********        ********\n",
      "*       *       *       *\n",
      "**      **      **      **\n",
      "* *     * *     * *     * *\n",
      "****    ****    ****    ****\n",
      "*   *   *   *   *   *   *   *\n",
      "**  **  **  **  **  **  **  **\n",
      "* * * * * * * * * * * * * * * *\n",
      "********************************\n",
      "*                               *\n",
      "**                              **\n",
      "* *                             * *\n",
      "****                            ****\n",
      "*   *                           *   *\n",
      "**  **                          **  **\n",
      "* * * *                         * * * *\n",
      "********                        ********\n",
      "*       *                       *       *\n",
      "**      **                      **      **\n",
      "* *     * *                     * *     * *\n",
      "****    ****                    ****    ****\n",
      "*   *   *   *                   *   *   *   *\n",
      "**  **  **  **                  **  **  **  **\n",
      "* * * * * * * *                 * * * * * * * *\n",
      "****************                ****************\n",
      "*               *               *               *\n"
     ]
    }
   ],
   "source": [
    "for line in range(1, 50):\n",
    "        C = 1\n",
    "        for i in range(1, line + 1):\n",
    "            if C % 2 == 0:\n",
    "                print(' ', end='')\n",
    "            else:\n",
    "                print('*', end='')\n",
    "            C = int(C * (line - i) / i);\n",
    "        print(\"\");"
   ]
  },
  {
   "cell_type": "markdown",
   "metadata": {},
   "source": [
    "## P2.5.2\n",
    "----"
   ]
  },
  {
   "cell_type": "code",
   "execution_count": 35,
   "metadata": {},
   "outputs": [
    {
     "name": "stdout",
     "output_type": "stream",
     "text": [
      "The [H+] is 0.0004219004621945797\n",
      "The pH is 3.3747899988455528\n"
     ]
    }
   ],
   "source": [
    "import math\n",
    "H = 0\n",
    "c = 0.01\n",
    "K_a = 1.78e-5\n",
    "tolerance = 1.0e-10\n",
    "\n",
    "while abs(H - Hprev) > tolerance:\n",
    "    Hprev = math.sqrt(K_a * (c - H))\n",
    "    H = math.sqrt(K_a * (c - H))\n",
    "    \n",
    "print('The [H+] is {}'.format(H))\n",
    "print('The pH is {}'.format(-math.log(H, 10)))"
   ]
  },
  {
   "cell_type": "markdown",
   "metadata": {},
   "source": [
    "## P2.5.3\n",
    "----"
   ]
  },
  {
   "cell_type": "code",
   "execution_count": 139,
   "metadata": {},
   "outputs": [
    {
     "name": "stdout",
     "output_type": "stream",
     "text": [
      "Valid Credit Card Number.\n"
     ]
    }
   ],
   "source": [
    "cardNumber = '4799 2739 8713 6272'\n",
    "summation = 0\n",
    "\n",
    "temp = list(cardNumber.replace(' ', ''))\n",
    "numbers = list(map(int, temp))\n",
    "digits = numbers[::-1]\n",
    "\n",
    "\n",
    "for i in range(len(digits)):\n",
    "    if i % 2 == 1:\n",
    "        digits[i] = 2 * digits[i]\n",
    "    if digits[i] > 9:\n",
    "        digits[i] = digits[i] // 10  + digits[i] % 10\n",
    "    summation += digits[i]\n",
    "\n",
    "if summation % 10 == 0:\n",
    "    print('Valid Credit Card Number.')\n",
    "else:\n",
    "    print('Invalid Credit Card Number.')"
   ]
  },
  {
   "cell_type": "markdown",
   "metadata": {},
   "source": [
    "## P2.5.4\n",
    "----"
   ]
  },
  {
   "cell_type": "code",
   "execution_count": 159,
   "metadata": {},
   "outputs": [
    {
     "name": "stdout",
     "output_type": "stream",
     "text": [
      "1455.17\n"
     ]
    }
   ],
   "source": [
    "x_prev = 2000\n",
    "S = 2117519.73\n",
    "\n",
    "print('{:.2f}'.format(math.sqrt(S)))"
   ]
  },
  {
   "cell_type": "markdown",
   "metadata": {},
   "source": [
    "## P2.5.5\n",
    "----"
   ]
  },
  {
   "cell_type": "code",
   "execution_count": 228,
   "metadata": {},
   "outputs": [
    {
     "name": "stdout",
     "output_type": "stream",
     "text": [
      "Please specify the date format you wish to use (US or UK):US\n",
      "Now, please enter the date: 8/13/2021\n",
      "8/14/2021\n"
     ]
    }
   ],
   "source": [
    "\n",
    "us_date_style = False\n",
    "leapYear = False\n",
    "\n",
    "choice = input('Please specify the date format you wish to use (US or UK):')\n",
    "if choice == 'US':\n",
    "    us_date_style = True\n",
    "\n",
    "raw = input('Now, please enter the date: ')\n",
    "temp = raw.split('/')\n",
    "dates = list(map(int, temp))\n",
    "\n",
    "if us_date_style:\n",
    "    if(dates[2] % 4):\n",
    "        leapYear = True\n",
    "    if dates[0] in (1, 3, 5, 7, 8, 10, 12):\n",
    "        monthLength = 31\n",
    "    elif dates[0] == 2:\n",
    "        if leapYear:\n",
    "            monthLength = 29\n",
    "        else:\n",
    "            monthLength = 28\n",
    "    else:\n",
    "        monthLength = 30\n",
    "    \n",
    "    if dates[1] < monthLength:\n",
    "        dates[1] += 1\n",
    "    else:\n",
    "        dates[1] = 1\n",
    "        if dates[0] == 12:\n",
    "            dates[0] = 1\n",
    "            dates[2] += 1\n",
    "        else:\n",
    "            dates[0] += 1\n",
    "else:\n",
    "    if(dates[2] % 4):\n",
    "        leapYear = True\n",
    "    if dates[1] in (1, 3, 5, 7, 8, 10, 12):\n",
    "        monthLength = 31\n",
    "    elif dates[1] == 2:\n",
    "        if leapYear:\n",
    "            monthLength = 29\n",
    "        else:\n",
    "            monthLength = 28\n",
    "    else:\n",
    "        monthLength = 30\n",
    "    \n",
    "    if dates[0] < monthLength:\n",
    "        dates[0] += 1\n",
    "    else:\n",
    "        dates[0] = 1\n",
    "        if dates[1] == 12:\n",
    "            dates[1] = 1\n",
    "            dates[2] += 1\n",
    "        else:\n",
    "            dates[1] += 1\n",
    "print('{}/{}/{}'.format(dates[0], dates[1], dates[2]))"
   ]
  },
  {
   "cell_type": "markdown",
   "metadata": {},
   "source": [
    "## P2.5.6\n",
    "----"
   ]
  },
  {
   "cell_type": "code",
   "execution_count": 173,
   "metadata": {},
   "outputs": [
    {
     "name": "stdout",
     "output_type": "stream",
     "text": [
      "49\n"
     ]
    }
   ],
   "source": [
    "# Not exactly but it gets the job done.\n",
    "n = 200\n",
    "zeroes = 0\n",
    "while(n >= 5):\n",
    "    n //= 5\n",
    "    zeroes += n\n",
    "print(zeroes)"
   ]
  },
  {
   "cell_type": "markdown",
   "metadata": {},
   "source": [
    "## P2.5.7\n",
    "----"
   ]
  },
  {
   "cell_type": "code",
   "execution_count": 181,
   "metadata": {},
   "outputs": [
    {
     "name": "stdout",
     "output_type": "stream",
     "text": [
      "82, 41, 124, 62, 31, 94, 47, 142, 71, 214, 107, 322, 161, 484, 242, 121, 364, 182, 91, 274, 137, 412, 206, 103, 310, 155, 466, 233, 700, 350, 175, 526, 263, 790, 395, 1186, 593, 1780, 890, 445, 1336, 668, 334, 167, 502, 251, 754, 377, 1132, 566, 283, 850, 425, 1276, 638, 319, 958, 479, 1438, 719, 2158, 1079, 3238, 1619, 4858, 2429, 7288, 3644, 1822, 911, 2734, 1367, 4102, 2051, 6154, 3077, 9232, 4616, 2308, 1154, 577, 1732, 866, 433, 1300, 650, 325, 976, 488, 244, 122, 61, 184, 92, 46, 23, 70, 35, 106, 53, 160, 80, 40, 20, 10, 5, 16, 8, 4, 2, 1, "
     ]
    }
   ],
   "source": [
    "# a)\n",
    "n = 27\n",
    "while n > 0:\n",
    "    if n == 1:\n",
    "        break\n",
    "    elif n % 2 == 0:\n",
    "        n = n/2\n",
    "        print(int(n), end=', ')\n",
    "    else:\n",
    "        n = 3 * n + 1\n",
    "        print(int(n), end=', ')"
   ]
  },
  {
   "cell_type": "code",
   "execution_count": 18,
   "metadata": {},
   "outputs": [
    {
     "name": "stdout",
     "output_type": "stream",
     "text": [
      "['Sequence Valid', 'Sequence Valid', 'Sequence Valid', 'Sequence Valid', 'Sequence Valid', 'Sequence Valid', 'Sequence Valid', 'Sequence Valid', 'Sequence Valid', 'Sequence Valid', 'Sequence Valid', 'Sequence Valid', 'Sequence Valid', 'Sequence Valid', 'Sequence Valid', 'Sequence Valid', 'Sequence Valid', 'Sequence Valid', 'Sequence Valid', 'Sequence Valid', 'Sequence Valid', 'Sequence Valid', 'Sequence Valid', 'Sequence Valid', 'Sequence Valid', 'Sequence Valid', 'Sequence Valid', 'Sequence Valid', 'Sequence Valid', 'Sequence Valid', 'Sequence Valid', 'Sequence Valid', 'Sequence Valid', 'Sequence Valid', 'Sequence Valid', 'Sequence Valid', 'Sequence Valid', 'Sequence Valid', 'Sequence Valid', 'Sequence Valid', 'Sequence Valid', 'Sequence Valid', 'Sequence Valid', 'Sequence Valid', 'Sequence Valid', 'Sequence Valid', 'Sequence Valid', 'Sequence Valid', 'Sequence Valid', 'Sequence Valid', 'Sequence Valid', 'Sequence Valid', 'Sequence Valid', 'Sequence Valid', 'Sequence Valid', 'Sequence Valid', 'Sequence Valid', 'Sequence Valid', 'Sequence Valid', 'Sequence Valid', 'Sequence Valid', 'Sequence Valid', 'Sequence Valid', 'Sequence Valid', 'Sequence Valid', 'Sequence Valid', 'Sequence Valid', 'Sequence Valid', 'Sequence Valid', 'Sequence Valid', 'Sequence Valid', 'Sequence Valid', 'Sequence Valid', 'Sequence Valid', 'Sequence Valid', 'Sequence Valid', 'Sequence Valid', 'Sequence Valid', 'Sequence Valid', 'Sequence Valid', 'Sequence Valid', 'Sequence Valid', 'Sequence Valid', 'Sequence Valid', 'Sequence Valid', 'Sequence Valid', 'Sequence Valid', 'Sequence Valid', 'Sequence Valid', 'Sequence Valid', 'Sequence Valid', 'Sequence Valid', 'Sequence Valid', 'Sequence Valid', 'Sequence Valid', 'Sequence Valid', 'Sequence Valid', 'Sequence Valid', 'Sequence Valid', 'Sequence Valid'], \n",
      "Length of proofs array: 100\n"
     ]
    }
   ],
   "source": [
    "# b)\n",
    "proofs = []\n",
    "for n in range(1, 101):\n",
    "    while n > 0:\n",
    "        if n == 1:\n",
    "            proofs.append('Sequence Valid')\n",
    "            break\n",
    "        elif n % 2 == 0:\n",
    "            n = n/2\n",
    "            # print(int(n), end=', ')\n",
    "        else:\n",
    "            n = 3 * n + 1\n",
    "        # print(int(n), end=', ')\n",
    "print(proofs, end=', ')\n",
    "print('\\nLength of proofs array: {}'.format(len(proofs)))"
   ]
  },
  {
   "cell_type": "markdown",
   "metadata": {},
   "source": [
    "## P2.5.8\n",
    "----"
   ]
  },
  {
   "cell_type": "code",
   "execution_count": 158,
   "metadata": {},
   "outputs": [
    {
     "name": "stdout",
     "output_type": "stream",
     "text": [
      "2, 3, 5, 7, 11, 13, 17, 19, 23, 29, 31, 37, 41, 43, 47, 53, 59, 61, 67, 71, 73, 79, 83, 89, 97, 101, 103, 107, 109, 113, 127, 131, 137, 139, 149, 151, 157, 163, 167, 173, 179, 181, 191, 193, 197, 199, 211, 223, 227, 229, 233, 239, 241, 251, 257, 263, 269, 271, 277, 281, 283, 293, 307, 311, 313, 317, 331, 337, 347, 349, 353, 359, 367, 373, 379, 383, 389, 397, 401, 409, 419, 421, 431, 433, 439, 443, 449, 457, 461, 463, 467, 479, 487, 491, 499, 503, 509, 521, 523, 541, 547, 557, 563, 569, 571, 577, 587, 593, 599, 601, 607, 613, 617, 619, 631, 641, 643, 647, 653, 659, 661, 673, 677, 683, 691, 701, 709, 719, 727, 733, 739, 743, 751, 757, 761, 769, 773, 787, 797, 809, 811, 821, 823, 827, 829, 839, 853, 857, 859, 863, 877, 881, 883, 887, 907, 911, 919, 929, 937, 941, 947, 953, 967, 971, 977, 983, 991, 997, 1009, 1013, 1019, 1021, 1031, 1033, 1039, 1049, 1051, 1061, 1063, 1069, 1087, 1091, 1093, 1097, 1103, 1109, 1117, 1123, 1129, 1151, 1153, 1163, 1171, 1181, 1187, 1193, 1201, 1213, 1217, 1223, 1229, 1231, 1237, 1249, 1259, 1277, 1279, 1283, 1289, 1291, 1297, 1301, 1303, 1307, 1319, 1321, 1327, 1361, 1367, 1373, 1381, 1399, 1409, 1423, 1427, 1429, 1433, 1439, 1447, 1451, 1453, 1459, 1471, 1481, 1483, 1487, 1489, 1493, 1499, 1511, 1523, 1531, 1543, 1549, 1553, 1559, 1567, 1571, 1579, 1583, 1597, 1601, 1607, 1609, 1613, 1619, 1621, 1627, 1637, 1657, 1663, 1667, 1669, 1693, 1697, 1699, 1709, 1721, 1723, 1733, 1741, 1747, 1753, 1759, 1777, 1783, 1787, 1789, 1801, 1811, 1823, 1831, 1847, 1861, 1867, 1871, 1873, 1877, 1879, 1889, 1901, 1907, 1913, 1931, 1933, 1949, 1951, 1973, 1979, 1987, 1993, 1997, 1999, 2003, 2011, 2017, 2027, 2029, 2039, 2053, 2063, 2069, 2081, 2083, 2087, 2089, 2099, 2111, 2113, 2129, 2131, 2137, 2141, 2143, 2153, 2161, 2179, 2203, 2207, 2213, 2221, 2237, 2239, 2243, 2251, 2267, 2269, 2273, 2281, 2287, 2293, 2297, 2309, 2311, 2333, 2339, 2341, 2347, 2351, 2357, 2371, 2377, 2381, 2383, 2389, 2393, 2399, 2411, 2417, 2423, 2437, 2441, 2447, 2459, 2467, 2473, 2477, 2503, 2521, 2531, 2539, 2543, 2549, 2551, 2557, 2579, 2591, 2593, 2609, 2617, 2621, 2633, 2647, 2657, 2659, 2663, 2671, 2677, 2683, 2687, 2689, 2693, 2699, 2707, 2711, 2713, 2719, 2729, 2731, 2741, 2749, 2753, 2767, 2777, 2789, 2791, 2797, 2801, 2803, 2819, 2833, 2837, 2843, 2851, 2857, 2861, 2879, 2887, 2897, 2903, 2909, 2917, 2927, 2939, 2953, 2957, 2963, 2969, 2971, 2999, 3001, 3011, 3019, 3023, 3037, 3041, 3049, 3061, 3067, 3079, 3083, 3089, 3109, 3119, 3121, 3137, 3163, 3167, 3169, 3181, 3187, 3191, 3203, 3209, 3217, 3221, 3229, 3251, 3253, 3257, 3259, 3271, 3299, 3301, 3307, 3313, 3319, 3323, 3329, 3331, 3343, 3347, 3359, 3361, 3371, 3373, 3389, 3391, 3407, 3413, 3433, 3449, 3457, 3461, 3463, 3467, 3469, 3491, 3499, 3511, 3517, 3527, 3529, 3533, 3539, 3541, 3547, 3557, 3559, 3571, 3581, 3583, 3593, 3607, 3613, 3617, 3623, 3631, 3637, 3643, 3659, 3671, 3673, 3677, 3691, 3697, 3701, 3709, 3719, 3727, 3733, 3739, 3761, 3767, 3769, 3779, 3793, 3797, 3803, 3821, 3823, 3833, 3847, 3851, 3853, 3863, 3877, 3881, 3889, 3907, 3911, 3917, 3919, 3923, 3929, 3931, 3943, 3947, 3967, 3989, 4001, 4003, 4007, 4013, 4019, 4021, 4027, 4049, 4051, 4057, 4073, 4079, 4091, 4093, 4099, 4111, 4127, 4129, 4133, 4139, 4153, 4157, 4159, 4177, 4201, 4211, 4217, 4219, 4229, 4231, 4241, 4243, 4253, 4259, 4261, 4271, 4273, 4283, 4289, 4297, 4327, 4337, 4339, 4349, 4357, 4363, 4373, 4391, 4397, 4409, 4421, 4423, 4441, 4447, 4451, 4457, 4463, 4481, 4483, 4493, 4507, 4513, 4517, 4519, 4523, 4547, 4549, 4561, 4567, 4583, 4591, 4597, 4603, 4621, 4637, 4639, 4643, 4649, 4651, 4657, 4663, 4673, 4679, 4691, 4703, 4721, 4723, 4729, 4733, 4751, 4759, 4783, 4787, 4789, 4793, 4799, 4801, 4813, 4817, 4831, 4861, 4871, 4877, 4889, 4903, 4909, 4919, 4931, 4933, 4937, 4943, 4951, 4957, 4967, 4969, 4973, 4987, 4993, 4999, 5003, 5009, 5011, 5021, 5023, 5039, 5051, 5059, 5077, 5081, 5087, 5099, 5101, 5107, 5113, 5119, 5147, 5153, 5167, 5171, 5179, 5189, 5197, 5209, 5227, 5231, 5233, 5237, 5261, 5273, 5279, 5281, 5297, 5303, 5309, 5323, 5333, 5347, 5351, 5381, 5387, 5393, 5399, 5407, 5413, 5417, 5419, 5431, 5437, 5441, 5443, 5449, 5471, 5477, 5479, 5483, 5501, 5503, 5507, 5519, 5521, 5527, 5531, 5557, 5563, 5569, 5573, 5581, 5591, 5623, 5639, 5641, 5647, 5651, 5653, 5657, 5659, 5669, 5683, 5689, 5693, 5701, 5711, 5717, 5737, 5741, 5743, 5749, 5779, 5783, 5791, 5801, 5807, 5813, 5821, 5827, 5839, 5843, 5849, 5851, 5857, 5861, 5867, 5869, 5879, 5881, 5897, 5903, 5923, 5927, 5939, 5953, 5981, 5987, 6007, 6011, 6029, 6037, 6043, 6047, 6053, 6067, 6073, 6079, 6089, 6091, 6101, 6113, 6121, 6131, 6133, 6143, 6151, 6163, 6173, 6197, 6199, 6203, 6211, 6217, 6221, 6229, 6247, 6257, 6263, 6269, 6271, 6277, 6287, 6299, 6301, 6311, 6317, 6323, 6329, 6337, 6343, 6353, 6359, 6361, 6367, 6373, 6379, 6389, 6397, 6421, 6427, 6449, 6451, 6469, 6473, 6481, 6491, 6521, 6529, 6547, 6551, 6553, 6563, 6569, 6571, 6577, 6581, 6599, 6607, 6619, 6637, 6653, 6659, 6661, 6673, 6679, 6689, 6691, 6701, 6703, 6709, 6719, 6733, 6737, 6761, 6763, 6779, 6781, 6791, 6793, 6803, 6823, 6827, 6829, 6833, 6841, 6857, 6863, 6869, 6871, 6883, 6899, 6907, 6911, 6917, 6947, 6949, 6959, 6961, 6967, 6971, 6977, 6983, 6991, 6997, 7001, 7013, 7019, 7027, 7039, 7043, 7057, 7069, 7079, 7103, 7109, 7121, 7127, 7129, 7151, 7159, 7177, 7187, 7193, 7207, 7211, 7213, 7219, 7229, 7237, 7243, 7247, 7253, 7283, 7297, 7307, 7309, 7321, 7331, 7333, 7349, 7351, 7369, 7393, 7411, 7417, 7433, 7451, 7457, 7459, 7477, 7481, 7487, 7489, 7499, 7507, 7517, 7523, 7529, 7537, 7541, 7547, 7549, 7559, 7561, 7573, 7577, 7583, 7589, 7591, 7603, 7607, 7621, 7639, 7643, 7649, 7669, 7673, 7681, 7687, 7691, 7699, 7703, 7717, 7723, 7727, 7741, 7753, 7757, 7759, 7789, 7793, 7817, 7823, 7829, 7841, 7853, 7867, 7873, 7877, 7879, 7883, 7901, 7907, 7919, 7927, 7933, 7937, 7949, 7951, 7963, 7993, 8009, 8011, 8017, 8039, 8053, 8059, 8069, 8081, 8087, 8089, 8093, 8101, 8111, 8117, 8123, 8147, 8161, 8167, 8171, 8179, 8191, 8209, 8219, 8221, 8231, 8233, 8237, 8243, 8263, 8269, 8273, 8287, 8291, 8293, 8297, 8311, 8317, 8329, 8353, 8363, 8369, 8377, 8387, 8389, 8419, 8423, 8429, 8431, 8443, 8447, 8461, 8467, 8501, 8513, 8521, 8527, 8537, 8539, 8543, 8563, 8573, 8581, 8597, 8599, 8609, 8623, 8627, 8629, 8641, 8647, 8663, 8669, 8677, 8681, 8689, 8693, 8699, 8707, 8713, 8719, 8731, 8737, 8741, 8747, 8753, 8761, 8779, 8783, 8803, 8807, 8819, 8821, 8831, 8837, 8839, 8849, 8861, 8863, 8867, 8887, 8893, 8923, 8929, 8933, 8941, 8951, 8963, 8969, 8971, 8999, 9001, 9007, 9011, 9013, 9029, 9041, 9043, 9049, 9059, 9067, 9091, 9103, 9109, 9127, 9133, 9137, 9151, 9157, 9161, 9173, 9181, 9187, 9199, 9203, 9209, 9221, 9227, 9239, 9241, 9257, 9277, 9281, 9283, 9293, 9311, 9319, 9323, 9337, 9341, 9343, 9349, 9371, 9377, 9391, 9397, 9403, 9413, 9419, 9421, 9431, 9433, 9437, 9439, 9461, 9463, 9467, 9473, 9479, 9491, 9497, 9511, 9521, 9533, 9539, 9547, 9551, 9587, 9601, 9613, 9619, 9623, 9629, 9631, 9643, 9649, 9661, 9677, 9679, 9689, 9697, 9719, 9721, 9733, 9739, 9743, 9749, 9767, 9769, 9781, 9787, 9791, 9803, 9811, 9817, 9829, 9833, 9839, 9851, 9857, 9859, 9871, 9883, 9887, 9901, 9907, 9923, 9929, 9931, 9941, 9949, 9967, 9973, "
     ]
    }
   ],
   "source": [
    "n = 10000\n",
    "prime  = [True for i in range(n + 1)]\n",
    "p = 2\n",
    "\n",
    "while(p ** 2 < n):\n",
    "    if prime[p] == True:\n",
    "        for i in range(p ** 2, n + 1, p):\n",
    "            prime[i] = False\n",
    "    p += 1\n",
    "prime[0] = False\n",
    "prime[1] = False\n",
    "for p in range(n + 1):\n",
    "    if prime[p]:\n",
    "        print(p, end=', ')"
   ]
  },
  {
   "cell_type": "markdown",
   "metadata": {},
   "source": [
    "## P2.5.9\n",
    "---"
   ]
  },
  {
   "cell_type": "code",
   "execution_count": 24,
   "metadata": {},
   "outputs": [
    {
     "name": "stdout",
     "output_type": "stream",
     "text": [
      "Φ(1) = 1\n",
      "Φ(2) = 1\n",
      "Φ(3) = 2\n",
      "Φ(4) = 2\n",
      "Φ(5) = 4\n",
      "Φ(6) = 2\n",
      "Φ(7) = 6\n",
      "Φ(8) = 4\n",
      "Φ(9) = 6\n",
      "Φ(10) = 4\n",
      "Φ(11) = 10\n",
      "Φ(12) = 4\n",
      "Φ(13) = 12\n",
      "Φ(14) = 6\n",
      "Φ(15) = 8\n",
      "Φ(16) = 8\n",
      "Φ(17) = 16\n",
      "Φ(18) = 6\n",
      "Φ(19) = 18\n",
      "Φ(20) = 8\n",
      "Φ(21) = 12\n",
      "Φ(22) = 10\n",
      "Φ(23) = 22\n",
      "Φ(24) = 8\n",
      "Φ(25) = 20\n",
      "Φ(26) = 12\n",
      "Φ(27) = 18\n",
      "Φ(28) = 12\n",
      "Φ(29) = 28\n",
      "Φ(30) = 8\n",
      "Φ(31) = 30\n",
      "Φ(32) = 16\n",
      "Φ(33) = 20\n",
      "Φ(34) = 16\n",
      "Φ(35) = 24\n",
      "Φ(36) = 12\n",
      "Φ(37) = 36\n",
      "Φ(38) = 18\n",
      "Φ(39) = 24\n",
      "Φ(40) = 16\n",
      "Φ(41) = 40\n",
      "Φ(42) = 12\n",
      "Φ(43) = 42\n",
      "Φ(44) = 20\n",
      "Φ(45) = 24\n",
      "Φ(46) = 22\n",
      "Φ(47) = 46\n",
      "Φ(48) = 16\n",
      "Φ(49) = 42\n",
      "Φ(50) = 20\n",
      "Φ(51) = 32\n",
      "Φ(52) = 24\n",
      "Φ(53) = 52\n",
      "Φ(54) = 18\n",
      "Φ(55) = 40\n",
      "Φ(56) = 24\n",
      "Φ(57) = 36\n",
      "Φ(58) = 28\n",
      "Φ(59) = 58\n",
      "Φ(60) = 16\n",
      "Φ(61) = 60\n",
      "Φ(62) = 30\n",
      "Φ(63) = 36\n",
      "Φ(64) = 32\n",
      "Φ(65) = 48\n",
      "Φ(66) = 20\n",
      "Φ(67) = 66\n",
      "Φ(68) = 32\n",
      "Φ(69) = 44\n",
      "Φ(70) = 24\n",
      "Φ(71) = 70\n",
      "Φ(72) = 24\n",
      "Φ(73) = 72\n",
      "Φ(74) = 36\n",
      "Φ(75) = 40\n",
      "Φ(76) = 36\n",
      "Φ(77) = 60\n",
      "Φ(78) = 24\n",
      "Φ(79) = 78\n",
      "Φ(80) = 32\n",
      "Φ(81) = 54\n",
      "Φ(82) = 40\n",
      "Φ(83) = 82\n",
      "Φ(84) = 24\n",
      "Φ(85) = 64\n",
      "Φ(86) = 42\n",
      "Φ(87) = 56\n",
      "Φ(88) = 40\n",
      "Φ(89) = 88\n",
      "Φ(90) = 24\n",
      "Φ(91) = 72\n",
      "Φ(92) = 44\n",
      "Φ(93) = 60\n",
      "Φ(94) = 46\n",
      "Φ(95) = 72\n",
      "Φ(96) = 32\n",
      "Φ(97) = 96\n",
      "Φ(98) = 42\n",
      "Φ(99) = 60\n",
      "Φ(100) = 40\n"
     ]
    }
   ],
   "source": [
    "def gcd(a, b):\n",
    "    if a == 0:\n",
    "        return b\n",
    "    return gcd(b % a, a)\n",
    "\n",
    "def eulerTotient(n):\n",
    "    result = 1\n",
    "    for i in range(2, n):\n",
    "        if gcd(i, n) == 1:\n",
    "            result += 1\n",
    "    return result\n",
    "\n",
    "for n in range(1, 101):\n",
    "    print('Φ({}) = {}'.format(n, eulerTotient(n)))"
   ]
  },
  {
   "cell_type": "markdown",
   "metadata": {},
   "source": [
    "## P2.5.10\n",
    "----"
   ]
  },
  {
   "cell_type": "code",
   "execution_count": 7,
   "metadata": {},
   "outputs": [
    {
     "name": "stdout",
     "output_type": "stream",
     "text": [
      "π ~= 3.1414706666666667\n"
     ]
    }
   ],
   "source": [
    "import random\n",
    "import math\n",
    "x, y = 0, 0\n",
    "inside, outside = 0, 0\n",
    "\n",
    "for i in range(6000000):\n",
    "    x = random.uniform(0, 1)\n",
    "    y = random.uniform(0, 1)\n",
    "    if math.hypot(x, y) <= 1:\n",
    "        inside += 1\n",
    "    outside += 1\n",
    "print('π ~= {}'.format(4*(inside/outside)))"
   ]
  },
  {
   "cell_type": "markdown",
   "metadata": {},
   "source": [
    "## P2.5.11\n",
    "----"
   ]
  },
  {
   "cell_type": "code",
   "execution_count": 62,
   "metadata": {},
   "outputs": [
    {
     "name": "stdout",
     "output_type": "stream",
     "text": [
      "Four srcoe and seevn yaers ago our ferahts burhogt fohtr, uopn tihs centitonn, a new nnotia, cveeocnid in lytiber, and ddectiead to the psotpriioon that all men are cetraed ealuq. "
     ]
    }
   ],
   "source": [
    "import random\n",
    "text = \"Four score and seven years ago our fathers brought forth, upon this continent, a new nation, conceived in liberty, and dedicated to the proposition that all men are created equal.\"\n",
    "text = text.split()\n",
    "def shuffle_word(word):\n",
    "    if len(word)>3:\n",
    "        word=list(word)\n",
    "        middle=word[1:-1]\n",
    "        random.shuffle(middle)\n",
    "        word[1:-1]=middle\n",
    "        word=\"\".join(word)\n",
    "    return word\n",
    "for word in text:\n",
    "    print(shuffle_word(word), end=' ')"
   ]
  },
  {
   "cell_type": "markdown",
   "metadata": {},
   "source": [
    "## P2.5.12\n",
    "----"
   ]
  },
  {
   "cell_type": "code",
   "execution_count": 5,
   "metadata": {},
   "outputs": [
    {
     "name": "stdout",
     "output_type": "stream",
     "text": [
      "Please enter the Atomic Number of the Desired Element: 82\n",
      "1s2-2s2-2p6-3s2-3p6-4s2-3d10-4p6-5s2-4d10-5p6-6s2-4f14-5d10-6p2\n"
     ]
    }
   ],
   "source": [
    "N = int(input('Please enter the Atomic Number of the Desired Element: '))\n",
    "prefix = ['1s', '2s', '2p', '3s', '3p', '4s', '3d', '4p', '5s', '4d', '5p', '6s', '4f', '5d', '6p', '7s', '5f', '6d', '7p']\n",
    "config = ''\n",
    "\n",
    "def maxocc(s):\n",
    "    global maxoccu\n",
    "    if s[1] == 's':\n",
    "        maxoccu = 2\n",
    "    elif s[1] == 'p':\n",
    "        maxoccu = 6\n",
    "    elif s[1] == 'd':\n",
    "        maxoccu = 10\n",
    "    elif s[1] == 'f':\n",
    "        maxoccu = 14\n",
    "\n",
    "\n",
    "for i in range(len(prefix)):\n",
    "    maxocc(prefix[i])\n",
    "    if N == 0:\n",
    "        break\n",
    "    elif N >= maxoccu:\n",
    "        config += prefix[i] + str(maxoccu) +\"-\"\n",
    "        N -= maxoccu\n",
    "    elif N < maxoccu:\n",
    "        config += prefix[i] + str(N)\n",
    "        break\n",
    "\n",
    "print(config)"
   ]
  },
  {
   "cell_type": "code",
   "execution_count": null,
   "metadata": {},
   "outputs": [],
   "source": []
  }
 ],
 "metadata": {
  "kernelspec": {
   "display_name": "Python 3",
   "language": "python",
   "name": "python3"
  },
  "language_info": {
   "codemirror_mode": {
    "name": "ipython",
    "version": 3
   },
   "file_extension": ".py",
   "mimetype": "text/x-python",
   "name": "python",
   "nbconvert_exporter": "python",
   "pygments_lexer": "ipython3",
   "version": "3.8.5"
  }
 },
 "nbformat": 4,
 "nbformat_minor": 4
}
