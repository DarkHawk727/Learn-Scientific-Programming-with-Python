{
 "cells": [
  {
   "cell_type": "markdown",
   "source": [
    "## Q2.5.1\n",
    "----"
   ],
   "metadata": {}
  },
  {
   "cell_type": "code",
   "execution_count": 9,
   "source": [
    "a = [2, 4, 10, 6, 8, 4]\r\n",
    "\r\n",
    "for i in range(len(a)):\r\n",
    "    a[i] = (a[i] - min(a)) / (max(a) - min(a))\r\n",
    "\r\n",
    "print(a)"
   ],
   "outputs": [
    {
     "output_type": "stream",
     "name": "stdout",
     "text": [
      "[0.0, 0.4, 1.0, 0.75, 1.0, 1.0]\n"
     ]
    }
   ],
   "metadata": {}
  },
  {
   "cell_type": "markdown",
   "source": [
    "## Q2.5.2\n",
    "----"
   ],
   "metadata": {}
  },
  {
   "cell_type": "code",
   "execution_count": 12,
   "source": [
    "import math\r\n",
    "tolerance = 1.0e-14\r\n",
    "a_n = 1.0\r\n",
    "b_n = math.sqrt(2)\r\n",
    "\r\n",
    "while abs(a_n - b_n) > tolerance:\r\n",
    "    a_n = (a_n + b_n) / 2\r\n",
    "    b_n = math.sqrt(a_n * b_n)\r\n",
    "\r\n",
    "print('G = {:.14f}'.format(1/a_n))"
   ],
   "outputs": [
    {
     "output_type": "stream",
     "name": "stdout",
     "text": [
      "G = 0.78539816339745\n"
     ]
    }
   ],
   "metadata": {}
  },
  {
   "cell_type": "code",
   "execution_count": 17,
   "source": [
    "for i in range(1, 100):\r\n",
    "    if(i % 3 == 0 and i % 5 != 0):\r\n",
    "        print('Fizz')\r\n",
    "    elif(i % 5 == 0 and i % 3 != 0):\r\n",
    "        print('Buzz')\r\n",
    "    elif(i % 5 == 0 and i % 3 == 0):\r\n",
    "        print('FizzBuzz')\r\n",
    "    elif(i % 5 != 0 and i % 3 != 0):\r\n",
    "        print(i)"
   ],
   "outputs": [
    {
     "output_type": "stream",
     "name": "stdout",
     "text": [
      "1\n",
      "2\n",
      "Fizz\n",
      "4\n",
      "Buzz\n",
      "Fizz\n",
      "7\n",
      "8\n",
      "Fizz\n",
      "Buzz\n",
      "11\n",
      "Fizz\n",
      "13\n",
      "14\n",
      "FizzBuzz\n",
      "16\n",
      "17\n",
      "Fizz\n",
      "19\n",
      "Buzz\n",
      "Fizz\n",
      "22\n",
      "23\n",
      "Fizz\n",
      "Buzz\n",
      "26\n",
      "Fizz\n",
      "28\n",
      "29\n",
      "FizzBuzz\n",
      "31\n",
      "32\n",
      "Fizz\n",
      "34\n",
      "Buzz\n",
      "Fizz\n",
      "37\n",
      "38\n",
      "Fizz\n",
      "Buzz\n",
      "41\n",
      "Fizz\n",
      "43\n",
      "44\n",
      "FizzBuzz\n",
      "46\n",
      "47\n",
      "Fizz\n",
      "49\n",
      "Buzz\n",
      "Fizz\n",
      "52\n",
      "53\n",
      "Fizz\n",
      "Buzz\n",
      "56\n",
      "Fizz\n",
      "58\n",
      "59\n",
      "FizzBuzz\n",
      "61\n",
      "62\n",
      "Fizz\n",
      "64\n",
      "Buzz\n",
      "Fizz\n",
      "67\n",
      "68\n",
      "Fizz\n",
      "Buzz\n",
      "71\n",
      "Fizz\n",
      "73\n",
      "74\n",
      "FizzBuzz\n",
      "76\n",
      "77\n",
      "Fizz\n",
      "79\n",
      "Buzz\n",
      "Fizz\n",
      "82\n",
      "83\n",
      "Fizz\n",
      "Buzz\n",
      "86\n",
      "Fizz\n",
      "88\n",
      "89\n",
      "FizzBuzz\n",
      "91\n",
      "92\n",
      "Fizz\n",
      "94\n",
      "Buzz\n",
      "Fizz\n",
      "97\n",
      "98\n",
      "Fizz\n"
     ]
    }
   ],
   "metadata": {}
  },
  {
   "cell_type": "code",
   "execution_count": 19,
   "source": [
    "stoich = 'C8H18'\r\n",
    "fragments = stoich.split('H')\r\n",
    "numCarbons = int(fragments[0][1:])\r\n",
    "numHydrogens = int(fragments[1])\r\n",
    "\r\n",
    "if numHydrogens != 2 * numCarbons + 2:\r\n",
    "    print('{} is not a alkane.'.format(stoich))\r\n",
    "else:\r\n",
    "    print('H3C', end='')\r\n",
    "    for i in range(numCarbons - 2):\r\n",
    "        print('-CH2', end='')\r\n",
    "    print('-CH3')"
   ],
   "outputs": [
    {
     "output_type": "stream",
     "name": "stdout",
     "text": [
      "H3C-CH2-CH2-CH2-CH2-CH2-CH2-CH3\n"
     ]
    }
   ],
   "metadata": {}
  }
 ],
 "metadata": {
  "kernelspec": {
   "display_name": "Python 3",
   "language": "python",
   "name": "python3"
  },
  "language_info": {
   "codemirror_mode": {
    "name": "ipython",
    "version": 3
   },
   "file_extension": ".py",
   "mimetype": "text/x-python",
   "name": "python",
   "nbconvert_exporter": "python",
   "pygments_lexer": "ipython3",
   "version": "3.8.5"
  }
 },
 "nbformat": 4,
 "nbformat_minor": 4
}