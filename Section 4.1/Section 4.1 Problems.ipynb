{
 "cells": [
  {
   "cell_type": "markdown",
   "source": [
    "## P4.1.1\n",
    "----"
   ],
   "metadata": {}
  },
  {
   "cell_type": "code",
   "execution_count": 1,
   "source": [
    "data = open('C:/Users/arjun/Documents/swallow-speeds.txt', 'r')\r\n",
    "cleaned_data = []\r\n",
    "\r\n",
    "for entry in data.readlines()[4:]:\r\n",
    "    if not entry.find('#') > -1:\r\n",
    "        cleaned_data.append(float(entry.strip('\\n')))\r\n",
    "\r\n",
    "average_air_speed = sum(cleaned_data) / len(cleaned_data)\r\n",
    "\r\n",
    "print('The average air-speed velocity of and (unladen) African Swallow is: {:.3f} m/s.'.format(average_air_speed))"
   ],
   "outputs": [
    {
     "output_type": "stream",
     "name": "stdout",
     "text": [
      "The average air-speed velocity of and (unladen) African Swallow is: 10.311 m/s.\n"
     ]
    }
   ],
   "metadata": {}
  },
  {
   "cell_type": "markdown",
   "source": [
    "## P4.1.3\n",
    "----"
   ],
   "metadata": {}
  },
  {
   "cell_type": "code",
   "execution_count": 18,
   "source": [
    "def str_vector(v):\r\n",
    "    assert type(v) is list or type(v) is tuple\r\n",
    "    assert len(v) in (2, 3)\r\n",
    "    unit_vectors = ['i', 'j', 'k']\r\n",
    "    s = []\r\n",
    "    for i, component in enumerate(v):\r\n",
    "        s.append('{}{}'.format(component, unit_vectors[i]))\r\n",
    "    return ' + '.join(s).replace('+ -', '- ')\r\n",
    "\r\n",
    "print(str_vector([-2, 3.5]))\r\n",
    "print(str_vector([4, 0.5, -2]))"
   ],
   "outputs": [
    {
     "output_type": "stream",
     "name": "stdout",
     "text": [
      "-2i + 3.5j\n",
      "4i + 0.5j - 2k\n"
     ]
    }
   ],
   "metadata": {}
  },
  {
   "cell_type": "markdown",
   "source": [
    "## P4.1.3\n",
    "----"
   ],
   "metadata": {}
  },
  {
   "cell_type": "code",
   "execution_count": 4,
   "source": [
    "def powr(a, b):\r\n",
    "    if a == b == 0:\r\n",
    "        raise ValueError('0 to the power 0.')\r\n",
    "    else:\r\n",
    "        return a ** b\r\n",
    "\r\n",
    "powr(2, 5)\r\n",
    "powr(0, 0)"
   ],
   "outputs": [
    {
     "output_type": "execute_result",
     "data": {
      "text/plain": [
       "32"
      ]
     },
     "metadata": {},
     "execution_count": 4
    }
   ],
   "metadata": {}
  }
 ],
 "metadata": {
  "kernelspec": {
   "name": "python3",
   "display_name": "Python 3.8.5 64-bit ('base': conda)"
  },
  "language_info": {
   "codemirror_mode": {
    "name": "ipython",
    "version": 3
   },
   "file_extension": ".py",
   "mimetype": "text/x-python",
   "name": "python",
   "nbconvert_exporter": "python",
   "pygments_lexer": "ipython3",
   "version": "3.8.5"
  },
  "interpreter": {
   "hash": "d2bc6b4c9da03010ac150b121b41a6774448383ed127203916f2efbc81d8799e"
  }
 },
 "nbformat": 4,
 "nbformat_minor": 4
}