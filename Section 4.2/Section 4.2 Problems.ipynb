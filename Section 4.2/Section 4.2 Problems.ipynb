{
 "cells": [
  {
   "cell_type": "markdown",
   "source": [
    "## P4.2.1\n",
    "----"
   ],
   "metadata": {}
  },
  {
   "cell_type": "code",
   "execution_count": 5,
   "source": [
    "def get_resistor_values(resistor):\r\n",
    "    # Will assume all inputs are valid.\r\n",
    "    resistor_values = {'bk': tuple(['0', 1, ' ']),\r\n",
    "                       'br': tuple(['1', 10, ' ± 1%']),\r\n",
    "                       'rd': tuple(['2', 100, ' ± 2%']),\r\n",
    "                       'or': tuple(['3', 1000, ' ']), \r\n",
    "                       'yl': tuple(['4', 10000, ' ±5%']),\r\n",
    "                       'gr': tuple(['5', 100000, ' ± 0.5%']),\r\n",
    "                       'bl': tuple(['6', 1000000, ' ± 0.25%']),\r\n",
    "                       'vi': tuple(['7', 10000000, ' ± 0.1%']),\r\n",
    "                       'gy': tuple(['8', 100000000, ' ± 0.05%']),\r\n",
    "                       'wh': tuple(['9', 1000000000, ' ']),\r\n",
    "                       'au': tuple([' ', ' ', ' ±5%']),\r\n",
    "                       'ag': tuple([' ', ' ',' ±10%']),\r\n",
    "                       '--': tuple([' ', ' ',' ±20%'])}\r\n",
    "    try:\r\n",
    "        resistance = str(int(resistor_values.get(resistor[0])[0] + resistor_values.get(resistor[1])[0]) *  resistor_values.get(resistor[2])[1]) + resistor_values.get(resistor[3])[2]\r\n",
    "    except KeyError:\r\n",
    "        print('Unknown color')\r\n",
    "        return None\r\n",
    "    except IndexError:\r\n",
    "        print('Not enough colours.')\r\n",
    "        return None\r\n",
    "\r\n",
    "    return resistance\r\n",
    "\r\n",
    "get_resistor_values(['vi', 'yl', 'rd', 'gr'])"
   ],
   "outputs": [
    {
     "output_type": "execute_result",
     "data": {
      "text/plain": [
       "'7400 ± 0.5%'"
      ]
     },
     "metadata": {},
     "execution_count": 5
    }
   ],
   "metadata": {}
  },
  {
   "cell_type": "markdown",
   "source": [
    "## P4.2.2\n",
    "----"
   ],
   "metadata": {}
  },
  {
   "cell_type": "code",
   "execution_count": 16,
   "source": [
    "import matplotlib.pyplot as plt\r\n",
    "import numpy as np\r\n",
    "\r\n",
    "text = open('C:/Users/arjun/Documents/Moby-Dick.txt', encoding='utf-8')\r\n",
    "words_list = []\r\n",
    "word_frequency = {}\r\n",
    "\r\n",
    "for line in text.readlines()[29:21963]:\r\n",
    "    line = line.strip().lower()\r\n",
    "    line = line.replace('--', ' ').replace('\\'s', '').replace('&', 'and')\r\n",
    "\r\n",
    "    for c in '!?\":;,()\\'.*[]':\r\n",
    "        line = line.replace(c, '')\r\n",
    "\r\n",
    "    words_list = line.split(' ')\r\n",
    "    \r\n",
    "    for word in words_list:\r\n",
    "        if not word:\r\n",
    "            continue\r\n",
    "        try:\r\n",
    "            word_frequency[word] += 1\r\n",
    "        except KeyError:\r\n",
    "            word_frequency[word] = 1\r\n",
    "\r\n",
    "word_count = []\r\n",
    "for key, value in word_frequency.items():\r\n",
    "    word_count.append((value, key))\r\n",
    "\r\n",
    "word_count.sort(reverse=True)\r\n",
    "\r\n",
    "for i in range(100):\r\n",
    "    print('{:10s}: {:d}'.format(word_count[i][1], word_count[i][0]))\r\n",
    "\r\n",
    "\r\n",
    "\r\n"
   ],
   "outputs": [
    {
     "output_type": "stream",
     "name": "stdout",
     "text": [
      "the       : 14338\n",
      "of        : 6590\n",
      "and       : 6342\n",
      "a         : 4608\n",
      "to        : 4572\n",
      "in        : 4127\n",
      "that      : 2890\n",
      "his       : 2514\n",
      "it        : 2306\n",
      "i         : 1844\n",
      "but       : 1737\n",
      "with      : 1716\n",
      "as        : 1716\n",
      "he        : 1713\n",
      "is        : 1696\n",
      "was       : 1635\n",
      "for       : 1588\n",
      "all       : 1450\n",
      "this      : 1348\n",
      "at        : 1307\n",
      "by        : 1189\n",
      "not       : 1116\n",
      "from      : 1088\n",
      "on        : 1034\n",
      "be        : 1033\n",
      "so        : 1030\n",
      "him       : 1010\n",
      "whale     : 913\n",
      "one       : 883\n",
      "you       : 839\n",
      "had       : 776\n",
      "have      : 762\n",
      "now       : 730\n",
      "there     : 714\n",
      "or        : 710\n",
      "were      : 680\n",
      "they      : 650\n",
      "which     : 637\n",
      "their     : 619\n",
      "some      : 610\n",
      "then      : 597\n",
      "when      : 592\n",
      "me        : 592\n",
      "are       : 589\n",
      "an        : 588\n",
      "my        : 574\n",
      "like      : 571\n",
      "upon      : 562\n",
      "no        : 537\n",
      "into      : 522\n",
      "out       : 509\n",
      "up        : 502\n",
      "more      : 499\n",
      "what      : 490\n",
      "if        : 464\n",
      "them      : 454\n",
      "old       : 439\n",
      "we        : 430\n",
      "would     : 427\n",
      "been      : 415\n",
      "man       : 413\n",
      "ahab      : 404\n",
      "over      : 402\n",
      "other     : 397\n",
      "ye        : 395\n",
      "these     : 394\n",
      "will      : 383\n",
      "its       : 373\n",
      "ship      : 372\n",
      "only      : 368\n",
      "sea       : 367\n",
      "such      : 366\n",
      "though    : 360\n",
      "down      : 356\n",
      "yet       : 335\n",
      "who       : 325\n",
      "her       : 321\n",
      "any       : 320\n",
      "time      : 319\n",
      "very      : 313\n",
      "long      : 309\n",
      "chapter   : 308\n",
      "than      : 307\n",
      "still     : 307\n",
      "those     : 304\n",
      "great     : 304\n",
      "about     : 304\n",
      "said      : 294\n",
      "before    : 292\n",
      "has       : 287\n",
      "seemed    : 281\n",
      "must      : 281\n",
      "captain   : 280\n",
      "two       : 279\n",
      "most      : 279\n",
      "do        : 276\n",
      "last      : 272\n",
      "here      : 267\n",
      "whales    : 263\n",
      "head      : 263\n"
     ]
    }
   ],
   "metadata": {}
  },
  {
   "cell_type": "markdown",
   "source": [
    "## P4.2.3\n",
    "----"
   ],
   "metadata": {}
  },
  {
   "cell_type": "code",
   "execution_count": 24,
   "source": [
    "def evaluate_RPN(expression):\r\n",
    "    stack = []\r\n",
    "    \r\n",
    "    for char in expression:\r\n",
    "        if char.strip(\"-\").isnumeric():\r\n",
    "            stack.append(char)\r\n",
    "        else:\r\n",
    "            a = int(stack.pop())\r\n",
    "            b = int(stack.pop())\r\n",
    "            if char == \"+\":\r\n",
    "                stack.append(b + a)\r\n",
    "            elif char == \"-\":\r\n",
    "                stack.append(b - a)\r\n",
    "            elif char == \"*\":\r\n",
    "                stack.append(b * a)\r\n",
    "            else:\r\n",
    "                stack.append(int(float(b)/float(a)))\r\n",
    "    return int(stack.pop())\r\n",
    "    \r\n",
    "expression = input('Please enter a RPN expression (Space seperated): ')\r\n",
    "expression = expression.split(' ')\r\n",
    "evaluate_RPN(expression)"
   ],
   "outputs": [
    {
     "output_type": "stream",
     "name": "stdout",
     "text": [
      "Please enter a RPN expression (Space seperated): 2 1 + 3 *\n"
     ]
    },
    {
     "output_type": "execute_result",
     "data": {
      "text/plain": [
       "9"
      ]
     },
     "metadata": {},
     "execution_count": 24
    }
   ],
   "metadata": {}
  },
  {
   "cell_type": "markdown",
   "source": [
    "## P4.2.4\n",
    "----"
   ],
   "metadata": {}
  },
  {
   "cell_type": "code",
   "execution_count": 77,
   "source": [
    "morse = dict((\r\n",
    "('A', '.-'),\r\n",
    "('B', '-...'),\r\n",
    "('C', '-.-.'),\r\n",
    "('D', '-..'),\r\n",
    "('E', '.'),\r\n",
    "('F', '..-.'),\r\n",
    "('G', '--.'),\r\n",
    "('H', '....'),\r\n",
    "('I', '..'),\r\n",
    "('J', '.---'),\r\n",
    "('K', '-.-'),\r\n",
    "('L', '.-..'),\r\n",
    "('M', '--'),\r\n",
    "('N', '-.'),\r\n",
    "('O', '---'),\r\n",
    "('P', '.--.'),\r\n",
    "('Q', '--.-'),\r\n",
    "('R', '.-.'),\r\n",
    "('S', '...'),\r\n",
    "('T', '-'),\r\n",
    "('U', '..-'),\r\n",
    "('V', '...-'),\r\n",
    "('W', '.--'),\r\n",
    "('X', '-..-'),\r\n",
    "('Y', '-.--'),\r\n",
    "('Z', '--..'),\r\n",
    "('1', '.----'),\r\n",
    "('2', '..---'),\r\n",
    "('3', '...--'),\r\n",
    "('4', '....-'),\r\n",
    "('5', '.....'),\r\n",
    "('6', '-....'),\r\n",
    "('7', '--...'),\r\n",
    "('8', '---..'),\r\n",
    "('9', '----.'),\r\n",
    "('0', '-----'), \r\n",
    "(' ', '/')))\r\n",
    "# Made slight modification to dictionary to include spaces\r\n",
    "\r\n",
    "def plaintext_to_morse(plaintext_message):\r\n",
    "    encoded_message = ''\r\n",
    "    plaintext_message = list(plaintext_message.upper())\r\n",
    "\r\n",
    "    for i in range(len(plaintext_message)):\r\n",
    "        encoded_message += morse.get(plaintext_message[i]) + ' '\r\n",
    "\r\n",
    "    return encoded_message\r\n",
    "\r\n",
    "\r\n",
    "def morse_to_plaintext(encoded_message):\r\n",
    "    letters = list(morse.keys())\r\n",
    "    codes = list(morse.values())\r\n",
    "    plaintext_words = []\r\n",
    "\r\n",
    "    for words in encoded_message.split('/'):\r\n",
    "        plaintext_word = []\r\n",
    "        for letter in words.split(' '):\r\n",
    "            if letter:\r\n",
    "                i = codes.index(letter)\r\n",
    "                plaintext_word.append(letters[i]) \r\n",
    "        plaintext_words.append(''.join(plaintext_word))\r\n",
    "    return ' '.join(plaintext_words)\r\n",
    "\r\n",
    "print(plaintext_to_morse('python 3'))\r\n",
    "morse_to_plaintext('-- -.-- / .... --- ...- . .-. -.-. .-. .- ..-. - / .. ... / ..-. ..- .-.. .-.. / --- ..-. / . . .-.. ... ')"
   ],
   "outputs": [
    {
     "output_type": "stream",
     "name": "stdout",
     "text": [
      ".--. -.-- - .... --- -. / ...-- \n"
     ]
    },
    {
     "output_type": "execute_result",
     "data": {
      "text/plain": [
       "'MY HOVERCRAFT IS FULL OF EELS'"
      ]
     },
     "metadata": {},
     "execution_count": 77
    }
   ],
   "metadata": {}
  },
  {
   "cell_type": "markdown",
   "source": [
    "## P4.2.5\n",
    "----"
   ],
   "metadata": {}
  },
  {
   "cell_type": "code",
   "execution_count": 72,
   "source": [
    "shark_data = open(\"C:/Users/arjun/shark-species.txt\")\r\n",
    "\r\n",
    "order, family, genus, species = {}, {}, {}, {}\r\n",
    "\r\n",
    "for line in shark_data.readlines():\r\n",
    "    if line[0].isalpha():\r\n",
    "        order[line.strip('\\n').strip()] = {}\r\n",
    "    elif line[5].isalpha():\r\n",
    "        family[line.strip('\\n').strip()] = {}\r\n",
    "    elif line[9].isalpha():\r\n",
    "        genus[line.strip('\\n').strip()] = {}\r\n",
    "    else:\r\n",
    "        species[line.strip().split(':')[0].strip()] = line.strip().split(':')[1].strip()\r\n",
    "\r\n",
    "for i in genus:\r\n",
    "    genus[i] = species\r\n",
    "for i in family:\r\n",
    "    family[i] = genus\r\n",
    "for i in order:\r\n",
    "    order[i] = family\r\n",
    "    \r\n",
    "print(order['Carcharhiniformes']['Carcharhinidae']['Carcharhinus']['Carcharhinus acronotus'])"
   ],
   "outputs": [
    {
     "output_type": "stream",
     "name": "stdout",
     "text": [
      "Blacknose shark\n"
     ]
    }
   ],
   "metadata": {}
  }
 ],
 "metadata": {
  "kernelspec": {
   "name": "python3",
   "display_name": "Python 3.8.5 64-bit ('base': conda)"
  },
  "language_info": {
   "codemirror_mode": {
    "name": "ipython",
    "version": 3
   },
   "file_extension": ".py",
   "mimetype": "text/x-python",
   "name": "python",
   "nbconvert_exporter": "python",
   "pygments_lexer": "ipython3",
   "version": "3.8.5"
  },
  "interpreter": {
   "hash": "d2bc6b4c9da03010ac150b121b41a6774448383ed127203916f2efbc81d8799e"
  }
 },
 "nbformat": 4,
 "nbformat_minor": 4
}