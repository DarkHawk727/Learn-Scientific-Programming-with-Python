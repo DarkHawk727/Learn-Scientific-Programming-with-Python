{
 "cells": [
  {
   "cell_type": "markdown",
   "metadata": {},
   "source": [
    "## Q4.3.1\n",
    "----"
   ]
  },
  {
   "cell_type": "code",
   "execution_count": 1,
   "metadata": {},
   "outputs": [],
   "source": [
    "function = [lambda x, i=i: x**i for i in range(4)]"
   ]
  },
  {
   "cell_type": "markdown",
   "metadata": {},
   "source": [
    "## Q4.3.2\n",
    "----"
   ]
  },
  {
   "cell_type": "code",
   "execution_count": 4,
   "metadata": {},
   "outputs": [
    {
     "name": "stdout",
     "output_type": "stream",
     "text": [
      "[1]\n",
      "[1, 1]\n",
      "[1, 2, 1]\n",
      "[1, 3, 3, 1]\n",
      "[1, 4, 6, 4, 1]\n",
      "[1, 5, 10, 10, 5, 1]\n"
     ]
    }
   ],
   "source": [
    "nmax = 5\n",
    "x = [1]\n",
    "for n in range(1, nmax+2):\n",
    "    print(x)\n",
    "    x = [([0] + x)[i] + (x + [0])[i] for i in range(n+1)]\n",
    "# Prints out a right aligned, Pascal's triangle."
   ]
  },
  {
   "cell_type": "markdown",
   "metadata": {},
   "source": [
    "## Q4.3.3\n",
    "----"
   ]
  },
  {
   "cell_type": "code",
   "execution_count": 9,
   "metadata": {},
   "outputs": [],
   "source": [
    "a = ['A', 'B', 'C', 'D', 'E', 'F', 'G']\n",
    "b = [4, 2, 6, 1, 5, 0, 3]"
   ]
  },
  {
   "cell_type": "markdown",
   "metadata": {},
   "source": [
    "```py \n",
    "[a[x] for x in b]\n",
    "```\n",
    "This lists out the elements in `a` at the index of `b` `(a[4], a[2], a[6]...)`."
   ]
  },
  {
   "cell_type": "markdown",
   "metadata": {},
   "source": [
    "```py \n",
    "[a[x] for x in sorted(b)]\n",
    "```\n",
    "This lists out the elements in `a` at the index of `b` once it has been sorted `(a[0], a[1], a[2]...)`."
   ]
  },
  {
   "cell_type": "markdown",
   "metadata": {},
   "source": [
    "```py \n",
    "[a[b[x]] for x in b]\n",
    "```\n",
    "This lists out the elements by index of the `x`th element in `b` `(a[5], a[6], a[3]...)`."
   ]
  },
  {
   "cell_type": "markdown",
   "metadata": {},
   "source": [
    "```py \n",
    "[x for (y, x) in sorted(zip(b, a))]\n",
    "```\n",
    "This creates a list of tuples `(a[i], b[i])` then prints the element in `a` which corresponds to the ordered element in `b`."
   ]
  },
  {
   "cell_type": "markdown",
   "metadata": {},
   "source": [
    "## Q4.3.4\n",
    "----"
   ]
  },
  {
   "cell_type": "code",
   "execution_count": 13,
   "metadata": {},
   "outputs": [
    {
     "name": "stdout",
     "output_type": "stream",
     "text": [
      "[('a', 3), ('b', 4), ('c', 2), ('d', 1), ('e', 5)]\n",
      "[('d', 1), ('c', 2), ('a', 3), ('b', 4), ('e', 5)]\n"
     ]
    }
   ],
   "source": [
    "dictionary = {'d' : 1, 'b' : 4,'a' : 3, 'c' : 2, 'e' : 5}\n",
    "\n",
    "print(sorted(dictionary.items()))\n",
    "print(sorted(dictionary.items(), key=lambda x: x[1]))"
   ]
  },
  {
   "cell_type": "markdown",
   "metadata": {},
   "source": [
    "## Q4.3.5\n",
    "----"
   ]
  },
  {
   "cell_type": "code",
   "execution_count": 14,
   "metadata": {},
   "outputs": [
    {
     "data": {
      "text/plain": [
       "'000-243-0751'"
      ]
     },
     "execution_count": 14,
     "metadata": {},
     "output_type": "execute_result"
    }
   ],
   "source": [
    "''.join(['5987604321'[int(i)] if i.isdigit() else '-' for i in '555-867-5309'])"
   ]
  },
  {
   "cell_type": "markdown",
   "metadata": {},
   "source": [
    "## Q4.3.6\n",
    "----"
   ]
  },
  {
   "cell_type": "code",
   "execution_count": 18,
   "metadata": {},
   "outputs": [
    {
     "data": {
      "text/plain": [
       "[1, 1, 1, 2, 2, 4, 5, 8, 9, None, None]"
      ]
     },
     "execution_count": 18,
     "metadata": {},
     "output_type": "execute_result"
    }
   ],
   "source": [
    "example_list = [8, 4, 9, 1, 1, None, 2, None, 1, 2, 5]\n",
    "\n",
    "sorted(example_list, key=lambda x: (x is None, x))"
   ]
  },
  {
   "cell_type": "markdown",
   "metadata": {},
   "source": [
    "## Q4.3.7\n",
    "----"
   ]
  },
  {
   "cell_type": "code",
   "execution_count": 33,
   "metadata": {
    "scrolled": true
   },
   "outputs": [
    {
     "name": "stdout",
     "output_type": "stream",
     "text": [
      "6765\n"
     ]
    }
   ],
   "source": [
    "# a)\n",
    "a, b, n = 0, 1, 0\n",
    "\n",
    "while num[-1] < 5000:\n",
    "    num = [a, b] + [b := a + (a := b) for _ in range(n)]\n",
    "    n += 1\n",
    "print(num[-1])"
   ]
  },
  {
   "cell_type": "code",
   "execution_count": 2,
   "metadata": {},
   "outputs": [
    {
     "name": "stdout",
     "output_type": "stream",
     "text": [
      "Please enter some text: ARJUN\n",
      "arjun\n",
      "Please enter some text: HELLO World\n",
      "hello world\n",
      "Please enter some text: quit\n"
     ]
    }
   ],
   "source": [
    "# b)\n",
    "\n",
    "while (text := input('Please enter some text: ')) != 'quit':\n",
    "    print(text.lower())"
   ]
  }
 ],
 "metadata": {
  "kernelspec": {
   "display_name": "Python 3",
   "language": "python",
   "name": "python3"
  },
  "language_info": {
   "codemirror_mode": {
    "name": "ipython",
    "version": 3
   },
   "file_extension": ".py",
   "mimetype": "text/x-python",
   "name": "python",
   "nbconvert_exporter": "python",
   "pygments_lexer": "ipython3",
   "version": "3.8.5"
  }
 },
 "nbformat": 4,
 "nbformat_minor": 4
}
