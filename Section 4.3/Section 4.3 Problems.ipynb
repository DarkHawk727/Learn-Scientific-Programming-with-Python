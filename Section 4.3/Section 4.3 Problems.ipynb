{
 "cells": [
  {
   "cell_type": "markdown",
   "source": [
    "## P4.3.1\n",
    "----"
   ],
   "metadata": {}
  },
  {
   "cell_type": "code",
   "execution_count": 8,
   "source": [
    "matrix = [[4, 3, 8], [9, 5, 1], [2, 7, 6]]\r\n",
    "\r\n",
    "trace = sum([matrix[i][i] for i in range(len(matrix))])\r\n",
    "\r\n",
    "print(trace)"
   ],
   "outputs": [
    {
     "output_type": "stream",
     "name": "stdout",
     "text": [
      "15\n"
     ]
    }
   ],
   "metadata": {}
  },
  {
   "cell_type": "markdown",
   "source": [
    "## P4.3.2\n",
    "----"
   ],
   "metadata": {}
  },
  {
   "cell_type": "code",
   "execution_count": 19,
   "source": [
    "# a)\r\n",
    "\r\n",
    "word = input('Please enter a word you wish to encrypt: ').lower()\r\n",
    "nums = [ord(i) for i in word]\r\n",
    "\r\n",
    "encryptor = lambda x: x + 13 if x < 122 -13 else x-26+13\r\n",
    "encrypted_message = [encryptor(i) for i in nums]\r\n",
    "\r\n",
    "print(''.join([chr(i) for i in encrypted_message]))"
   ],
   "outputs": [
    {
     "output_type": "stream",
     "name": "stdout",
     "text": [
      "Please enter a word you wish to encrypt: hello\n",
      "uryyb\n"
     ]
    }
   ],
   "metadata": {}
  },
  {
   "cell_type": "code",
   "execution_count": 1,
   "source": [
    "# b)\r\n",
    "\r\n",
    "word = input('Please enter a word you wish to encrypt: ').lower()\r\n",
    "nums = [ord(i) for i in word]\r\n",
    "\r\n",
    "encryptor = lambda x: x + 13 if x < 122 -13 else x-26+13\r\n",
    "encrypted_message = [encryptor(i) for i in nums]\r\n",
    "\r\n",
    "print(''.join([chr(i) for i in encrypted_message]).replace('-', ' '))"
   ],
   "outputs": [
    {
     "output_type": "stream",
     "name": "stdout",
     "text": [
      "\n"
     ]
    }
   ],
   "metadata": {}
  },
  {
   "cell_type": "markdown",
   "source": [
    "## P4.3.3\n",
    "----"
   ],
   "metadata": {}
  },
  {
   "cell_type": "code",
   "execution_count": 3,
   "source": [
    "rule = [30 // 2**i % 2 for i  in range(8)]\r\n",
    "\r\n",
    "width = 80\r\n",
    "n_gens = 32\r\n",
    "\r\n",
    "prev_row = [0] * width\r\n",
    "prev_row[39] = 1\r\n",
    "\r\n",
    "curr_row = [0] * width\r\n",
    "\r\n",
    "def line(row):\r\n",
    "    return ''.join(['*' if cell else ' ' for cell in row])\r\n",
    "\r\n",
    "print(line(curr_row))\r\n",
    "\r\n",
    "for gen in range(n_gens):\r\n",
    "    for i in range(1, width - 1):\r\n",
    "        curr_row[i] = rule[4 * prev_row[i - 1] + 2 * prev_row[i] + prev_row[i + 1]]\r\n",
    "    print(line(curr_row))\r\n",
    "\r\n",
    "    prev_row = curr_row[:]"
   ],
   "outputs": [
    {
     "output_type": "stream",
     "name": "stdout",
     "text": [
      "                                                                                \n",
      "                                      ***                                       \n",
      "                                     **  *                                      \n",
      "                                    ** ****                                     \n",
      "                                   **  *   *                                    \n",
      "                                  ** **** ***                                   \n",
      "                                 **  *    *  *                                  \n",
      "                                ** ****  ******                                 \n",
      "                               **  *   ***     *                                \n",
      "                              ** **** **  *   ***                               \n",
      "                             **  *    * **** **  *                              \n",
      "                            ** ****  ** *    * ****                             \n",
      "                           **  *   ***  **  ** *   *                            \n",
      "                          ** **** **  *** ***  ** ***                           \n",
      "                         **  *    * ***   *  ***  *  *                          \n",
      "                        ** ****  ** *  * *****  *******                         \n",
      "                       **  *   ***  **** *    ***      *                        \n",
      "                      ** **** **  ***    **  **  *    ***                       \n",
      "                     **  *    * ***  *  ** *** ****  **  *                      \n",
      "                    ** ****  ** *  ******  *   *   *** ****                     \n",
      "                   **  *   ***  ****     **** *** **   *   *                    \n",
      "                  ** **** **  ***   *   **    *   * * *** ***                   \n",
      "                 **  *    * ***  * *** ** *  *** ** * *   *  *                  \n",
      "                ** ****  ** *  *** *   *  ****   *  * ** ******                 \n",
      "               **  *   ***  ****   ** *****   * ***** *  *     *                \n",
      "              ** **** **  ***   * **  *    * ** *     *****   ***               \n",
      "             **  *    * ***  * ** * ****  ** *  **   **    * **  *              \n",
      "            ** ****  ** *  *** *  * *   ***  **** * ** *  ** * ****             \n",
      "           **  *   ***  ****   **** ** **  ***    * *  ****  * *   *            \n",
      "          ** **** **  ***   * **    *  * ***  *  ** ****   *** ** ***           \n",
      "         **  *    * ***  * ** * *  ***** *  ******  *   * **   *  *  *          \n",
      "        ** ****  ** *  *** *  * ****     ****     **** ** * * *********         \n",
      "       **  *   ***  ****   **** *   *   **   *   **    *  * * *        *        \n"
     ]
    }
   ],
   "metadata": {}
  },
  {
   "cell_type": "markdown",
   "source": [
    "## P4.3.4\n",
    "----"
   ],
   "metadata": {}
  },
  {
   "cell_type": "code",
   "execution_count": 24,
   "source": [
    "with open('C:/Users/arjun/iban-lengths.txt') as file:\r\n",
    "    iban_lengths = {key: int(value) for key, value in [line.split() for line in file]}\r\n",
    "print(iban_lengths)"
   ],
   "outputs": [
    {
     "output_type": "stream",
     "name": "stdout",
     "text": [
      "{'AL': 28, 'AD': 24, 'AT': 20, 'BE': 16, 'BA': 20, 'BR': 29, 'BG': 22, 'HR': 21, 'CY': 28, 'CZ': 24, 'DK': 18, 'EE': 20, 'FO': 18, 'FI': 18, 'FR': 27, 'GE': 22, 'DE': 22, 'GI': 23, 'GR': 27, 'GL': 18, 'HU': 28, 'IS': 26, 'IE': 22, 'IL': 23, 'IT': 27, 'JO': 30, 'KW': 30, 'LV': 21, 'LB': 28, 'LI': 21, 'LT': 20, 'LU': 20, 'MK': 19, 'MT': 31, 'MU': 30, 'MD': 24, 'MC': 27, 'ME': 22, 'NL': 18, 'NO': 15, 'PK': 24, 'PS': 29, 'PL': 28, 'PT': 25, 'QA': 29, 'AZ': 28, 'RO': 24, 'SM': 27, 'SA': 24, 'RS': 22, 'SK': 24, 'SI': 19, 'ES': 24, 'SE': 24, 'CH': 21, 'TN': 24, 'TR': 26, 'GB': 22}\n"
     ]
    }
   ],
   "metadata": {}
  },
  {
   "cell_type": "markdown",
   "source": [
    "## P4.3.5\n",
    "----"
   ],
   "metadata": {}
  },
  {
   "cell_type": "code",
   "execution_count": 41,
   "source": [
    "# Bitshifting go brr.\r\n",
    "def power_set(s):\r\n",
    "    x = len(s)\r\n",
    "    for i in range(1 << x):\r\n",
    "        print([s[j] for j in range(x) if (i & (1 << j))], end=', ')\r\n",
    "power_set([1, 2, 3])"
   ],
   "outputs": [
    {
     "output_type": "stream",
     "name": "stdout",
     "text": [
      "[], [1], [2], [1, 2], [3], [1, 3], [2, 3], [1, 2, 3], "
     ]
    }
   ],
   "metadata": {}
  },
  {
   "cell_type": "markdown",
   "source": [
    "## P4.3.6\n",
    "----"
   ],
   "metadata": {}
  },
  {
   "cell_type": "code",
   "execution_count": 11,
   "source": [
    "import os\r\n",
    "\r\n",
    "def read_words(filename):\r\n",
    "    words_list = []\r\n",
    "    with open(filename, 'r') as corpus:\r\n",
    "        for line in corpus.readlines():\r\n",
    "            for position in line.split():\r\n",
    "                try:\r\n",
    "                    word, position = position.split('/')\r\n",
    "                except ValueError:\r\n",
    "                    continue\r\n",
    "                word = word.lower()\r\n",
    "                if not word.isalpha():\r\n",
    "                    continue\r\n",
    "                if position.startswith('fw') or position.startswith('np'):\r\n",
    "                    continue\r\n",
    "                words_list.append(word)\r\n",
    "    return words_list\r\n",
    "\r\n",
    "\r\n",
    "def count_letter_pairs(words_list, letter_pair_count, max_word_len):\r\n",
    "    for word in words_list:\r\n",
    "        word_len = len(word)\r\n",
    "        if word_len > max_word_len:\r\n",
    "            continue\r\n",
    "        for i in range(word_len - 1):\r\n",
    "            letter_pair = word[i:i+2]\r\n",
    "            try:\r\n",
    "                letter_pair_dict = letter_pair_count[word_len][letter_pair]\r\n",
    "            except KeyError:\r\n",
    "                letter_pair_dict = letter_pair_count[word_len][letter_pair] = {}\r\n",
    "            try:\r\n",
    "                letter_pair_dict[word] += 1\r\n",
    "            except KeyError:\r\n",
    "                letter_pair_dict[word] = 1  \r\n",
    "\r\n",
    "\r\n",
    "def get_letter_pair_counts(corpus_filepaths, max_word_len=16):\r\n",
    "    letter_pair_count = [{} for word_len in range(max_word_len+1)]\r\n",
    "    for corpus_filepath in corpus_filepaths:\r\n",
    "        words = read_words(corpus_filepath)\r\n",
    "        count_letter_pairs(words, letter_pair_count, max_word_len) \r\n",
    "    counts = [None, None]\r\n",
    "    for word_len in range(2, max_word_len + 1):\r\n",
    "        counts.append(sorted(letter_pair_count[word_len].items()))\r\n",
    "\r\n",
    "    return counts\r\n",
    "\r\n",
    "\r\n",
    "def get_corpus_filepath(brown_dir):\r\n",
    "    corpus_paths = []\r\n",
    "    for filename in os.listdir(brown_dir):\r\n",
    "        if filename.startswith('.'):\r\n",
    "            continue\r\n",
    "        corpus_paths.append(os.path.join(brown_dir, filename))\r\n",
    "    return corpus_paths\r\n",
    "\r\n",
    "brown_dir = 'C:/Users/arjun/Desktop/brown'\r\n",
    "corpus_filepaths = get_corpus_filepath(brown_dir)\r\n",
    "\r\n",
    "counts = get_letter_pair_counts(corpus_filepaths, max_word_len=8)\r\n",
    "for letter_pair, word_dict in counts[8]:\r\n",
    "    if len(word_dict) == 2:\r\n",
    "        print('{}: {}'.format(letter_pair, word_dict))\r\n"
   ],
   "outputs": [
    {
     "output_type": "stream",
     "name": "stdout",
     "text": [
      "aj: {'majority': 57, 'majestic': 10}\n",
      "bn: {'numbness': 2, 'abnormal': 3}\n",
      "bp: {'subpenas': 1, 'subparts': 1}\n",
      "dc: {'seedcoat': 1, 'redcoats': 9}\n",
      "dp: {'tadpoles': 1, 'midpoint': 1}\n",
      "hh: {'withheld': 8, 'withhold': 2}\n",
      "hp: {'southpaw': 5, 'fishpond': 1}\n",
      "ih: {'nihilism': 1, 'nihilist': 2}\n",
      "ji: {'jingling': 1, 'jiggling': 1}\n",
      "kb: {'backbone': 4, 'backbend': 1}\n",
      "kd: {'backdrop': 2, 'jackdaws': 1}\n",
      "kf: {'thankful': 6, 'cookfire': 1}\n",
      "kh: {'sinkhole': 1, 'bulkhead': 1}\n",
      "km: {'bunkmate': 1, 'stickman': 1}\n",
      "kr: {'bankrupt': 5, 'sickroom': 1}\n",
      "kt: {'cocktail': 25, 'tektites': 5}\n",
      "ku: {'breakups': 1, 'skullcap': 3}\n",
      "ky: {'backyard': 2, 'skylight': 1}\n",
      "mr: {'shamrock': 3, 'comrades': 10}\n",
      "mt: {'boomtown': 1, 'undreamt': 1}\n",
      "pb: {'snapback': 1, 'cupboard': 2}\n",
      "pc: {'topcoats': 1, 'upcoming': 1}\n",
      "pd: {'trapdoor': 1, 'tapdance': 1}\n",
      "pf: {'leapfrog': 2, 'campfire': 2}\n",
      "pw: {'stepwise': 3, 'shopworn': 1}\n",
      "uk: {'leukemia': 3, 'lukewarm': 5}\n",
      "ux: {'luxuries': 3, 'tuxedoed': 1}\n",
      "uz: {'puzzling': 9, 'suzerain': 2}\n",
      "wc: {'newcomer': 7, 'showcase': 3}\n",
      "xr: {'xreserve': 1, 'xrelease': 2}\n",
      "yf: {'whyfores': 1, 'joyfully': 1}\n",
      "yh: {'ballyhoo': 1, 'babyhood': 1}\n",
      "yu: {'picayune': 1, 'yugoslav': 7}\n"
     ]
    }
   ],
   "metadata": {}
  }
 ],
 "metadata": {
  "kernelspec": {
   "name": "python3",
   "display_name": "Python 3.8.5 64-bit ('base': conda)"
  },
  "language_info": {
   "codemirror_mode": {
    "name": "ipython",
    "version": 3
   },
   "file_extension": ".py",
   "mimetype": "text/x-python",
   "name": "python",
   "nbconvert_exporter": "python",
   "pygments_lexer": "ipython3",
   "version": "3.8.5"
  },
  "interpreter": {
   "hash": "d2bc6b4c9da03010ac150b121b41a6774448383ed127203916f2efbc81d8799e"
  }
 },
 "nbformat": 4,
 "nbformat_minor": 4
}