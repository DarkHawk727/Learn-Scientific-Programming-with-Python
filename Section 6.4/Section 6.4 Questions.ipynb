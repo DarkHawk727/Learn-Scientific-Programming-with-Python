{
 "cells": [
  {
   "cell_type": "markdown",
   "metadata": {},
   "source": [
    "## Q6.4.1\n",
    "-----"
   ]
  },
  {
   "cell_type": "markdown",
   "metadata": {},
   "source": [
    "```py\n",
    "Polynomial((-7, 2, 0, 3)).deriv(3) == 18\n",
    "# Returns False\n",
    "```\n",
    "This expression returns false as the type of the expression is the numpy polynomial class, not an integer.\n",
    "\n",
    "```py\n",
    "x = Polynomial((-7, 2, 0, 3)).deriv(3) == 18\n",
    "print(type(type(x)))\n",
    "```\n",
    "Running the preceding code would give the output:\n",
    "`<class 'numpy.polynomial.polynomial.Polynomial'>`\n"
   ]
  },
  {
   "cell_type": "markdown",
   "metadata": {},
   "source": [
    "## Q6.4.2\n",
    "-----"
   ]
  },
  {
   "cell_type": "code",
   "execution_count": 12,
   "metadata": {},
   "outputs": [
    {
     "name": "stdout",
     "output_type": "stream",
     "text": [
      "The expanded and simplified polynomial is: 170.0 - 36.0 x**1 - 34.0 x**2 + 4.0 x**3 + 2.0 x**4\n",
      "The derivative of the polynomial is: -36.0 - 68.0 x**1 + 12.0 x**2 + 8.0 x**3\n",
      "The roots of the derivative are: [-3.54138127 -0.5         2.54138127]\n"
     ]
    }
   ],
   "source": [
    "import numpy as np\n",
    "\n",
    "\n",
    "f = np.polynomial.Polynomial([-11, 1, 1])**2 + np.polynomial.Polynomial([-7, 1, 1])**2\n",
    "f_prime = f.deriv()\n",
    "roots = f_prime.roots()\n",
    "\n",
    "print(f\"The expanded and simplified polynomial is: {f}\")\n",
    "print(f\"The derivative of the polynomial is: {f_prime}\")\n",
    "print(f\"The roots of the derivative are: {roots}\")\n"
   ]
  }
 ],
 "metadata": {
  "interpreter": {
   "hash": "26de051ba29f2982a8de78e945f0abaf191376122a1563185a90213a26c5da77"
  },
  "kernelspec": {
   "display_name": "Python 3.10.4 64-bit",
   "language": "python",
   "name": "python3"
  },
  "language_info": {
   "codemirror_mode": {
    "name": "ipython",
    "version": 3
   },
   "file_extension": ".py",
   "mimetype": "text/x-python",
   "name": "python",
   "nbconvert_exporter": "python",
   "pygments_lexer": "ipython3",
   "version": "3.10.4"
  },
  "orig_nbformat": 4
 },
 "nbformat": 4,
 "nbformat_minor": 2
}
