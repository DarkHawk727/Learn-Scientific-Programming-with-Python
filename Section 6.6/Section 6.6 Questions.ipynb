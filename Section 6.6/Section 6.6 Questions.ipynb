{
 "cells": [
  {
   "cell_type": "markdown",
   "metadata": {},
   "source": [
    "## Q6.6.1\n",
    "-----"
   ]
  },
  {
   "cell_type": "markdown",
   "metadata": {},
   "source": [
    "```py\n",
    "import numpy as np\n",
    "\n",
    "a = np.array([6, 6, 6, 7, 7, 7, 7, 7, 7])\n",
    "a[np.random.randint(len(a), size=5)]\n",
    "print(a)\n",
    "```\n",
    "The preceding code randomly *selects* 5 elements from the array `a` and returns them.\n",
    "\n",
    "```py\n",
    "import numpy as np\n",
    "\n",
    "a = np.random.randint(6, 8, size=5)\n",
    "print(a)\n",
    "```\n",
    "The preceding code randomly *generates* 5 integers between 6 and 7."
   ]
  },
  {
   "cell_type": "markdown",
   "metadata": {},
   "source": [
    "## Q6.6.2\n",
    "-----"
   ]
  },
  {
   "cell_type": "markdown",
   "metadata": {},
   "source": [
    "import numpy as np\n",
    "\n",
    "a, b, n = 0.5, 3.5, 4.0\n",
    "\n",
    "rand_nums = a + (b - a) * (np.random.randint(0, n, size=10) - 1.0) / (n - 1.0)\n",
    "print(rand_nums)\n"
   ]
  },
  {
   "cell_type": "markdown",
   "metadata": {},
   "source": [
    "## Q6.6.3\n",
    "-----"
   ]
  },
  {
   "cell_type": "code",
   "execution_count": 9,
   "metadata": {},
   "outputs": [
    {
     "name": "stdout",
     "output_type": "stream",
     "text": [
      "Your lottery numbers are: [ 1 27 38 24 62  7]\n"
     ]
    }
   ],
   "source": [
    "import numpy as np\n",
    "\n",
    "lottery_nums = np.concatenate((np.random.randint(0, 70, size=5), np.random.randint(0, 25, size=1)), axis=0)\n",
    "print(f\"Your lottery numbers are: {lottery_nums}\")\n"
   ]
  },
  {
   "cell_type": "markdown",
   "metadata": {},
   "source": [
    "## Q6.6.4\n",
    "-----"
   ]
  },
  {
   "cell_type": "code",
   "execution_count": 38,
   "metadata": {},
   "outputs": [
    {
     "name": "stdout",
     "output_type": "stream",
     "text": [
      "The probability of at least 3 errors per page using the Binomial Distribution is: 0.047779999999999996\n",
      "The probability of at least 3 errors per page using the Poisson Distribution is: 0.04742\n"
     ]
    }
   ],
   "source": [
    "import numpy as np\n",
    "import matplotlib.pyplot as plt\n",
    "\n",
    "# Binomial Distribution\n",
    "n, m = 500, 400\n",
    "q = 3\n",
    "p = 1.0 / n\n",
    "\n",
    "errors_per_page = np.random.binomial(m, p, size=(100, n))\n",
    "average_q = np.sum(errors_per_page >= q) / n / 100\n",
    "\n",
    "print(\n",
    "    f\"The probability of at least {q} errors per page using the Binomial Distribution is: {average_q}\"\n",
    ")\n",
    "\n",
    "# Poisson Distribution\n",
    "lam = m / n\n",
    "poisson = 1\n",
    "term = 1\n",
    "\n",
    "for k in range(1, q):\n",
    "    term *= lam / k\n",
    "    poisson += term\n",
    "poisson = 1 - np.exp(-lam) * poisson\n",
    "\n",
    "print(\n",
    "    f\"The probability of at least {q} errors per page using the Poisson Distribution is: {poisson:.5f}\"\n",
    ")\n"
   ]
  }
 ],
 "metadata": {
  "kernelspec": {
   "display_name": "Python 3.10.4 64-bit",
   "language": "python",
   "name": "python3"
  },
  "language_info": {
   "codemirror_mode": {
    "name": "ipython",
    "version": 3
   },
   "file_extension": ".py",
   "mimetype": "text/x-python",
   "name": "python",
   "nbconvert_exporter": "python",
   "pygments_lexer": "ipython3",
   "version": "3.10.4"
  },
  "orig_nbformat": 4,
  "vscode": {
   "interpreter": {
    "hash": "26de051ba29f2982a8de78e945f0abaf191376122a1563185a90213a26c5da77"
   }
  }
 },
 "nbformat": 4,
 "nbformat_minor": 2
}
